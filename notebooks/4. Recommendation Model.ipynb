{
 "cells": [
  {
   "attachments": {},
   "cell_type": "markdown",
   "metadata": {},
   "source": [
    "# Importing labraries and data loading"
   ]
  },
  {
   "cell_type": "code",
   "execution_count": 1,
   "metadata": {},
   "outputs": [],
   "source": [
    "import pandas as pd\n",
    "import numpy as np\n",
    "import ast\n",
    "from unidecode import unidecode\n",
    "import re\n",
    "from sklearn.decomposition import TruncatedSVD\n",
    "from sklearn.feature_extraction.text import TfidfVectorizer\n",
    "from sklearn.metrics.pairwise import cosine_similarity "
   ]
  },
  {
   "cell_type": "code",
   "execution_count": 2,
   "metadata": {},
   "outputs": [
    {
     "data": {
      "text/html": [
       "<div>\n",
       "<style scoped>\n",
       "    .dataframe tbody tr th:only-of-type {\n",
       "        vertical-align: middle;\n",
       "    }\n",
       "\n",
       "    .dataframe tbody tr th {\n",
       "        vertical-align: top;\n",
       "    }\n",
       "\n",
       "    .dataframe thead th {\n",
       "        text-align: right;\n",
       "    }\n",
       "</style>\n",
       "<table border=\"1\" class=\"dataframe\">\n",
       "  <thead>\n",
       "    <tr style=\"text-align: right;\">\n",
       "      <th></th>\n",
       "      <th>budget</th>\n",
       "      <th>id</th>\n",
       "      <th>original_language</th>\n",
       "      <th>overview</th>\n",
       "      <th>popularity</th>\n",
       "      <th>release_date</th>\n",
       "      <th>revenue</th>\n",
       "      <th>runtime</th>\n",
       "      <th>title</th>\n",
       "      <th>vote_average</th>\n",
       "      <th>...</th>\n",
       "      <th>collection</th>\n",
       "      <th>genres_list</th>\n",
       "      <th>spoken_languages_list</th>\n",
       "      <th>production_companies_list</th>\n",
       "      <th>production_countries_list</th>\n",
       "      <th>release_year</th>\n",
       "      <th>return</th>\n",
       "      <th>release_month</th>\n",
       "      <th>release_day</th>\n",
       "      <th>directors</th>\n",
       "    </tr>\n",
       "  </thead>\n",
       "  <tbody>\n",
       "    <tr>\n",
       "      <th>0</th>\n",
       "      <td>30000000.0</td>\n",
       "      <td>862</td>\n",
       "      <td>en</td>\n",
       "      <td>Led by Woody, Andy's toys live happily in his ...</td>\n",
       "      <td>21.946943</td>\n",
       "      <td>1995-10-30</td>\n",
       "      <td>373554033.0</td>\n",
       "      <td>81.0</td>\n",
       "      <td>Toy Story</td>\n",
       "      <td>7.7</td>\n",
       "      <td>...</td>\n",
       "      <td>Toy Story Collection</td>\n",
       "      <td>['Animation', 'Comedy', 'Family']</td>\n",
       "      <td>['en']</td>\n",
       "      <td>['Pixar Animation Studios']</td>\n",
       "      <td>['US']</td>\n",
       "      <td>1995</td>\n",
       "      <td>12.45</td>\n",
       "      <td>octubre</td>\n",
       "      <td>lunes</td>\n",
       "      <td>['John Lasseter']</td>\n",
       "    </tr>\n",
       "    <tr>\n",
       "      <th>1</th>\n",
       "      <td>65000000.0</td>\n",
       "      <td>8844</td>\n",
       "      <td>en</td>\n",
       "      <td>When siblings Judy and Peter discover an encha...</td>\n",
       "      <td>17.015539</td>\n",
       "      <td>1995-12-15</td>\n",
       "      <td>262797249.0</td>\n",
       "      <td>104.0</td>\n",
       "      <td>Jumanji</td>\n",
       "      <td>6.9</td>\n",
       "      <td>...</td>\n",
       "      <td>NaN</td>\n",
       "      <td>['Adventure', 'Fantasy', 'Family']</td>\n",
       "      <td>['en', 'fr']</td>\n",
       "      <td>['TriStar Pictures', 'Teitler Film', 'Intersco...</td>\n",
       "      <td>['US']</td>\n",
       "      <td>1995</td>\n",
       "      <td>4.04</td>\n",
       "      <td>diciembre</td>\n",
       "      <td>viernes</td>\n",
       "      <td>['Joe Johnston']</td>\n",
       "    </tr>\n",
       "  </tbody>\n",
       "</table>\n",
       "<p>2 rows × 21 columns</p>\n",
       "</div>"
      ],
      "text/plain": [
       "       budget    id original_language  \\\n",
       "0  30000000.0   862                en   \n",
       "1  65000000.0  8844                en   \n",
       "\n",
       "                                            overview  popularity release_date  \\\n",
       "0  Led by Woody, Andy's toys live happily in his ...   21.946943   1995-10-30   \n",
       "1  When siblings Judy and Peter discover an encha...   17.015539   1995-12-15   \n",
       "\n",
       "       revenue  runtime      title  vote_average  ...            collection  \\\n",
       "0  373554033.0     81.0  Toy Story           7.7  ...  Toy Story Collection   \n",
       "1  262797249.0    104.0    Jumanji           6.9  ...                   NaN   \n",
       "\n",
       "                          genres_list spoken_languages_list  \\\n",
       "0   ['Animation', 'Comedy', 'Family']                ['en']   \n",
       "1  ['Adventure', 'Fantasy', 'Family']          ['en', 'fr']   \n",
       "\n",
       "                           production_companies_list  \\\n",
       "0                        ['Pixar Animation Studios']   \n",
       "1  ['TriStar Pictures', 'Teitler Film', 'Intersco...   \n",
       "\n",
       "  production_countries_list release_year  return  release_month release_day  \\\n",
       "0                    ['US']         1995   12.45        octubre       lunes   \n",
       "1                    ['US']         1995    4.04      diciembre     viernes   \n",
       "\n",
       "           directors  \n",
       "0  ['John Lasseter']  \n",
       "1   ['Joe Johnston']  \n",
       "\n",
       "[2 rows x 21 columns]"
      ]
     },
     "execution_count": 2,
     "metadata": {},
     "output_type": "execute_result"
    }
   ],
   "source": [
    "df_movies = pd.read_csv(\"../processed_data/movies.csv\")\n",
    "df_movies.head(2)"
   ]
  },
  {
   "cell_type": "code",
   "execution_count": 3,
   "metadata": {},
   "outputs": [
    {
     "data": {
      "text/plain": [
       "str"
      ]
     },
     "execution_count": 3,
     "metadata": {},
     "output_type": "execute_result"
    }
   ],
   "source": [
    "# the type of the registers in these colums are string, needs to be converted to list\n",
    "\n",
    "type(df_movies[\"genres_list\"][0])"
   ]
  },
  {
   "attachments": {},
   "cell_type": "markdown",
   "metadata": {},
   "source": [
    "As it's already said in the data cleaning phase, with AST library is possible to convert strings that represent an specific data structure to that data structure, like lists in this case."
   ]
  },
  {
   "cell_type": "code",
   "execution_count": 4,
   "metadata": {},
   "outputs": [],
   "source": [
    "df_movies[\"genres_list\"] = [x if pd.isnull(x) else ast.literal_eval(x) for x in df_movies[\"genres_list\"]]\n",
    "df_movies[\"directors\"] = [x if pd.isnull(x) else ast.literal_eval(x) for x in df_movies[\"directors\"]]\n",
    "df_movies[\"spoken_languages_list\"] = [x if pd.isnull(x) else ast.literal_eval(x) for x in df_movies[\"spoken_languages_list\"]]\n",
    "df_movies[\"production_countries_list\"] = [x if pd.isnull(x) else ast.literal_eval(x) for x in df_movies[\"production_countries_list\"]]\n",
    "df_movies[\"production_companies_list\"] = [x if pd.isnull(x) else ast.literal_eval(x) for x in df_movies[\"production_companies_list\"]]\n"
   ]
  },
  {
   "attachments": {},
   "cell_type": "markdown",
   "metadata": {},
   "source": [
    "Now the elements of these columns are type list, they can be extracted as strings. It's probable that TfidfVectorizer() can process these columns in their original state as strings, ignoring special characters like square brackets and these transformations could be redundant, but it's way to guarantee the correct performance of the following functions."
   ]
  },
  {
   "cell_type": "code",
   "execution_count": 5,
   "metadata": {},
   "outputs": [],
   "source": [
    "\n",
    "df_movies[\"genres_list\"] = [x if None else \", \".join(x) for x in df_movies[\"genres_list\"]]\n",
    "df_movies[\"directors\"] = [x if None else \", \".join(x) for x in df_movies[\"directors\"]]\n",
    "df_movies[\"spoken_languages_list\"] = [x if None else \", \".join(x) for x in df_movies[\"spoken_languages_list\"]]\n",
    "df_movies[\"production_countries_list\"] = [x if None else \", \".join(x) for x in df_movies[\"production_countries_list\"]]\n",
    "df_movies[\"production_companies_list\"] = [x if None else \", \".join(x) for x in df_movies[\"production_companies_list\"]]"
   ]
  },
  {
   "cell_type": "code",
   "execution_count": 6,
   "metadata": {},
   "outputs": [
    {
     "data": {
      "text/plain": [
       "0         Animation, Comedy, Family\n",
       "1        Adventure, Fantasy, Family\n",
       "2                   Romance, Comedy\n",
       "3            Comedy, Drama, Romance\n",
       "4                            Comedy\n",
       "                    ...            \n",
       "45340        Drama, Action, Romance\n",
       "45341                         Drama\n",
       "45342       Action, Drama, Thriller\n",
       "45343                              \n",
       "45344                              \n",
       "Name: genres_list, Length: 45345, dtype: object"
      ]
     },
     "execution_count": 6,
     "metadata": {},
     "output_type": "execute_result"
    }
   ],
   "source": [
    "df_movies[\"genres_list\"]"
   ]
  },
  {
   "attachments": {},
   "cell_type": "markdown",
   "metadata": {},
   "source": [
    "This function was already used in the notebook of API functions for transform string into an 'standarized' form."
   ]
  },
  {
   "cell_type": "code",
   "execution_count": 168,
   "metadata": {},
   "outputs": [],
   "source": [
    "def string_transformation(text):\n",
    "    if type(text) == str:\n",
    "        text = text.lower().strip().replace(\" \", \"\")\n",
    "        text = unidecode(text)  # delete accents\n",
    "        text = re.sub(r'[^\\w\\s]', '', text)  # delete special characters and punctuation marks\n",
    "        return text\n",
    "    else:\n",
    "     return \"Entered value is not valid.\" "
   ]
  },
  {
   "attachments": {},
   "cell_type": "markdown",
   "metadata": {},
   "source": [
    "# Testing TfidfVectorizer"
   ]
  },
  {
   "attachments": {},
   "cell_type": "markdown",
   "metadata": {},
   "source": [
    "TfidfVectorizer() is the main tool that's going to be used in the recommendation model, to understand better the use of this function, a series of differents objects are goint to be fit and transformed"
   ]
  },
  {
   "cell_type": "code",
   "execution_count": 8,
   "metadata": {},
   "outputs": [],
   "source": [
    "tfidf = TfidfVectorizer(stop_words=\"english\") # stop_words delete common words\n",
    "test_list = ['Animation', 'Comedy', 'Family']\n",
    "test_list2 = [ ['Animation', 'Comedy', 'Family'],  ['Animation', 'Comedy', 'Family']] # list of lists not allowed\n",
    "test_list3 = df_movies[\"genres_list\"][0:2] # only allowed if they are string type, not allowed if they are in lists form\n",
    "test_string = \"Animation\", \"Comedy\", \"Family\"\n",
    "test_sentence = '''Led by Woody, Andy's toys live happily in his room until Andy's birthday brings Buzz Lightyear onto the scene.\n",
    "                Afraid of losing his place in Andy's heart, Woody plots against Buzz. But when circumstances separate \n",
    "                  Buzz and Woody from their owner, the duo eventually learns to put aside their differences.''' # pure string not allowed\n",
    "test_row = df_movies[\"overview\"][0] # pure string not allowed\n",
    "test_combination = df_movies[\"genres_list\"][0:2] + \" \" + df_movies[\"overview\"][0:2] # only allowed if they are string type, not allowed if they are in lists form"
   ]
  },
  {
   "attachments": {},
   "cell_type": "markdown",
   "metadata": {},
   "source": [
    "Not only these objects are going to be tested, the resulting vocabulary and bag of words can be seen as well."
   ]
  },
  {
   "attachments": {},
   "cell_type": "markdown",
   "metadata": {},
   "source": [
    "## List"
   ]
  },
  {
   "cell_type": "code",
   "execution_count": 18,
   "metadata": {},
   "outputs": [],
   "source": [
    "# can process list, but not list of lists \n",
    "\n",
    "# calculate parameters like weights, vectorize and transform to a matrix (bag of words)\n",
    "tfidf_matrix = tfidf.fit_transform(test_list)\n",
    "list_matrix = tfidf_matrix.todense()"
   ]
  },
  {
   "cell_type": "code",
   "execution_count": 10,
   "metadata": {},
   "outputs": [
    {
     "data": {
      "text/plain": [
       "array([[1., 0., 0.],\n",
       "       [0., 1., 0.],\n",
       "       [0., 0., 1.]])"
      ]
     },
     "execution_count": 10,
     "metadata": {},
     "output_type": "execute_result"
    }
   ],
   "source": [
    "tfidf_matrix.toarray() # visualization of feature matrix"
   ]
  },
  {
   "cell_type": "code",
   "execution_count": 19,
   "metadata": {},
   "outputs": [
    {
     "data": {
      "text/html": [
       "<div>\n",
       "<style scoped>\n",
       "    .dataframe tbody tr th:only-of-type {\n",
       "        vertical-align: middle;\n",
       "    }\n",
       "\n",
       "    .dataframe tbody tr th {\n",
       "        vertical-align: top;\n",
       "    }\n",
       "\n",
       "    .dataframe thead th {\n",
       "        text-align: right;\n",
       "    }\n",
       "</style>\n",
       "<table border=\"1\" class=\"dataframe\">\n",
       "  <thead>\n",
       "    <tr style=\"text-align: right;\">\n",
       "      <th></th>\n",
       "      <th>animation</th>\n",
       "      <th>comedy</th>\n",
       "      <th>family</th>\n",
       "    </tr>\n",
       "  </thead>\n",
       "  <tbody>\n",
       "    <tr>\n",
       "      <th>Animation</th>\n",
       "      <td>1.0</td>\n",
       "      <td>0.0</td>\n",
       "      <td>0.0</td>\n",
       "    </tr>\n",
       "    <tr>\n",
       "      <th>Comedy</th>\n",
       "      <td>0.0</td>\n",
       "      <td>1.0</td>\n",
       "      <td>0.0</td>\n",
       "    </tr>\n",
       "    <tr>\n",
       "      <th>Family</th>\n",
       "      <td>0.0</td>\n",
       "      <td>0.0</td>\n",
       "      <td>1.0</td>\n",
       "    </tr>\n",
       "  </tbody>\n",
       "</table>\n",
       "</div>"
      ],
      "text/plain": [
       "           animation  comedy  family\n",
       "Animation        1.0     0.0     0.0\n",
       "Comedy           0.0     1.0     0.0\n",
       "Family           0.0     0.0     1.0"
      ]
     },
     "execution_count": 19,
     "metadata": {},
     "output_type": "execute_result"
    }
   ],
   "source": [
    "df = pd.DataFrame(list_matrix, \n",
    "                  columns=tfidf.get_feature_names_out() , \n",
    "                  index= test_list\n",
    "                  )\n",
    "df"
   ]
  },
  {
   "attachments": {},
   "cell_type": "markdown",
   "metadata": {},
   "source": [
    "## Strings separated"
   ]
  },
  {
   "cell_type": "code",
   "execution_count": 12,
   "metadata": {},
   "outputs": [
    {
     "data": {
      "text/plain": [
       "array(['animation', 'comedy', 'family'], dtype=object)"
      ]
     },
     "execution_count": 12,
     "metadata": {},
     "output_type": "execute_result"
    }
   ],
   "source": [
    "tfidf.fit_transform(test_string)   \n",
    "tfidf.get_feature_names_out() "
   ]
  },
  {
   "attachments": {},
   "cell_type": "markdown",
   "metadata": {},
   "source": [
    "## Rows of a dataframe (only if they are string type)"
   ]
  },
  {
   "cell_type": "code",
   "execution_count": 13,
   "metadata": {},
   "outputs": [
    {
     "data": {
      "text/plain": [
       "array(['adventure', 'animation', 'comedy', 'family', 'fantasy'],\n",
       "      dtype=object)"
      ]
     },
     "execution_count": 13,
     "metadata": {},
     "output_type": "execute_result"
    }
   ],
   "source": [
    "tfidf.fit_transform(test_list3)  \n",
    "tfidf.get_feature_names_out() "
   ]
  },
  {
   "attachments": {},
   "cell_type": "markdown",
   "metadata": {},
   "source": [
    "## An entire column of a dataframe"
   ]
  },
  {
   "cell_type": "code",
   "execution_count": 14,
   "metadata": {},
   "outputs": [
    {
     "data": {
      "text/plain": [
       "array(['00', '000', '000km', ..., '첫사랑', 'ﬁrst', 'ﬁve'], dtype=object)"
      ]
     },
     "execution_count": 14,
     "metadata": {},
     "output_type": "execute_result"
    }
   ],
   "source": [
    "\n",
    "# too big to show array\n",
    "\n",
    "tfidf_matrix = tfidf.fit_transform(df_movies[\"overview\"].fillna(\"\"))   \n",
    "tfidf.get_feature_names_out() "
   ]
  },
  {
   "cell_type": "code",
   "execution_count": 15,
   "metadata": {},
   "outputs": [
    {
     "data": {
      "text/plain": [
       "75765"
      ]
     },
     "execution_count": 15,
     "metadata": {},
     "output_type": "execute_result"
    }
   ],
   "source": [
    "len(tfidf.get_feature_names_out()) # number of words"
   ]
  },
  {
   "attachments": {},
   "cell_type": "markdown",
   "metadata": {},
   "source": [
    "## Concatenation of two columns of a dataframe (only if they are string type)"
   ]
  },
  {
   "cell_type": "code",
   "execution_count": 20,
   "metadata": {},
   "outputs": [],
   "source": [
    "tfidf_matrix = tfidf.fit_transform(test_combination)   \n",
    "tfidf.get_feature_names_out() \n",
    "concat_matrix = tfidf_matrix.todense()"
   ]
  },
  {
   "cell_type": "code",
   "execution_count": 21,
   "metadata": {},
   "outputs": [
    {
     "data": {
      "text/plain": [
       "62"
      ]
     },
     "execution_count": 21,
     "metadata": {},
     "output_type": "execute_result"
    }
   ],
   "source": [
    "len(tfidf.get_feature_names_out()) # number of words"
   ]
  },
  {
   "cell_type": "code",
   "execution_count": 22,
   "metadata": {},
   "outputs": [
    {
     "data": {
      "text/plain": [
       "array([[0.        , 0.        , 0.        , 0.14001087, 0.        ,\n",
       "        0.4200326 , 0.14001087, 0.14001087, 0.14001087, 0.        ,\n",
       "        0.14001087, 0.4200326 , 0.14001087, 0.14001087, 0.        ,\n",
       "        0.14001087, 0.        , 0.        , 0.14001087, 0.        ,\n",
       "        0.14001087, 0.        , 0.09961889, 0.        , 0.        ,\n",
       "        0.        , 0.        , 0.        , 0.14001087, 0.14001087,\n",
       "        0.        , 0.        , 0.        , 0.        , 0.14001087,\n",
       "        0.14001087, 0.14001087, 0.14001087, 0.        , 0.14001087,\n",
       "        0.        , 0.        , 0.        , 0.14001087, 0.        ,\n",
       "        0.14001087, 0.14001087, 0.        , 0.        , 0.        ,\n",
       "        0.09961889, 0.        , 0.14001087, 0.14001087, 0.        ,\n",
       "        0.        , 0.14001087, 0.        , 0.        , 0.4200326 ,\n",
       "        0.        , 0.        ],\n",
       "       [0.14742195, 0.14742195, 0.14742195, 0.        , 0.29484389,\n",
       "        0.        , 0.        , 0.        , 0.        , 0.14742195,\n",
       "        0.        , 0.        , 0.        , 0.        , 0.14742195,\n",
       "        0.        , 0.14742195, 0.14742195, 0.        , 0.14742195,\n",
       "        0.        , 0.14742195, 0.10489193, 0.14742195, 0.14742195,\n",
       "        0.14742195, 0.44226584, 0.14742195, 0.        , 0.        ,\n",
       "        0.14742195, 0.14742195, 0.14742195, 0.14742195, 0.        ,\n",
       "        0.        , 0.        , 0.        , 0.14742195, 0.        ,\n",
       "        0.14742195, 0.14742195, 0.14742195, 0.        , 0.14742195,\n",
       "        0.        , 0.        , 0.14742195, 0.14742195, 0.14742195,\n",
       "        0.10489193, 0.14742195, 0.        , 0.        , 0.14742195,\n",
       "        0.14742195, 0.        , 0.14742195, 0.14742195, 0.        ,\n",
       "        0.14742195, 0.14742195]])"
      ]
     },
     "execution_count": 22,
     "metadata": {},
     "output_type": "execute_result"
    }
   ],
   "source": [
    "tfidf_matrix.toarray() # 2 rows, 64 words"
   ]
  },
  {
   "cell_type": "code",
   "execution_count": 23,
   "metadata": {},
   "outputs": [
    {
     "data": {
      "text/html": [
       "<div>\n",
       "<style scoped>\n",
       "    .dataframe tbody tr th:only-of-type {\n",
       "        vertical-align: middle;\n",
       "    }\n",
       "\n",
       "    .dataframe tbody tr th {\n",
       "        vertical-align: top;\n",
       "    }\n",
       "\n",
       "    .dataframe thead th {\n",
       "        text-align: right;\n",
       "    }\n",
       "</style>\n",
       "<table border=\"1\" class=\"dataframe\">\n",
       "  <thead>\n",
       "    <tr style=\"text-align: right;\">\n",
       "      <th></th>\n",
       "      <th>26</th>\n",
       "      <th>adult</th>\n",
       "      <th>adventure</th>\n",
       "      <th>afraid</th>\n",
       "      <th>alan</th>\n",
       "      <th>andy</th>\n",
       "      <th>animation</th>\n",
       "      <th>aside</th>\n",
       "      <th>birthday</th>\n",
       "      <th>board</th>\n",
       "      <th>...</th>\n",
       "      <th>scene</th>\n",
       "      <th>separate</th>\n",
       "      <th>siblings</th>\n",
       "      <th>terrifying</th>\n",
       "      <th>toys</th>\n",
       "      <th>trapped</th>\n",
       "      <th>unwittingly</th>\n",
       "      <th>woody</th>\n",
       "      <th>world</th>\n",
       "      <th>years</th>\n",
       "    </tr>\n",
       "  </thead>\n",
       "  <tbody>\n",
       "    <tr>\n",
       "      <th>0</th>\n",
       "      <td>0.000000</td>\n",
       "      <td>0.000000</td>\n",
       "      <td>0.000000</td>\n",
       "      <td>0.140011</td>\n",
       "      <td>0.000000</td>\n",
       "      <td>0.420033</td>\n",
       "      <td>0.140011</td>\n",
       "      <td>0.140011</td>\n",
       "      <td>0.140011</td>\n",
       "      <td>0.000000</td>\n",
       "      <td>...</td>\n",
       "      <td>0.140011</td>\n",
       "      <td>0.140011</td>\n",
       "      <td>0.000000</td>\n",
       "      <td>0.000000</td>\n",
       "      <td>0.140011</td>\n",
       "      <td>0.000000</td>\n",
       "      <td>0.000000</td>\n",
       "      <td>0.420033</td>\n",
       "      <td>0.000000</td>\n",
       "      <td>0.000000</td>\n",
       "    </tr>\n",
       "    <tr>\n",
       "      <th>1</th>\n",
       "      <td>0.147422</td>\n",
       "      <td>0.147422</td>\n",
       "      <td>0.147422</td>\n",
       "      <td>0.000000</td>\n",
       "      <td>0.294844</td>\n",
       "      <td>0.000000</td>\n",
       "      <td>0.000000</td>\n",
       "      <td>0.000000</td>\n",
       "      <td>0.000000</td>\n",
       "      <td>0.147422</td>\n",
       "      <td>...</td>\n",
       "      <td>0.000000</td>\n",
       "      <td>0.000000</td>\n",
       "      <td>0.147422</td>\n",
       "      <td>0.147422</td>\n",
       "      <td>0.000000</td>\n",
       "      <td>0.147422</td>\n",
       "      <td>0.147422</td>\n",
       "      <td>0.000000</td>\n",
       "      <td>0.147422</td>\n",
       "      <td>0.147422</td>\n",
       "    </tr>\n",
       "  </tbody>\n",
       "</table>\n",
       "<p>2 rows × 62 columns</p>\n",
       "</div>"
      ],
      "text/plain": [
       "         26     adult  adventure    afraid      alan      andy  animation  \\\n",
       "0  0.000000  0.000000   0.000000  0.140011  0.000000  0.420033   0.140011   \n",
       "1  0.147422  0.147422   0.147422  0.000000  0.294844  0.000000   0.000000   \n",
       "\n",
       "      aside  birthday     board  ...     scene  separate  siblings  \\\n",
       "0  0.140011  0.140011  0.000000  ...  0.140011  0.140011  0.000000   \n",
       "1  0.000000  0.000000  0.147422  ...  0.000000  0.000000  0.147422   \n",
       "\n",
       "   terrifying      toys   trapped  unwittingly     woody     world     years  \n",
       "0    0.000000  0.140011  0.000000     0.000000  0.420033  0.000000  0.000000  \n",
       "1    0.147422  0.000000  0.147422     0.147422  0.000000  0.147422  0.147422  \n",
       "\n",
       "[2 rows x 62 columns]"
      ]
     },
     "execution_count": 23,
     "metadata": {},
     "output_type": "execute_result"
    }
   ],
   "source": [
    "df = pd.DataFrame(concat_matrix, \n",
    "                  columns=tfidf.get_feature_names_out() \n",
    "                  )\n",
    "df # two rows, two documents, 62 columns, 62 words in the vocabulary"
   ]
  },
  {
   "attachments": {},
   "cell_type": "markdown",
   "metadata": {},
   "source": [
    "# Recommendation Model"
   ]
  },
  {
   "attachments": {},
   "cell_type": "markdown",
   "metadata": {},
   "source": [
    "## Setting training data"
   ]
  },
  {
   "attachments": {},
   "cell_type": "markdown",
   "metadata": {},
   "source": [
    "Like it was said in the exploratory data analysis notebook, it is mandatory for this project the use of a fraction of the original dataset, because the free plan offered by Render have limited memory and cannot store very big matrices."
   ]
  },
  {
   "cell_type": "code",
   "execution_count": 36,
   "metadata": {},
   "outputs": [
    {
     "data": {
      "text/plain": [
       "(6050, 6)"
      ]
     },
     "execution_count": 36,
     "metadata": {},
     "output_type": "execute_result"
    }
   ],
   "source": [
    "# the use of vote_count as the criteria to obtain a subset of the original dataset makes sense \n",
    "# because usually the movies that are recommended on these type of systems are, at the same time, the most popular and more recognized\n",
    "chosen_columns = [\"title\", \"overview\", \"collection\", \"directors\", \"genres_list\"]\n",
    "df_train = df_movies[df_movies[\"vote_count\"] >= 100][chosen_columns].reset_index()\n",
    "df_train.shape"
   ]
  },
  {
   "attachments": {},
   "cell_type": "markdown",
   "metadata": {},
   "source": [
    "After the extraction, now the corpus of the experiment will be built with the following columns."
   ]
  },
  {
   "cell_type": "code",
   "execution_count": 37,
   "metadata": {},
   "outputs": [
    {
     "data": {
      "text/plain": [
       "0       Animation, Comedy, FamilyLed by Woody, Andy's ...\n",
       "1                                                     NaN\n",
       "2       ComedyJust when George Banks has recovered fro...\n",
       "3                                                     NaN\n",
       "4                                                     NaN\n",
       "                              ...                        \n",
       "6045    TV Movie, Family, Action, Comedy, Music, Adven...\n",
       "6046                                                  NaN\n",
       "6047    ComedyStuck in the corridors of time, Godefroy...\n",
       "6048                                                  NaN\n",
       "6049                                                  NaN\n",
       "Length: 6050, dtype: object"
      ]
     },
     "execution_count": 37,
     "metadata": {},
     "output_type": "execute_result"
    }
   ],
   "source": [
    "# important to use fillna(), because the result of concatenation between NaN and strings is a null value.\n",
    "\n",
    "df_train[\"genres_list\"] + df_train[\"overview\"] + df_train[\"directors\"] + df_train[\"collection\"]  "
   ]
  },
  {
   "cell_type": "code",
   "execution_count": 64,
   "metadata": {},
   "outputs": [
    {
     "data": {
      "text/plain": [
       "0       Toy Story Animation, Comedy, Family Led by Woo...\n",
       "1       Jumanji Adventure, Fantasy, Family When siblin...\n",
       "2       Father of the Bride Part II Comedy Just when G...\n",
       "3       Heat Action, Crime, Drama, Thriller Obsessive ...\n",
       "4       Sabrina Comedy, Romance An ugly duckling havin...\n",
       "                              ...                        \n",
       "6045    Descendants 2 TV Movie, Family, Action, Comedy...\n",
       "6046    Good Guys Go to Heaven, Bad Guys Go to Pattaya...\n",
       "6047    The Visitors: Bastille Day Comedy Stuck in the...\n",
       "6048    In a Heartbeat Family, Animation, Romance, Com...\n",
       "6049    Cadet Kelly Comedy Hyperactive teenager Kelly ...\n",
       "Name: corpus, Length: 6050, dtype: object"
      ]
     },
     "execution_count": 64,
     "metadata": {},
     "output_type": "execute_result"
    }
   ],
   "source": [
    "# genres and collection are added twice to give more weight to those attributes\n",
    "\n",
    "df_train[\"corpus\"] = (df_train[\"title\"].fillna(\"\") + \" \" + df_train[\"genres_list\"].fillna(\"\") \n",
    "                    + \" \" + df_train[\"overview\"].fillna(\"\") + \" \" + df_train[\"directors\"].fillna(\"\") + \" \" + df_train[\"collection\"].fillna(\"\") \n",
    "                    + \" \" + df_train[\"genres_list\"].fillna(\"\") + \" \" + df_train[\"collection\"].fillna(\"\") )\n",
    "df_train[\"corpus\"]"
   ]
  },
  {
   "attachments": {},
   "cell_type": "markdown",
   "metadata": {},
   "source": [
    "Additional transformations to ease the input of strings in the functions."
   ]
  },
  {
   "cell_type": "code",
   "execution_count": 39,
   "metadata": {},
   "outputs": [],
   "source": [
    "df_train[\"transformed_title\"] = [string_transformation(x) for x in df_train[\"title\"]]"
   ]
  },
  {
   "attachments": {},
   "cell_type": "markdown",
   "metadata": {},
   "source": [
    "## Only using TfidfVectorizer"
   ]
  },
  {
   "attachments": {},
   "cell_type": "markdown",
   "metadata": {},
   "source": [
    "The first try will be the most simple. This model is a strong candidate to be the one  used in the final deployment because of the limitations already mentioned. Advantages: Calculate the matrices only once and consume low resources. Disadvantage: the input only receives movies that are in df_train."
   ]
  },
  {
   "cell_type": "code",
   "execution_count": 65,
   "metadata": {},
   "outputs": [],
   "source": [
    "# ngram_range is the amount of n-grams it will consider, in this case it will take unigrams and bigrams (from 1 to 2)\n",
    "# stop_word to ignore common words in english\n",
    "vectorizer = TfidfVectorizer(ngram_range=(1, 2), stop_words=\"english\")\n",
    "\n",
    "# creating feature matrix given corpus\n",
    "def feat_matrix(corpus):\n",
    "    feature_matrix = vectorizer.fit_transform(corpus)\n",
    "    return feature_matrix\n",
    "\n",
    "# creating similarity matrix given feature matrix\n",
    "def sim_matrix(feature_matrix):\n",
    "    similarity_matrix = cosine_similarity(feature_matrix)\n",
    "    return similarity_matrix"
   ]
  },
  {
   "cell_type": "code",
   "execution_count": 66,
   "metadata": {},
   "outputs": [],
   "source": [
    "def get_recommendations(title, feature_matrix, similarity_matrix):\n",
    "    # index of the entered title\n",
    "    title = string_transformation(title)\n",
    "    if title in df_train[\"transformed_title\"].unique():\n",
    "        movie_index = (df_train['transformed_title'] == title).idxmax()\n",
    "\n",
    "        # get the similarity scores of the entered movie\n",
    "        similarity_scores = similarity_matrix[movie_index]\n",
    "\n",
    "        # argsort() sort ascending the values and obtain the index \n",
    "        # if it's sorted in an ascendent way, [::-1] invert the order to get top similarity scores\n",
    "        # first 5 results, ignoring the entered movie which is in position 0 [1:6]\n",
    "        top_index = similarity_scores.argsort()[::-1][1:6]\n",
    "\n",
    "        # create a list of dictionaries with the recommendations\n",
    "        recommendations = []\n",
    "        \n",
    "        for index in top_index: \n",
    "            movie_title = df_train['title'][index] # every iteration get this attributes\n",
    "            genres = df_train['genres_list'][index]\n",
    "            director = df_train['directors'][index]\n",
    "            similarity_score = similarity_scores[index].round(4)\n",
    "            \n",
    "            recommendation = {\n",
    "                'title': movie_title,\n",
    "                'genres': genres,\n",
    "                'director': director,\n",
    "                'similarity': similarity_score\n",
    "            }\n",
    "            recommendations.append(recommendation)\n",
    "\n",
    "        return recommendations\n",
    "    else:\n",
    "        return \"Entered value is not valid.\""
   ]
  },
  {
   "cell_type": "code",
   "execution_count": 67,
   "metadata": {},
   "outputs": [],
   "source": [
    "feature_matrix = feat_matrix(df_train[\"corpus\"])\n",
    "similarity_matrix = sim_matrix(feature_matrix)"
   ]
  },
  {
   "cell_type": "code",
   "execution_count": 68,
   "metadata": {},
   "outputs": [
    {
     "data": {
      "text/plain": [
       "[{'title': 'Toy Story 2',\n",
       "  'genres': 'Animation, Comedy, Family',\n",
       "  'director': 'John Lasseter',\n",
       "  'similarity': 0.467},\n",
       " {'title': 'Toy Story 3',\n",
       "  'genres': 'Animation, Family, Comedy',\n",
       "  'director': 'Lee Unkrich',\n",
       "  'similarity': 0.402},\n",
       " {'title': 'Toy Story of Terror!',\n",
       "  'genres': 'Animation, Comedy, Family',\n",
       "  'director': 'Angus MacLane',\n",
       "  'similarity': 0.2458},\n",
       " {'title': 'Toy Story That Time Forgot',\n",
       "  'genres': 'Animation, Family',\n",
       "  'director': 'Steve Purcell',\n",
       "  'similarity': 0.1501},\n",
       " {'title': 'Small Fry',\n",
       "  'genres': 'Animation, Family',\n",
       "  'director': 'Angus MacLane',\n",
       "  'similarity': 0.1062}]"
      ]
     },
     "execution_count": 68,
     "metadata": {},
     "output_type": "execute_result"
    }
   ],
   "source": [
    "get_recommendations(\"toy story\", feature_matrix, similarity_matrix)"
   ]
  },
  {
   "attachments": {},
   "cell_type": "markdown",
   "metadata": {},
   "source": [
    "#### Testing the function step by step with movie in postion [1] (Jumanji)"
   ]
  },
  {
   "cell_type": "code",
   "execution_count": 44,
   "metadata": {},
   "outputs": [],
   "source": [
    "feature_matrix = feat_matrix(df_train[\"corpus\"]) # features matrix made of the corpus of training data\n",
    "similarity_matrix = sim_matrix(feature_matrix) # similarity between movies, every row and columns of this matrix is a movie"
   ]
  },
  {
   "cell_type": "code",
   "execution_count": 45,
   "metadata": {},
   "outputs": [
    {
     "name": "stdout",
     "output_type": "stream",
     "text": [
      "(6050, 192751)\n",
      "(6050, 6050)\n"
     ]
    }
   ],
   "source": [
    "print(feature_matrix.shape)\n",
    "print(similarity_matrix.shape)"
   ]
  },
  {
   "cell_type": "code",
   "execution_count": 46,
   "metadata": {},
   "outputs": [
    {
     "data": {
      "text/plain": [
       "array([2018, 1900, 2245, 1947, 3142], dtype=int64)"
      ]
     },
     "execution_count": 46,
     "metadata": {},
     "output_type": "execute_result"
    }
   ],
   "source": [
    "# contain the similarity score between an specific movie and all the other movies\n",
    "# argsort() sort ascending the values and obtain the index\n",
    "# [::-1] returns all the values but in reverse form, the major value first\n",
    "# [1:6] gives the first 5 movies with biggest score, ignoring the entered movie which it's in position 0\n",
    "\n",
    "similarity_matrix[1].argsort()[::-1][1:6]"
   ]
  },
  {
   "cell_type": "code",
   "execution_count": 22,
   "metadata": {},
   "outputs": [
    {
     "data": {
      "text/plain": [
       "[{'title': 'Journey to the Center of the Earth',\n",
       "  'genres': 'Adventure, Fantasy, Family',\n",
       "  'director': 'Henry Levin',\n",
       "  'similarity': 0.09692769573073108},\n",
       " {'title': 'Clash of the Titans',\n",
       "  'genres': 'Adventure, Fantasy, Family',\n",
       "  'director': 'Desmond Davis',\n",
       "  'similarity': 0.08286171969178859},\n",
       " {'title': 'Peter Pan',\n",
       "  'genres': 'Adventure, Fantasy, Family',\n",
       "  'director': 'P.J. Hogan',\n",
       "  'similarity': 0.07769226082158243},\n",
       " {'title': 'Harry Potter and the Chamber of Secrets',\n",
       "  'genres': 'Adventure, Fantasy, Family',\n",
       "  'director': 'Chris Columbus',\n",
       "  'similarity': 0.07758546685704748},\n",
       " {'title': 'The Seeker: The Dark Is Rising',\n",
       "  'genres': 'Adventure, Drama, Fantasy, Family, Thriller',\n",
       "  'director': 'David L. Cunningham',\n",
       "  'similarity': 0.06997530190481631}]"
      ]
     },
     "execution_count": 22,
     "metadata": {},
     "output_type": "execute_result"
    }
   ],
   "source": [
    "recommendations = [] # empty list for recommendations\n",
    "        \n",
    "for index in similarity_matrix[1].argsort()[::-1][1:6]: # go through the array and collect these attributes\n",
    "    movie_title = df_train['title'][index]\n",
    "    genres = df_train['genres_list'][index]\n",
    "    director = df_train['directors'][index]\n",
    "    similarity_score = similarity_matrix[1][index]\n",
    "            \n",
    "    recommendation = { # store the attributes in this object\n",
    "                'title': movie_title,\n",
    "                'genres': genres,\n",
    "                'director': director,\n",
    "                'similarity': similarity_score\n",
    "            }\n",
    "    recommendations.append(recommendation) # add to the empty list with all these objects\n",
    "\n",
    "recommendations "
   ]
  },
  {
   "attachments": {},
   "cell_type": "markdown",
   "metadata": {},
   "source": [
    "## Using TruncatedSVD (Singular Value Decomposition)"
   ]
  },
  {
   "attachments": {},
   "cell_type": "markdown",
   "metadata": {},
   "source": [
    "SVD is used in algebra in factorization of complex matrix, in this context it's useful for dimension reduction. It's also known as LSA (Latent Semantic Analysis) or LSI (Latent Semantic Indexing). This could help the algorithm to get better recommendations. Here is a simple example."
   ]
  },
  {
   "cell_type": "code",
   "execution_count": 47,
   "metadata": {},
   "outputs": [
    {
     "name": "stdout",
     "output_type": "stream",
     "text": [
      "TF-IDF Matrix:\n",
      "[[0.42544054 0.         0.         0.         0.72033345 0.\n",
      "  0.54783215]\n",
      " [0.42544054 0.54783215 0.         0.         0.         0.72033345\n",
      "  0.        ]\n",
      " [0.55364194 0.3564574  0.46869865 0.46869865 0.         0.\n",
      "  0.3564574 ]]\n",
      "Shape:  (3, 7)\n",
      "Reduced Matrix:\n",
      "[[ 6.99496047e-01  6.39922006e-01]\n",
      " [ 6.99496047e-01 -6.39922006e-01]\n",
      " [ 8.53151391e-01  5.16894575e-16]]\n",
      "Shape:  (3, 2)\n"
     ]
    }
   ],
   "source": [
    "from sklearn.feature_extraction.text import TfidfVectorizer\n",
    "from sklearn.decomposition import TruncatedSVD\n",
    "\n",
    "corpus = [\n",
    "    \"El perro ladra.\",\n",
    "    \"El gato maulla.\",\n",
    "    \"El perro y el gato juegan juntos.\"\n",
    "]\n",
    "\n",
    "# TF-IDF Vectorization\n",
    "vectorizer = TfidfVectorizer()\n",
    "tfidf_matrix = vectorizer.fit_transform(corpus)\n",
    "\n",
    "# dimension reduction\n",
    "lsa = TruncatedSVD(n_components=2)\n",
    "lsa_matrix = lsa.fit_transform(tfidf_matrix)\n",
    "\n",
    "print(\"TF-IDF Matrix:\")\n",
    "print(tfidf_matrix.toarray())\n",
    "print(\"Shape: \", tfidf_matrix.shape)\n",
    "print(\"Reduced Matrix:\")\n",
    "print(lsa_matrix)\n",
    "print(\"Shape: \", lsa_matrix.shape)\n"
   ]
  },
  {
   "attachments": {},
   "cell_type": "markdown",
   "metadata": {},
   "source": [
    "Now applying it to the df_train dataset."
   ]
  },
  {
   "cell_type": "code",
   "execution_count": 69,
   "metadata": {},
   "outputs": [],
   "source": [
    "vectorizer = TfidfVectorizer(ngram_range=(1, 2), stop_words=\"english\")\n",
    "\n",
    "def feat_matrix(corpus):\n",
    "    feature_matrix = vectorizer.fit_transform(corpus)\n",
    "    return feature_matrix\n",
    "\n",
    "def sim_matrix(feature_matrix):\n",
    "    # algorithm can take \"arpack\" or \"randomized\" as a way to reduce the dimensions\n",
    "    # components 100 means that the new matrix will have 100 colums     \n",
    "    lsa = TruncatedSVD(n_components=100, algorithm='arpack') \n",
    "    tfidf_lsa = lsa.fit_transform(feature_matrix) # applying LSA\n",
    "    similarity_matrix = cosine_similarity(tfidf_lsa)\n",
    "    return similarity_matrix"
   ]
  },
  {
   "cell_type": "code",
   "execution_count": 70,
   "metadata": {},
   "outputs": [],
   "source": [
    "feature_matrix = feat_matrix(df_train[\"corpus\"])\n",
    "similarity_matrix = sim_matrix(feature_matrix)"
   ]
  },
  {
   "cell_type": "code",
   "execution_count": 71,
   "metadata": {},
   "outputs": [
    {
     "data": {
      "text/plain": [
       "[{'title': 'Toy Story 2',\n",
       "  'genres': 'Animation, Comedy, Family',\n",
       "  'director': 'John Lasseter',\n",
       "  'similarity': 0.99},\n",
       " {'title': 'Toy Story of Terror!',\n",
       "  'genres': 'Animation, Comedy, Family',\n",
       "  'director': 'Angus MacLane',\n",
       "  'similarity': 0.8936},\n",
       " {'title': 'Toy Story 3',\n",
       "  'genres': 'Animation, Family, Comedy',\n",
       "  'director': 'Lee Unkrich',\n",
       "  'similarity': 0.8159},\n",
       " {'title': 'A Cinderella Story: Once Upon a Song',\n",
       "  'genres': 'Comedy, Family, Romance',\n",
       "  'director': 'Damon Santostefano',\n",
       "  'similarity': 0.7091},\n",
       " {'title': 'The Boss Baby',\n",
       "  'genres': 'Animation, Comedy, Family',\n",
       "  'director': 'Tom McGrath',\n",
       "  'similarity': 0.6383}]"
      ]
     },
     "execution_count": 71,
     "metadata": {},
     "output_type": "execute_result"
    }
   ],
   "source": [
    "get_recommendations(\"toy story\", feature_matrix, similarity_matrix)"
   ]
  },
  {
   "attachments": {},
   "cell_type": "markdown",
   "metadata": {},
   "source": [
    "The inclusion of SVD into the algoritm shows improvement in the results, but it's more demanding in terms of resources."
   ]
  },
  {
   "attachments": {},
   "cell_type": "markdown",
   "metadata": {},
   "source": [
    "## Lemmatization and Stemming"
   ]
  },
  {
   "attachments": {},
   "cell_type": "markdown",
   "metadata": {},
   "source": [
    "Lemmatization and Stemming are Text Normalization techniques, stemming replace words “history” and “historical” with “histori”, Lemmatization considers the context and converts the word to its meaningful base form, lemmatizing the word ‘Caring‘ would return ‘Care‘."
   ]
  },
  {
   "cell_type": "code",
   "execution_count": 58,
   "metadata": {},
   "outputs": [],
   "source": [
    "import nltk\n",
    "from nltk.stem import WordNetLemmatizer\n",
    "from nltk.stem import PorterStemmer\n",
    "from nltk.tokenize import word_tokenize\n",
    "from nltk.corpus import stopwords"
   ]
  },
  {
   "cell_type": "code",
   "execution_count": null,
   "metadata": {},
   "outputs": [],
   "source": [
    "nltk.download('wordnet')\n",
    "nltk.download('stopwords')\n",
    "nltk.download('punkt')"
   ]
  },
  {
   "attachments": {},
   "cell_type": "markdown",
   "metadata": {},
   "source": [
    "### Stemming"
   ]
  },
  {
   "cell_type": "code",
   "execution_count": 84,
   "metadata": {},
   "outputs": [
    {
     "data": {
      "text/plain": [
       "['Toy',\n",
       " 'Story',\n",
       " 'Animation',\n",
       " ',',\n",
       " 'Comedy',\n",
       " ',',\n",
       " 'Family',\n",
       " 'Led',\n",
       " 'by',\n",
       " 'Woody',\n",
       " ',',\n",
       " 'Andy',\n",
       " \"'s\",\n",
       " 'toys',\n",
       " 'live',\n",
       " 'happily',\n",
       " 'in',\n",
       " 'his',\n",
       " 'room',\n",
       " 'until',\n",
       " 'Andy',\n",
       " \"'s\",\n",
       " 'birthday',\n",
       " 'brings',\n",
       " 'Buzz',\n",
       " 'Lightyear',\n",
       " 'onto',\n",
       " 'the',\n",
       " 'scene',\n",
       " '.',\n",
       " 'Afraid',\n",
       " 'of',\n",
       " 'losing',\n",
       " 'his',\n",
       " 'place',\n",
       " 'in',\n",
       " 'Andy',\n",
       " \"'s\",\n",
       " 'heart',\n",
       " ',',\n",
       " 'Woody',\n",
       " 'plots',\n",
       " 'against',\n",
       " 'Buzz',\n",
       " '.',\n",
       " 'But',\n",
       " 'when',\n",
       " 'circumstances',\n",
       " 'separate',\n",
       " 'Buzz',\n",
       " 'and',\n",
       " 'Woody',\n",
       " 'from',\n",
       " 'their',\n",
       " 'owner',\n",
       " ',',\n",
       " 'the',\n",
       " 'duo',\n",
       " 'eventually',\n",
       " 'learns',\n",
       " 'to',\n",
       " 'put',\n",
       " 'aside',\n",
       " 'their',\n",
       " 'differences',\n",
       " '.',\n",
       " 'John',\n",
       " 'Lasseter',\n",
       " 'Toy',\n",
       " 'Story',\n",
       " 'Collection',\n",
       " 'Animation',\n",
       " ',',\n",
       " 'Comedy',\n",
       " ',',\n",
       " 'Family',\n",
       " 'Toy',\n",
       " 'Story',\n",
       " 'Collection']"
      ]
     },
     "execution_count": 84,
     "metadata": {},
     "output_type": "execute_result"
    }
   ],
   "source": [
    "# testing the functions with the Toy Story, the movie in position 0.\n",
    "\n",
    "test = [word_tokenize(x) for x in df_train[\"corpus\"]][0] \n",
    "test"
   ]
  },
  {
   "cell_type": "code",
   "execution_count": 85,
   "metadata": {},
   "outputs": [
    {
     "data": {
      "text/plain": [
       "['toy',\n",
       " 'stori',\n",
       " 'anim',\n",
       " ',',\n",
       " 'comedi',\n",
       " ',',\n",
       " 'famili',\n",
       " 'led',\n",
       " 'woodi',\n",
       " ',',\n",
       " 'andi',\n",
       " \"'s\",\n",
       " 'toy',\n",
       " 'live',\n",
       " 'happili',\n",
       " 'room',\n",
       " 'andi',\n",
       " \"'s\",\n",
       " 'birthday',\n",
       " 'bring',\n",
       " 'buzz',\n",
       " 'lightyear',\n",
       " 'onto',\n",
       " 'scene',\n",
       " '.',\n",
       " 'afraid',\n",
       " 'lose',\n",
       " 'place',\n",
       " 'andi',\n",
       " \"'s\",\n",
       " 'heart',\n",
       " ',',\n",
       " 'woodi',\n",
       " 'plot',\n",
       " 'buzz',\n",
       " '.',\n",
       " 'but',\n",
       " 'circumst',\n",
       " 'separ',\n",
       " 'buzz',\n",
       " 'woodi',\n",
       " 'owner',\n",
       " ',',\n",
       " 'duo',\n",
       " 'eventu',\n",
       " 'learn',\n",
       " 'put',\n",
       " 'asid',\n",
       " 'differ',\n",
       " '.',\n",
       " 'john',\n",
       " 'lasset',\n",
       " 'toy',\n",
       " 'stori',\n",
       " 'collect',\n",
       " 'anim',\n",
       " ',',\n",
       " 'comedi',\n",
       " ',',\n",
       " 'famili',\n",
       " 'toy',\n",
       " 'stori',\n",
       " 'collect']"
      ]
     },
     "execution_count": 85,
     "metadata": {},
     "output_type": "execute_result"
    }
   ],
   "source": [
    "stemmer = PorterStemmer()\n",
    "[stemmer.stem(word) for word in test  if word not in set(stopwords.words('english'))] # excluding stopwords\n"
   ]
  },
  {
   "cell_type": "code",
   "execution_count": 81,
   "metadata": {},
   "outputs": [],
   "source": [
    "stemmer = PorterStemmer()\n",
    "vectorizer = TfidfVectorizer(ngram_range=(1, 2), stop_words=\"english\")\n",
    "\n",
    "def feat_matrix(corpus):   \n",
    "    corpus_tokenized = [word_tokenize(doc) for doc in corpus]\n",
    "    # the corpus is in a pandas series, so it's a list of documents, that's way the join is needed\n",
    "    corpus_stemmed = [' '.join([stemmer.stem(word) for word in doc if word not in set(stopwords.words('english'))]) for doc in corpus_tokenized]\n",
    "    feature_matrix = vectorizer.fit_transform(corpus_stemmed)\n",
    "    return feature_matrix\n",
    "\n",
    "def sim_matrix(feature_matrix):\n",
    "    similarity_matrix = cosine_similarity(feature_matrix)\n",
    "    return similarity_matrix"
   ]
  },
  {
   "cell_type": "code",
   "execution_count": 82,
   "metadata": {},
   "outputs": [],
   "source": [
    "feature_matrix = feat_matrix(df_train[\"corpus\"])\n",
    "similarity_matrix = sim_matrix(feature_matrix)"
   ]
  },
  {
   "cell_type": "code",
   "execution_count": 83,
   "metadata": {},
   "outputs": [
    {
     "data": {
      "text/plain": [
       "[{'title': 'Toy Story 2',\n",
       "  'genres': 'Animation, Comedy, Family',\n",
       "  'director': 'John Lasseter',\n",
       "  'similarity': 0.5042},\n",
       " {'title': 'Toy Story 3',\n",
       "  'genres': 'Animation, Family, Comedy',\n",
       "  'director': 'Lee Unkrich',\n",
       "  'similarity': 0.4426},\n",
       " {'title': 'Toy Story of Terror!',\n",
       "  'genres': 'Animation, Comedy, Family',\n",
       "  'director': 'Angus MacLane',\n",
       "  'similarity': 0.2829},\n",
       " {'title': 'Toy Story That Time Forgot',\n",
       "  'genres': 'Animation, Family',\n",
       "  'director': 'Steve Purcell',\n",
       "  'similarity': 0.1617},\n",
       " {'title': 'Small Fry',\n",
       "  'genres': 'Animation, Family',\n",
       "  'director': 'Angus MacLane',\n",
       "  'similarity': 0.1083}]"
      ]
     },
     "execution_count": 83,
     "metadata": {},
     "output_type": "execute_result"
    }
   ],
   "source": [
    "get_recommendations(\"toy story\", feature_matrix, similarity_matrix)"
   ]
  },
  {
   "attachments": {},
   "cell_type": "markdown",
   "metadata": {},
   "source": [
    "### Lemmatization"
   ]
  },
  {
   "cell_type": "code",
   "execution_count": 87,
   "metadata": {},
   "outputs": [
    {
     "data": {
      "text/plain": [
       "['Toy',\n",
       " 'Story',\n",
       " 'Animation',\n",
       " ',',\n",
       " 'Comedy',\n",
       " ',',\n",
       " 'Family',\n",
       " 'Led',\n",
       " 'Woody',\n",
       " ',',\n",
       " 'Andy',\n",
       " \"'s\",\n",
       " 'toy',\n",
       " 'live',\n",
       " 'happily',\n",
       " 'room',\n",
       " 'Andy',\n",
       " \"'s\",\n",
       " 'birthday',\n",
       " 'brings',\n",
       " 'Buzz',\n",
       " 'Lightyear',\n",
       " 'onto',\n",
       " 'scene',\n",
       " '.',\n",
       " 'Afraid',\n",
       " 'losing',\n",
       " 'place',\n",
       " 'Andy',\n",
       " \"'s\",\n",
       " 'heart',\n",
       " ',',\n",
       " 'Woody',\n",
       " 'plot',\n",
       " 'Buzz',\n",
       " '.',\n",
       " 'But',\n",
       " 'circumstance',\n",
       " 'separate',\n",
       " 'Buzz',\n",
       " 'Woody',\n",
       " 'owner',\n",
       " ',',\n",
       " 'duo',\n",
       " 'eventually',\n",
       " 'learns',\n",
       " 'put',\n",
       " 'aside',\n",
       " 'difference',\n",
       " '.',\n",
       " 'John',\n",
       " 'Lasseter',\n",
       " 'Toy',\n",
       " 'Story',\n",
       " 'Collection',\n",
       " 'Animation',\n",
       " ',',\n",
       " 'Comedy',\n",
       " ',',\n",
       " 'Family',\n",
       " 'Toy',\n",
       " 'Story',\n",
       " 'Collection']"
      ]
     },
     "execution_count": 87,
     "metadata": {},
     "output_type": "execute_result"
    }
   ],
   "source": [
    "lemmatizer = WordNetLemmatizer()\n",
    "[lemmatizer.lemmatize(word) for word in test  if word not in set(stopwords.words('english'))]"
   ]
  },
  {
   "cell_type": "code",
   "execution_count": 88,
   "metadata": {},
   "outputs": [],
   "source": [
    "vectorizer = TfidfVectorizer(ngram_range=(1, 2), stop_words=\"english\")\n",
    "lemmatizer = WordNetLemmatizer()\n",
    "\n",
    "def feat_matrix(corpus):   \n",
    "    corpus_tokenized = [word_tokenize(doc) for doc in corpus]\n",
    "     # the corpus is in a pandas series, so it's a list of documents, that's way the join is needed\n",
    "    corpus_stemmed = [' '.join([lemmatizer.lemmatize(word) for word in doc if word not in set(stopwords.words('english'))]) for doc in corpus_tokenized]\n",
    "    feature_matrix = vectorizer.fit_transform(corpus_stemmed)\n",
    "    return feature_matrix\n",
    "\n",
    "def sim_matrix(feature_matrix):\n",
    "    similarity_matrix = cosine_similarity(feature_matrix)\n",
    "    return similarity_matrix"
   ]
  },
  {
   "cell_type": "code",
   "execution_count": 89,
   "metadata": {},
   "outputs": [],
   "source": [
    "feature_matrix = feat_matrix(df_train[\"corpus\"])\n",
    "similarity_matrix = sim_matrix(feature_matrix)"
   ]
  },
  {
   "cell_type": "code",
   "execution_count": 90,
   "metadata": {},
   "outputs": [
    {
     "data": {
      "text/plain": [
       "[{'title': 'Toy Story 2',\n",
       "  'genres': 'Animation, Comedy, Family',\n",
       "  'director': 'John Lasseter',\n",
       "  'similarity': 0.4956},\n",
       " {'title': 'Toy Story 3',\n",
       "  'genres': 'Animation, Family, Comedy',\n",
       "  'director': 'Lee Unkrich',\n",
       "  'similarity': 0.4435},\n",
       " {'title': 'Toy Story of Terror!',\n",
       "  'genres': 'Animation, Comedy, Family',\n",
       "  'director': 'Angus MacLane',\n",
       "  'similarity': 0.2805},\n",
       " {'title': 'Toy Story That Time Forgot',\n",
       "  'genres': 'Animation, Family',\n",
       "  'director': 'Steve Purcell',\n",
       "  'similarity': 0.1622},\n",
       " {'title': 'Small Fry',\n",
       "  'genres': 'Animation, Family',\n",
       "  'director': 'Angus MacLane',\n",
       "  'similarity': 0.1109}]"
      ]
     },
     "execution_count": 90,
     "metadata": {},
     "output_type": "execute_result"
    }
   ],
   "source": [
    "get_recommendations(\"toy story\", feature_matrix, similarity_matrix)"
   ]
  },
  {
   "attachments": {},
   "cell_type": "markdown",
   "metadata": {},
   "source": [
    "The process of stemming and lemmatization is time and resource consuming and, in this case, didn't improve the output of the function. The similarity scores barely changed compared to the simplest model."
   ]
  },
  {
   "attachments": {},
   "cell_type": "markdown",
   "metadata": {},
   "source": [
    "## Using the entire dataset"
   ]
  },
  {
   "attachments": {},
   "cell_type": "markdown",
   "metadata": {},
   "source": [
    "All of the models tested until now have only used the subset df_train. In this try, for memory problems already mentioned, the df_train still going to be used to fit the model, but a movie that isn't in that file can now be inputted. Advantages: the recommendation model isn't restricted in terms of movie range like the simplest model. Disadvantage: a similarity matrix needs to be calculated every time by every function execution, but the product will be between a matrix and a single vector, because of that the consume of resources isn't very high."
   ]
  },
  {
   "cell_type": "code",
   "execution_count": 97,
   "metadata": {},
   "outputs": [],
   "source": [
    "df_movies[\"transformed_title\"] = [string_transformation(x) for x in df_movies[\"title\"]]"
   ]
  },
  {
   "cell_type": "code",
   "execution_count": 98,
   "metadata": {},
   "outputs": [
    {
     "data": {
      "text/plain": [
       "0        Toy Story, Animation, Comedy, Family, Led by W...\n",
       "1        Jumanji, Adventure, Fantasy, Family, When sibl...\n",
       "2        Grumpier Old Men, Romance, Comedy, A family we...\n",
       "3        Waiting to Exhale, Comedy, Drama, Romance, Che...\n",
       "4        Father of the Bride Part II, Comedy, Just when...\n",
       "                               ...                        \n",
       "45340    Robin Hood, Drama, Action, Romance, Yet anothe...\n",
       "45341    Century of Birthing, Drama, An artist struggle...\n",
       "45342    Betrayal, Action, Drama, Thriller, When one of...\n",
       "45343    Satan Triumphant, , In a small town live two b...\n",
       "45344    Queerama, , 50 years after decriminalisation o...\n",
       "Name: corpus, Length: 45345, dtype: object"
      ]
     },
     "execution_count": 98,
     "metadata": {},
     "output_type": "execute_result"
    }
   ],
   "source": [
    "df_movies[\"corpus\"] = (df_movies[\"title\"].fillna(\"\") + \", \" + df_movies[\"genres_list\"].fillna(\"\") \n",
    "                    + \", \" + df_movies[\"overview\"].fillna(\"\") + \", \" + df_movies[\"directors\"].fillna(\"\") + \", \" + df_movies[\"collection\"].fillna(\"\") \n",
    "                    + \", \" + df_movies[\"genres_list\"].fillna(\"\") + \", \" + df_movies[\"collection\"].fillna(\"\") )\n",
    "df_movies[\"corpus\"]"
   ]
  },
  {
   "cell_type": "code",
   "execution_count": 158,
   "metadata": {},
   "outputs": [
    {
     "data": {
      "text/html": [
       "<div>\n",
       "<style scoped>\n",
       "    .dataframe tbody tr th:only-of-type {\n",
       "        vertical-align: middle;\n",
       "    }\n",
       "\n",
       "    .dataframe tbody tr th {\n",
       "        vertical-align: top;\n",
       "    }\n",
       "\n",
       "    .dataframe thead th {\n",
       "        text-align: right;\n",
       "    }\n",
       "</style>\n",
       "<table border=\"1\" class=\"dataframe\">\n",
       "  <thead>\n",
       "    <tr style=\"text-align: right;\">\n",
       "      <th></th>\n",
       "      <th>budget</th>\n",
       "      <th>id</th>\n",
       "      <th>original_language</th>\n",
       "      <th>overview</th>\n",
       "      <th>popularity</th>\n",
       "      <th>release_date</th>\n",
       "      <th>revenue</th>\n",
       "      <th>runtime</th>\n",
       "      <th>title</th>\n",
       "      <th>vote_average</th>\n",
       "      <th>...</th>\n",
       "      <th>spoken_languages_list</th>\n",
       "      <th>production_companies_list</th>\n",
       "      <th>production_countries_list</th>\n",
       "      <th>release_year</th>\n",
       "      <th>return</th>\n",
       "      <th>release_month</th>\n",
       "      <th>release_day</th>\n",
       "      <th>directors</th>\n",
       "      <th>transformed_title</th>\n",
       "      <th>corpus</th>\n",
       "    </tr>\n",
       "  </thead>\n",
       "  <tbody>\n",
       "    <tr>\n",
       "      <th>5161</th>\n",
       "      <td>0.0</td>\n",
       "      <td>14168</td>\n",
       "      <td>en</td>\n",
       "      <td>Dave Evans, a small time farmer, is hired to e...</td>\n",
       "      <td>15.931069</td>\n",
       "      <td>1957-08-07</td>\n",
       "      <td>0.0</td>\n",
       "      <td>92.0</td>\n",
       "      <td>3:10 to Yuma</td>\n",
       "      <td>7.1</td>\n",
       "      <td>...</td>\n",
       "      <td>en</td>\n",
       "      <td>Columbia Pictures Corporation</td>\n",
       "      <td>US</td>\n",
       "      <td>1957</td>\n",
       "      <td>0.00</td>\n",
       "      <td>agosto</td>\n",
       "      <td>miércoles</td>\n",
       "      <td>Delmer Daves</td>\n",
       "      <td>310toyuma</td>\n",
       "      <td>3:10 to Yuma, Drama, Western, Dave Evans, a sm...</td>\n",
       "    </tr>\n",
       "    <tr>\n",
       "      <th>4204</th>\n",
       "      <td>12000000.0</td>\n",
       "      <td>5923</td>\n",
       "      <td>en</td>\n",
       "      <td>Engineer Jake Holman arrives aboard the gunboa...</td>\n",
       "      <td>11.354247</td>\n",
       "      <td>1966-12-20</td>\n",
       "      <td>20000000.0</td>\n",
       "      <td>182.0</td>\n",
       "      <td>The Sand Pebbles</td>\n",
       "      <td>7.2</td>\n",
       "      <td>...</td>\n",
       "      <td>en, zh</td>\n",
       "      <td>Twentieth Century Fox Film Corporation, Solar ...</td>\n",
       "      <td>US</td>\n",
       "      <td>1966</td>\n",
       "      <td>1.67</td>\n",
       "      <td>diciembre</td>\n",
       "      <td>martes</td>\n",
       "      <td>Robert Wise</td>\n",
       "      <td>thesandpebbles</td>\n",
       "      <td>The Sand Pebbles, Action, Adventure, Drama, Wa...</td>\n",
       "    </tr>\n",
       "    <tr>\n",
       "      <th>22779</th>\n",
       "      <td>0.0</td>\n",
       "      <td>210047</td>\n",
       "      <td>en</td>\n",
       "      <td>A struggling motel owner and her daughter are ...</td>\n",
       "      <td>11.823937</td>\n",
       "      <td>2013-09-20</td>\n",
       "      <td>16971.0</td>\n",
       "      <td>90.0</td>\n",
       "      <td>Cold Comes the Night</td>\n",
       "      <td>5.5</td>\n",
       "      <td>...</td>\n",
       "      <td>en</td>\n",
       "      <td>Whitewater Films, Sasquatch Films, Syncopated ...</td>\n",
       "      <td>US</td>\n",
       "      <td>2013</td>\n",
       "      <td>0.00</td>\n",
       "      <td>septiembre</td>\n",
       "      <td>viernes</td>\n",
       "      <td>Tze Chun</td>\n",
       "      <td>coldcomesthenight</td>\n",
       "      <td>Cold Comes the Night, Crime, Drama, Thriller, ...</td>\n",
       "    </tr>\n",
       "    <tr>\n",
       "      <th>18909</th>\n",
       "      <td>0.0</td>\n",
       "      <td>40161</td>\n",
       "      <td>en</td>\n",
       "      <td>A local woman is hired to draw paparazzi away ...</td>\n",
       "      <td>11.033977</td>\n",
       "      <td>2011-06-06</td>\n",
       "      <td>0.0</td>\n",
       "      <td>89.0</td>\n",
       "      <td>The Decoy Bride</td>\n",
       "      <td>6.1</td>\n",
       "      <td>...</td>\n",
       "      <td>en</td>\n",
       "      <td>Scottish Screen, Ecosse Films, Isle of Man Fil...</td>\n",
       "      <td>GB</td>\n",
       "      <td>2011</td>\n",
       "      <td>0.00</td>\n",
       "      <td>junio</td>\n",
       "      <td>lunes</td>\n",
       "      <td>Sheree Folkson</td>\n",
       "      <td>thedecoybride</td>\n",
       "      <td>The Decoy Bride, Drama, Comedy, Romance, A loc...</td>\n",
       "    </tr>\n",
       "    <tr>\n",
       "      <th>26518</th>\n",
       "      <td>0.0</td>\n",
       "      <td>284053</td>\n",
       "      <td>en</td>\n",
       "      <td>Thor is imprisoned on the other side of the un...</td>\n",
       "      <td>57.283628</td>\n",
       "      <td>2017-10-25</td>\n",
       "      <td>0.0</td>\n",
       "      <td>0.0</td>\n",
       "      <td>Thor: Ragnarok</td>\n",
       "      <td>0.0</td>\n",
       "      <td>...</td>\n",
       "      <td>en</td>\n",
       "      <td>Walt Disney Pictures, Marvel Studios</td>\n",
       "      <td>AU</td>\n",
       "      <td>2017</td>\n",
       "      <td>0.00</td>\n",
       "      <td>octubre</td>\n",
       "      <td>miércoles</td>\n",
       "      <td>Taika Waititi</td>\n",
       "      <td>thorragnarok</td>\n",
       "      <td>Thor: Ragnarok, Action, Adventure, Fantasy, Sc...</td>\n",
       "    </tr>\n",
       "  </tbody>\n",
       "</table>\n",
       "<p>5 rows × 23 columns</p>\n",
       "</div>"
      ],
      "text/plain": [
       "           budget      id original_language  \\\n",
       "5161          0.0   14168                en   \n",
       "4204   12000000.0    5923                en   \n",
       "22779         0.0  210047                en   \n",
       "18909         0.0   40161                en   \n",
       "26518         0.0  284053                en   \n",
       "\n",
       "                                                overview  popularity  \\\n",
       "5161   Dave Evans, a small time farmer, is hired to e...   15.931069   \n",
       "4204   Engineer Jake Holman arrives aboard the gunboa...   11.354247   \n",
       "22779  A struggling motel owner and her daughter are ...   11.823937   \n",
       "18909  A local woman is hired to draw paparazzi away ...   11.033977   \n",
       "26518  Thor is imprisoned on the other side of the un...   57.283628   \n",
       "\n",
       "      release_date     revenue  runtime                 title  vote_average  \\\n",
       "5161    1957-08-07         0.0     92.0          3:10 to Yuma           7.1   \n",
       "4204    1966-12-20  20000000.0    182.0      The Sand Pebbles           7.2   \n",
       "22779   2013-09-20     16971.0     90.0  Cold Comes the Night           5.5   \n",
       "18909   2011-06-06         0.0     89.0       The Decoy Bride           6.1   \n",
       "26518   2017-10-25         0.0      0.0        Thor: Ragnarok           0.0   \n",
       "\n",
       "       ...  spoken_languages_list  \\\n",
       "5161   ...                     en   \n",
       "4204   ...                 en, zh   \n",
       "22779  ...                     en   \n",
       "18909  ...                     en   \n",
       "26518  ...                     en   \n",
       "\n",
       "                               production_companies_list  \\\n",
       "5161                       Columbia Pictures Corporation   \n",
       "4204   Twentieth Century Fox Film Corporation, Solar ...   \n",
       "22779  Whitewater Films, Sasquatch Films, Syncopated ...   \n",
       "18909  Scottish Screen, Ecosse Films, Isle of Man Fil...   \n",
       "26518               Walt Disney Pictures, Marvel Studios   \n",
       "\n",
       "      production_countries_list release_year return release_month  \\\n",
       "5161                         US         1957   0.00        agosto   \n",
       "4204                         US         1966   1.67     diciembre   \n",
       "22779                        US         2013   0.00    septiembre   \n",
       "18909                        GB         2011   0.00         junio   \n",
       "26518                        AU         2017   0.00       octubre   \n",
       "\n",
       "       release_day       directors  transformed_title  \\\n",
       "5161     miércoles    Delmer Daves          310toyuma   \n",
       "4204        martes     Robert Wise     thesandpebbles   \n",
       "22779      viernes        Tze Chun  coldcomesthenight   \n",
       "18909        lunes  Sheree Folkson      thedecoybride   \n",
       "26518    miércoles   Taika Waititi       thorragnarok   \n",
       "\n",
       "                                                  corpus  \n",
       "5161   3:10 to Yuma, Drama, Western, Dave Evans, a sm...  \n",
       "4204   The Sand Pebbles, Action, Adventure, Drama, Wa...  \n",
       "22779  Cold Comes the Night, Crime, Drama, Thriller, ...  \n",
       "18909  The Decoy Bride, Drama, Comedy, Romance, A loc...  \n",
       "26518  Thor: Ragnarok, Action, Adventure, Fantasy, Sc...  \n",
       "\n",
       "[5 rows x 23 columns]"
      ]
     },
     "execution_count": 158,
     "metadata": {},
     "output_type": "execute_result"
    }
   ],
   "source": [
    "df_movies[(df_movies[\"vote_count\"] < 100) & (df_movies[\"popularity\"] > 10)].sample(n=5)"
   ]
  },
  {
   "cell_type": "code",
   "execution_count": 107,
   "metadata": {},
   "outputs": [],
   "source": [
    "vectorizer = TfidfVectorizer(ngram_range=(1, 2), stop_words=\"english\")\n",
    "\n",
    "def feat_matrix(corpus):\n",
    "    tfidf_fit = vectorizer.fit(corpus)\n",
    "    feature_matrix = tfidf_fit.transform(corpus)\n",
    "    return tfidf_fit, feature_matrix"
   ]
  },
  {
   "cell_type": "code",
   "execution_count": 179,
   "metadata": {},
   "outputs": [],
   "source": [
    "def get_recommendations(title, tfidf_fit, feature_matrix):\n",
    "    \n",
    "    title = string_transformation(title)\n",
    "    if title in df_movies[\"transformed_title\"].values:\n",
    "        # vectorization of the corpus of entered movie   \n",
    "        new_movie_vector = tfidf_fit.transform(df_movies[df_movies[\"transformed_title\"] == title][\"corpus\"])\n",
    "\n",
    "        # similarity matrix between movies in df_train and entered movie\n",
    "        similarity_matrix = cosine_similarity(new_movie_vector, feature_matrix)\n",
    "\n",
    "        # the product of the feature matrix and the entered movie vector is a matrix where [0] is the\n",
    "        # similarity between that movie and the movies in df_train\n",
    "        # output of enumarate is a tuple (movie index, score) \n",
    "        similar_movies = list(enumerate(similarity_matrix[0]))\n",
    "\n",
    "        # if the movie is in the df_train, ignores the first recommendation because it's the same introduced movied.\n",
    "        # that means that the slicing of the sorted movies should start at postion 1.\n",
    "        if title in df_train[\"transformed_title\"].values:\n",
    "\n",
    "            # the lambda function sort the list of tuples by the second position x[1]\n",
    "            sorted_similar_movies = sorted(similar_movies, key=lambda x: x[1], reverse=True)[1:6]\n",
    "\n",
    "            recommendations = []\n",
    "            for index, score in sorted_similar_movies: # iter the list of tuples and store values\n",
    "                movie_title = df_train['title'][index]\n",
    "                genres = df_train['genres_list'][index]\n",
    "                director = df_train['directors'][index]\n",
    "                similarity_score = score\n",
    "\n",
    "                recommendation = {\n",
    "                    'title': movie_title,\n",
    "                    'genres': genres,\n",
    "                    'director': director,\n",
    "                    'similarity': similarity_score\n",
    "                }\n",
    "                recommendations.append(recommendation)\n",
    "\n",
    "            return recommendations\n",
    "        \n",
    "        else: # if the movie is NOT in the df_train, the slicing of similar movies list will start at postion 0\n",
    "             sorted_similar_movies = sorted(similar_movies, key=lambda x: x[1], reverse=True)[0:5]\n",
    "\n",
    "             recommendations = []\n",
    "             for index, score in sorted_similar_movies: # iter the list of tuples and store values\n",
    "                movie_title = df_train['title'][index]\n",
    "                genres = df_train['genres_list'][index]\n",
    "                director = df_train['directors'][index]\n",
    "                similarity_score = score\n",
    "\n",
    "                recommendation = {\n",
    "                    'title': movie_title,\n",
    "                    'genres': genres,\n",
    "                    'director': director,\n",
    "                    'similarity': similarity_score\n",
    "                }\n",
    "                recommendations.append(recommendation)\n",
    "\n",
    "             return recommendations           \n",
    "    else:\n",
    "        return \"Entered value is not valid.\""
   ]
  },
  {
   "cell_type": "code",
   "execution_count": 130,
   "metadata": {},
   "outputs": [],
   "source": [
    "parameters = feat_matrix(df_train[\"corpus\"])\n",
    "tfidf_fit = parameters[0]\n",
    "feature_matrix = parameters[1]"
   ]
  },
  {
   "cell_type": "code",
   "execution_count": 180,
   "metadata": {},
   "outputs": [
    {
     "data": {
      "text/plain": [
       "[{'title': 'Thor',\n",
       "  'genres': 'Adventure, Fantasy, Action',\n",
       "  'director': 'Kenneth Branagh',\n",
       "  'similarity': 0.4532248037212769},\n",
       " {'title': 'Thor: The Dark World',\n",
       "  'genres': 'Action, Adventure, Fantasy',\n",
       "  'director': 'Alan Taylor',\n",
       "  'similarity': 0.44140523539410015},\n",
       " {'title': 'Doctor Strange',\n",
       "  'genres': 'Action, Adventure, Fantasy, Science Fiction',\n",
       "  'director': 'Scott Derrickson',\n",
       "  'similarity': 0.1748912031543761},\n",
       " {'title': 'Avatar',\n",
       "  'genres': 'Action, Adventure, Fantasy, Science Fiction',\n",
       "  'director': 'James Cameron',\n",
       "  'similarity': 0.17099385980907225},\n",
       " {'title': \"Frank Herbert's Dune\",\n",
       "  'genres': 'Action, Adventure, Fantasy, Science Fiction',\n",
       "  'director': 'John Harrison',\n",
       "  'similarity': 0.17091889979560176}]"
      ]
     },
     "execution_count": 180,
     "metadata": {},
     "output_type": "execute_result"
    }
   ],
   "source": [
    "get_recommendations(\"thor ragnarok\", tfidf_fit, feature_matrix)"
   ]
  },
  {
   "cell_type": "code",
   "execution_count": null,
   "metadata": {},
   "outputs": [],
   "source": [
    "# another way\n",
    "\n",
    "# similar_movies = list(enumerate(similarity_matrix[0]))\n",
    "# sorted_indices = np.argsort(-similarity_matrix[0])  \n",
    "\n",
    "# # Obtener las 5 películas más similares\n",
    "# top_indices = sorted_indices[1:6]  \n",
    "\n",
    "# recommendations = []\n",
    "# for i in top_indices:\n",
    "#     movie_title = df_train.loc[i, 'title']\n",
    "#     genres = df_train.loc[i, 'genres_list']\n",
    "#     director = df_train.loc[i, 'directors']\n",
    "#     similarity_score = similarity_matrix[0, i]\n",
    "\n",
    "#     recommendation = {\n",
    "#         'title': movie_title,\n",
    "#         'genres': genres,\n",
    "#         'director': director,\n",
    "#         'similarity': similarity_score\n",
    "#     }\n",
    "#     recommendations.append(recommendation)\n"
   ]
  }
 ],
 "metadata": {
  "kernelspec": {
   "display_name": "venv",
   "language": "python",
   "name": "python3"
  },
  "language_info": {
   "codemirror_mode": {
    "name": "ipython",
    "version": 3
   },
   "file_extension": ".py",
   "mimetype": "text/x-python",
   "name": "python",
   "nbconvert_exporter": "python",
   "pygments_lexer": "ipython3",
   "version": "3.10.11"
  },
  "orig_nbformat": 4
 },
 "nbformat": 4,
 "nbformat_minor": 2
}
