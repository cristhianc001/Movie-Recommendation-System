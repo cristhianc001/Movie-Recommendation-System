{
 "cells": [
  {
   "attachments": {},
   "cell_type": "markdown",
   "metadata": {},
   "source": [
    "# Importing labraries and data loading"
   ]
  },
  {
   "cell_type": "code",
   "execution_count": 1,
   "metadata": {},
   "outputs": [],
   "source": [
    "import pandas as pd\n",
    "import numpy as np\n",
    "import ast\n",
    "from unidecode import unidecode\n",
    "import re\n",
    "from sklearn.decomposition import TruncatedSVD\n",
    "from sklearn.feature_extraction.text import TfidfVectorizer\n",
    "from sklearn.metrics.pairwise import cosine_similarity "
   ]
  },
  {
   "cell_type": "code",
   "execution_count": 2,
   "metadata": {},
   "outputs": [
    {
     "data": {
      "text/html": [
       "<div>\n",
       "<style scoped>\n",
       "    .dataframe tbody tr th:only-of-type {\n",
       "        vertical-align: middle;\n",
       "    }\n",
       "\n",
       "    .dataframe tbody tr th {\n",
       "        vertical-align: top;\n",
       "    }\n",
       "\n",
       "    .dataframe thead th {\n",
       "        text-align: right;\n",
       "    }\n",
       "</style>\n",
       "<table border=\"1\" class=\"dataframe\">\n",
       "  <thead>\n",
       "    <tr style=\"text-align: right;\">\n",
       "      <th></th>\n",
       "      <th>budget</th>\n",
       "      <th>id</th>\n",
       "      <th>original_language</th>\n",
       "      <th>overview</th>\n",
       "      <th>popularity</th>\n",
       "      <th>release_date</th>\n",
       "      <th>revenue</th>\n",
       "      <th>runtime</th>\n",
       "      <th>title</th>\n",
       "      <th>vote_average</th>\n",
       "      <th>...</th>\n",
       "      <th>collection</th>\n",
       "      <th>genres_list</th>\n",
       "      <th>spoken_languages_list</th>\n",
       "      <th>production_companies_list</th>\n",
       "      <th>production_countries_list</th>\n",
       "      <th>release_year</th>\n",
       "      <th>return</th>\n",
       "      <th>release_month</th>\n",
       "      <th>release_day</th>\n",
       "      <th>directors</th>\n",
       "    </tr>\n",
       "  </thead>\n",
       "  <tbody>\n",
       "    <tr>\n",
       "      <th>0</th>\n",
       "      <td>30000000.0</td>\n",
       "      <td>862</td>\n",
       "      <td>en</td>\n",
       "      <td>Led by Woody, Andy's toys live happily in his ...</td>\n",
       "      <td>21.946943</td>\n",
       "      <td>1995-10-30</td>\n",
       "      <td>373554033.0</td>\n",
       "      <td>81.0</td>\n",
       "      <td>Toy Story</td>\n",
       "      <td>7.7</td>\n",
       "      <td>...</td>\n",
       "      <td>Toy Story Collection</td>\n",
       "      <td>['Animation', 'Comedy', 'Family']</td>\n",
       "      <td>['en']</td>\n",
       "      <td>['Pixar Animation Studios']</td>\n",
       "      <td>['US']</td>\n",
       "      <td>1995</td>\n",
       "      <td>12.45</td>\n",
       "      <td>octubre</td>\n",
       "      <td>lunes</td>\n",
       "      <td>['John Lasseter']</td>\n",
       "    </tr>\n",
       "    <tr>\n",
       "      <th>1</th>\n",
       "      <td>65000000.0</td>\n",
       "      <td>8844</td>\n",
       "      <td>en</td>\n",
       "      <td>When siblings Judy and Peter discover an encha...</td>\n",
       "      <td>17.015539</td>\n",
       "      <td>1995-12-15</td>\n",
       "      <td>262797249.0</td>\n",
       "      <td>104.0</td>\n",
       "      <td>Jumanji</td>\n",
       "      <td>6.9</td>\n",
       "      <td>...</td>\n",
       "      <td>NaN</td>\n",
       "      <td>['Adventure', 'Fantasy', 'Family']</td>\n",
       "      <td>['en', 'fr']</td>\n",
       "      <td>['TriStar Pictures', 'Teitler Film', 'Intersco...</td>\n",
       "      <td>['US']</td>\n",
       "      <td>1995</td>\n",
       "      <td>4.04</td>\n",
       "      <td>diciembre</td>\n",
       "      <td>viernes</td>\n",
       "      <td>['Joe Johnston']</td>\n",
       "    </tr>\n",
       "  </tbody>\n",
       "</table>\n",
       "<p>2 rows × 21 columns</p>\n",
       "</div>"
      ],
      "text/plain": [
       "       budget    id original_language  \\\n",
       "0  30000000.0   862                en   \n",
       "1  65000000.0  8844                en   \n",
       "\n",
       "                                            overview  popularity release_date  \\\n",
       "0  Led by Woody, Andy's toys live happily in his ...   21.946943   1995-10-30   \n",
       "1  When siblings Judy and Peter discover an encha...   17.015539   1995-12-15   \n",
       "\n",
       "       revenue  runtime      title  vote_average  ...            collection  \\\n",
       "0  373554033.0     81.0  Toy Story           7.7  ...  Toy Story Collection   \n",
       "1  262797249.0    104.0    Jumanji           6.9  ...                   NaN   \n",
       "\n",
       "                          genres_list spoken_languages_list  \\\n",
       "0   ['Animation', 'Comedy', 'Family']                ['en']   \n",
       "1  ['Adventure', 'Fantasy', 'Family']          ['en', 'fr']   \n",
       "\n",
       "                           production_companies_list  \\\n",
       "0                        ['Pixar Animation Studios']   \n",
       "1  ['TriStar Pictures', 'Teitler Film', 'Intersco...   \n",
       "\n",
       "  production_countries_list release_year  return  release_month release_day  \\\n",
       "0                    ['US']         1995   12.45        octubre       lunes   \n",
       "1                    ['US']         1995    4.04      diciembre     viernes   \n",
       "\n",
       "           directors  \n",
       "0  ['John Lasseter']  \n",
       "1   ['Joe Johnston']  \n",
       "\n",
       "[2 rows x 21 columns]"
      ]
     },
     "execution_count": 2,
     "metadata": {},
     "output_type": "execute_result"
    }
   ],
   "source": [
    "df_movies = pd.read_csv(\"../processed_data/movies.csv\")\n",
    "df_movies.head(2)"
   ]
  },
  {
   "cell_type": "code",
   "execution_count": 3,
   "metadata": {},
   "outputs": [
    {
     "data": {
      "text/plain": [
       "str"
      ]
     },
     "execution_count": 3,
     "metadata": {},
     "output_type": "execute_result"
    }
   ],
   "source": [
    "# the type of these kind of colums are string, needs to be converted to list\n",
    "\n",
    "type(df_movies[\"genres_list\"][0])"
   ]
  },
  {
   "cell_type": "code",
   "execution_count": 4,
   "metadata": {},
   "outputs": [],
   "source": [
    "def string_transformation(text):\n",
    "    if type(text) == str:\n",
    "        text = text.lower().strip().replace(\" \", \"\")\n",
    "        text = unidecode(text)  # delete accents\n",
    "        text = re.sub(r'[^\\w\\s]', '', text)  # delete special characters and punctuation marks\n",
    "        return text\n",
    "    else:\n",
    "     return \"Entered value is not valid.\" "
   ]
  },
  {
   "attachments": {},
   "cell_type": "markdown",
   "metadata": {},
   "source": [
    "# Testing TfidfVectorizer"
   ]
  },
  {
   "attachments": {},
   "cell_type": "markdown",
   "metadata": {},
   "source": [
    "To understand well the use of this library, a series of differents objects are goint to be fit and transformed"
   ]
  },
  {
   "cell_type": "code",
   "execution_count": 5,
   "metadata": {},
   "outputs": [],
   "source": [
    "tfidf = TfidfVectorizer(stop_words=\"english\") # stop_words delete common words\n",
    "test_list = ['Animation', 'Comedy', 'Family']\n",
    "test_list2 = [ ['Animation', 'Comedy', 'Family'],  ['Animation', 'Comedy', 'Family']] # not allowed\n",
    "test_list3 = df_movies[\"genres_list\"][0:2] # only if they are string type\n",
    "test_string = \"Animation\", \"Comedy\", \"Family\"\n",
    "test_sentence = '''Led by Woody, Andy's toys live happily in his room until Andy's birthday brings Buzz Lightyear onto the scene.\n",
    "                Afraid of losing his place in Andy's heart, Woody plots against Buzz. But when circumstances separate \n",
    "                  Buzz and Woody from their owner, the duo eventually learns to put aside their differences.''' # not allowed\n",
    "test_row = df_movies[\"overview\"][0] # not allowed\n",
    "test_combination = df_movies[\"genres_list\"][0:2] + \" \" + df_movies[\"overview\"][0:2] # only if they are string type"
   ]
  },
  {
   "attachments": {},
   "cell_type": "markdown",
   "metadata": {},
   "source": [
    "Not only these objects are going to be tested, the resulting vocabulary and bag of words can be seen as well."
   ]
  },
  {
   "attachments": {},
   "cell_type": "markdown",
   "metadata": {},
   "source": [
    "## List"
   ]
  },
  {
   "cell_type": "code",
   "execution_count": 8,
   "metadata": {},
   "outputs": [],
   "source": [
    "# can process list, but not list of lists \n",
    "\n",
    "# calculate parameters like weights, vectorize and transform to a matrix (bag of words)\n",
    "tfidf_matrix = tfidf.fit_transform(test_list)\n",
    "doc_term_matrix = tfidf_matrix.todense()"
   ]
  },
  {
   "cell_type": "code",
   "execution_count": 373,
   "metadata": {},
   "outputs": [
    {
     "data": {
      "text/plain": [
       "array([[1., 0., 0.],\n",
       "       [0., 1., 0.],\n",
       "       [0., 0., 1.]])"
      ]
     },
     "execution_count": 373,
     "metadata": {},
     "output_type": "execute_result"
    }
   ],
   "source": [
    "tfidf_matrix.toarray()"
   ]
  },
  {
   "cell_type": "code",
   "execution_count": 10,
   "metadata": {},
   "outputs": [
    {
     "data": {
      "text/html": [
       "<div>\n",
       "<style scoped>\n",
       "    .dataframe tbody tr th:only-of-type {\n",
       "        vertical-align: middle;\n",
       "    }\n",
       "\n",
       "    .dataframe tbody tr th {\n",
       "        vertical-align: top;\n",
       "    }\n",
       "\n",
       "    .dataframe thead th {\n",
       "        text-align: right;\n",
       "    }\n",
       "</style>\n",
       "<table border=\"1\" class=\"dataframe\">\n",
       "  <thead>\n",
       "    <tr style=\"text-align: right;\">\n",
       "      <th></th>\n",
       "      <th>animation</th>\n",
       "      <th>comedy</th>\n",
       "      <th>family</th>\n",
       "    </tr>\n",
       "  </thead>\n",
       "  <tbody>\n",
       "    <tr>\n",
       "      <th>Animation</th>\n",
       "      <td>1.0</td>\n",
       "      <td>0.0</td>\n",
       "      <td>0.0</td>\n",
       "    </tr>\n",
       "    <tr>\n",
       "      <th>Comedy</th>\n",
       "      <td>0.0</td>\n",
       "      <td>1.0</td>\n",
       "      <td>0.0</td>\n",
       "    </tr>\n",
       "    <tr>\n",
       "      <th>Family</th>\n",
       "      <td>0.0</td>\n",
       "      <td>0.0</td>\n",
       "      <td>1.0</td>\n",
       "    </tr>\n",
       "  </tbody>\n",
       "</table>\n",
       "</div>"
      ],
      "text/plain": [
       "           animation  comedy  family\n",
       "Animation        1.0     0.0     0.0\n",
       "Comedy           0.0     1.0     0.0\n",
       "Family           0.0     0.0     1.0"
      ]
     },
     "execution_count": 10,
     "metadata": {},
     "output_type": "execute_result"
    }
   ],
   "source": [
    "df = pd.DataFrame(doc_term_matrix, \n",
    "                  columns=tfidf.get_feature_names_out() , \n",
    "                  index= test_list\n",
    "                  )\n",
    "df"
   ]
  },
  {
   "attachments": {},
   "cell_type": "markdown",
   "metadata": {},
   "source": [
    "## Strings separated"
   ]
  },
  {
   "cell_type": "code",
   "execution_count": 374,
   "metadata": {},
   "outputs": [
    {
     "data": {
      "text/plain": [
       "array(['animation', 'comedy', 'family'], dtype=object)"
      ]
     },
     "execution_count": 374,
     "metadata": {},
     "output_type": "execute_result"
    }
   ],
   "source": [
    "tfidf.fit_transform(test_string)  # calculate parameters like weights, vectorize and transform to a matrix (bag of words)\n",
    "tfidf.get_feature_names_out() "
   ]
  },
  {
   "attachments": {},
   "cell_type": "markdown",
   "metadata": {},
   "source": [
    "## Rows of a dataframe (only if they are string type)"
   ]
  },
  {
   "cell_type": "code",
   "execution_count": 378,
   "metadata": {},
   "outputs": [
    {
     "data": {
      "text/plain": [
       "array(['adventure', 'animation', 'comedy', 'family', 'fantasy'],\n",
       "      dtype=object)"
      ]
     },
     "execution_count": 378,
     "metadata": {},
     "output_type": "execute_result"
    }
   ],
   "source": [
    "tfidf.fit_transform(test_list3)  # calculate parameters like weights, vectorize and transform to a matrix (bag of words)\n",
    "tfidf.get_feature_names_out() "
   ]
  },
  {
   "attachments": {},
   "cell_type": "markdown",
   "metadata": {},
   "source": [
    "## An entire column of a dataframe"
   ]
  },
  {
   "cell_type": "code",
   "execution_count": 325,
   "metadata": {},
   "outputs": [
    {
     "data": {
      "text/plain": [
       "array(['00', '000', '000km', ..., '첫사랑', 'ﬁrst', 'ﬁve'], dtype=object)"
      ]
     },
     "execution_count": 325,
     "metadata": {},
     "output_type": "execute_result"
    }
   ],
   "source": [
    "# doesn't process strings directly\n",
    "# too big to show array\n",
    "\n",
    "tfidf_matrix = tfidf.fit_transform(df_movies[\"overview\"].fillna(\"\"))  # calculate parameters like weights, vectorize and transform to a matrix (bag of words)\n",
    "tfidf.get_feature_names_out() "
   ]
  },
  {
   "cell_type": "code",
   "execution_count": 327,
   "metadata": {},
   "outputs": [
    {
     "data": {
      "text/plain": [
       "75765"
      ]
     },
     "execution_count": 327,
     "metadata": {},
     "output_type": "execute_result"
    }
   ],
   "source": [
    "len(tfidf.get_feature_names_out()) # number of words"
   ]
  },
  {
   "attachments": {},
   "cell_type": "markdown",
   "metadata": {},
   "source": [
    "## Concatenation of two columns of a dataframe (only if they are string type)"
   ]
  },
  {
   "cell_type": "code",
   "execution_count": 319,
   "metadata": {},
   "outputs": [
    {
     "data": {
      "text/plain": [
       "array(['26', 'adult', 'adventure', 'afraid', 'alan', 'andy', 'animation',\n",
       "       'aside', 'birthday', 'board', 'brings', 'buzz', 'circumstances',\n",
       "       'comedy', 'creatures', 'differences', 'discover', 'door', 'duo',\n",
       "       'enchanted', 'eventually', 'evil', 'family', 'fantasy', 'finish',\n",
       "       'freedom', 'game', 'giant', 'happily', 'heart', 'hope', 'inside',\n",
       "       'invite', 'judy', 'learns', 'led', 'lightyear', 'live', 'living',\n",
       "       'losing', 'magical', 'monkeys', 'opens', 'owner', 'peter', 'place',\n",
       "       'plots', 'proves', 'rhinoceroses', 'risky', 'room', 'running',\n",
       "       'scene', 'separate', 'siblings', 'terrifying', 'toys', 'trapped',\n",
       "       'unwittingly', 'woody', 'world', 'years'], dtype=object)"
      ]
     },
     "execution_count": 319,
     "metadata": {},
     "output_type": "execute_result"
    }
   ],
   "source": [
    "tfidf_matrix = tfidf.fit_transform(test_combination)  # calculate parameters like weights, vectorize and transform to a matrix (bag of words)\n",
    "tfidf.get_feature_names_out() "
   ]
  },
  {
   "cell_type": "code",
   "execution_count": 324,
   "metadata": {},
   "outputs": [
    {
     "data": {
      "text/plain": [
       "62"
      ]
     },
     "execution_count": 324,
     "metadata": {},
     "output_type": "execute_result"
    }
   ],
   "source": [
    "len(tfidf.get_feature_names_out()) # number of words"
   ]
  },
  {
   "cell_type": "code",
   "execution_count": 322,
   "metadata": {},
   "outputs": [
    {
     "data": {
      "text/plain": [
       "array([[0.        , 0.        , 0.        , 0.14001087, 0.        ,\n",
       "        0.4200326 , 0.14001087, 0.14001087, 0.14001087, 0.        ,\n",
       "        0.14001087, 0.4200326 , 0.14001087, 0.14001087, 0.        ,\n",
       "        0.14001087, 0.        , 0.        , 0.14001087, 0.        ,\n",
       "        0.14001087, 0.        , 0.09961889, 0.        , 0.        ,\n",
       "        0.        , 0.        , 0.        , 0.14001087, 0.14001087,\n",
       "        0.        , 0.        , 0.        , 0.        , 0.14001087,\n",
       "        0.14001087, 0.14001087, 0.14001087, 0.        , 0.14001087,\n",
       "        0.        , 0.        , 0.        , 0.14001087, 0.        ,\n",
       "        0.14001087, 0.14001087, 0.        , 0.        , 0.        ,\n",
       "        0.09961889, 0.        , 0.14001087, 0.14001087, 0.        ,\n",
       "        0.        , 0.14001087, 0.        , 0.        , 0.4200326 ,\n",
       "        0.        , 0.        ],\n",
       "       [0.14742195, 0.14742195, 0.14742195, 0.        , 0.29484389,\n",
       "        0.        , 0.        , 0.        , 0.        , 0.14742195,\n",
       "        0.        , 0.        , 0.        , 0.        , 0.14742195,\n",
       "        0.        , 0.14742195, 0.14742195, 0.        , 0.14742195,\n",
       "        0.        , 0.14742195, 0.10489193, 0.14742195, 0.14742195,\n",
       "        0.14742195, 0.44226584, 0.14742195, 0.        , 0.        ,\n",
       "        0.14742195, 0.14742195, 0.14742195, 0.14742195, 0.        ,\n",
       "        0.        , 0.        , 0.        , 0.14742195, 0.        ,\n",
       "        0.14742195, 0.14742195, 0.14742195, 0.        , 0.14742195,\n",
       "        0.        , 0.        , 0.14742195, 0.14742195, 0.14742195,\n",
       "        0.10489193, 0.14742195, 0.        , 0.        , 0.14742195,\n",
       "        0.14742195, 0.        , 0.14742195, 0.14742195, 0.        ,\n",
       "        0.14742195, 0.14742195]])"
      ]
     },
     "execution_count": 322,
     "metadata": {},
     "output_type": "execute_result"
    }
   ],
   "source": [
    "tfidf_matrix.toarray() # 2 rows, 64 words"
   ]
  },
  {
   "attachments": {},
   "cell_type": "markdown",
   "metadata": {},
   "source": [
    "# Recommendation Model"
   ]
  },
  {
   "attachments": {},
   "cell_type": "markdown",
   "metadata": {},
   "source": [
    "Like it was said in the exploratory data analysis notebook, it was mandotory for this project the use of a subset, because the free plan offered by Render have limited memory and cannot storage very big matrices."
   ]
  },
  {
   "cell_type": "code",
   "execution_count": 150,
   "metadata": {},
   "outputs": [
    {
     "data": {
      "text/plain": [
       "(6050, 22)"
      ]
     },
     "execution_count": 150,
     "metadata": {},
     "output_type": "execute_result"
    }
   ],
   "source": [
    "df_train = df_movies[df_movies[\"vote_count\"] >= 100].reset_index()\n",
    "df_train.shape"
   ]
  },
  {
   "attachments": {},
   "cell_type": "markdown",
   "metadata": {},
   "source": [
    "As it's already done in the data cleaning phase, with AST library is possible to convert strings that represent an specific data structure to that data structure, like lists in this case."
   ]
  },
  {
   "cell_type": "code",
   "execution_count": 135,
   "metadata": {},
   "outputs": [],
   "source": [
    "df_train[\"genres_list\"] = [x if pd.isnull(x) else ast.literal_eval(x) for x in df_train[\"genres_list\"]]\n",
    "df_train[\"directors\"] = [x if pd.isnull(x) else ast.literal_eval(x) for x in df_train[\"directors\"]]\n",
    "df_train[\"spoken_languages_list\"] = [x if pd.isnull(x) else ast.literal_eval(x) for x in df_train[\"spoken_languages_list\"]]\n",
    "df_train[\"production_countries_list\"] = [x if pd.isnull(x) else ast.literal_eval(x) for x in df_train[\"production_countries_list\"]]\n",
    "df_train[\"production_companies_list\"] = [x if pd.isnull(x) else ast.literal_eval(x) for x in df_train[\"production_companies_list\"]]"
   ]
  },
  {
   "attachments": {},
   "cell_type": "markdown",
   "metadata": {},
   "source": [
    "Now the elements of these columns are type list, they can be extracted as strings. It's probable that TfidfVectorizer() can process these columns in their original state as strings, ignoring special characters like square brackets and these transformations could be redundant, but it's way to guarantee the correct performance of the following functions."
   ]
  },
  {
   "cell_type": "code",
   "execution_count": 136,
   "metadata": {},
   "outputs": [],
   "source": [
    "df_train[\"genres_list\"] = [x if None else \", \".join(x) for x in df_train[\"genres_list\"]]\n",
    "df_train[\"directors\"] = [x if None else \", \".join(x) for x in df_train[\"directors\"]]\n",
    "df_train[\"spoken_languages_list\"] = [x if None else \", \".join(x) for x in df_train[\"spoken_languages_list\"]]\n",
    "df_train[\"production_countries_list\"] = [x if None else \", \".join(x) for x in df_train[\"production_countries_list\"]]\n",
    "df_train[\"production_companies_list\"] = [x if None else \", \".join(x) for x in df_train[\"production_companies_list\"]]"
   ]
  },
  {
   "attachments": {},
   "cell_type": "markdown",
   "metadata": {},
   "source": [
    "After the extraction, now the corpus of the experiment will be built with the following columns."
   ]
  },
  {
   "cell_type": "code",
   "execution_count": 58,
   "metadata": {},
   "outputs": [
    {
     "data": {
      "text/plain": [
       "0       Animation, Comedy, FamilyLed by Woody, Andy's ...\n",
       "1                                                     NaN\n",
       "2       ComedyJust when George Banks has recovered fro...\n",
       "3                                                     NaN\n",
       "4                                                     NaN\n",
       "                              ...                        \n",
       "6045    TV Movie, Family, Action, Comedy, Music, Adven...\n",
       "6046                                                  NaN\n",
       "6047    ComedyStuck in the corridors of time, Godefroy...\n",
       "6048                                                  NaN\n",
       "6049                                                  NaN\n",
       "Length: 6050, dtype: object"
      ]
     },
     "execution_count": 58,
     "metadata": {},
     "output_type": "execute_result"
    }
   ],
   "source": [
    "# important to use fillna(), because the result of concatenation between NaN and strings is a null value.\n",
    "\n",
    "df_train[\"genres_list\"] + df_train[\"overview\"] + df_train[\"directors\"] + df_train[\"collection\"]  "
   ]
  },
  {
   "cell_type": "code",
   "execution_count": 137,
   "metadata": {},
   "outputs": [
    {
     "data": {
      "text/plain": [
       "0       Toy Story, Animation, Comedy, Family, Led by W...\n",
       "1       Jumanji, Adventure, Fantasy, Family, When sibl...\n",
       "2       Heat, Action, Crime, Drama, Thriller, Obsessiv...\n",
       "3       GoldenEye, Adventure, Action, Thriller, James ...\n",
       "4       Balto, Family, Animation, Adventure, An outcas...\n",
       "                              ...                        \n",
       "2705    Dunkirk, Action, Drama, History, Thriller, War...\n",
       "2706    Transformers: The Last Knight, Action, Science...\n",
       "2707    Three Men and a Leg, Comedy, Three friends lea...\n",
       "2708    The Dark Tower, Action, Western, Science Ficti...\n",
       "2709    Girls Trip, Comedy, Four girlfriends take a tr...\n",
       "Name: corpus, Length: 2710, dtype: object"
      ]
     },
     "execution_count": 137,
     "metadata": {},
     "output_type": "execute_result"
    }
   ],
   "source": [
    "df_train[\"corpus\"] = df_train[\"title\"].fillna(\"\") + \", \" +df_train[\"genres_list\"].fillna(\"\") + \", \" + df_train[\"overview\"].fillna(\"\") + \", \" + df_train[\"directors\"].fillna(\"\") + \", \" + df_train[\"collection\"].fillna(\"\") \n",
    "df_train[\"corpus\"]"
   ]
  },
  {
   "cell_type": "code",
   "execution_count": 42,
   "metadata": {},
   "outputs": [],
   "source": [
    "# Create bag of words\n",
    "vectorizer = TfidfVectorizer(ngram_range=(2,2), stop_words=\"english\")\n",
    "tfidf = vectorizer.fit_transform(df_train['corpus'])"
   ]
  },
  {
   "cell_type": "code",
   "execution_count": 57,
   "metadata": {},
   "outputs": [
    {
     "data": {
      "text/html": [
       "<style>#sk-container-id-1 {color: black;background-color: white;}#sk-container-id-1 pre{padding: 0;}#sk-container-id-1 div.sk-toggleable {background-color: white;}#sk-container-id-1 label.sk-toggleable__label {cursor: pointer;display: block;width: 100%;margin-bottom: 0;padding: 0.3em;box-sizing: border-box;text-align: center;}#sk-container-id-1 label.sk-toggleable__label-arrow:before {content: \"▸\";float: left;margin-right: 0.25em;color: #696969;}#sk-container-id-1 label.sk-toggleable__label-arrow:hover:before {color: black;}#sk-container-id-1 div.sk-estimator:hover label.sk-toggleable__label-arrow:before {color: black;}#sk-container-id-1 div.sk-toggleable__content {max-height: 0;max-width: 0;overflow: hidden;text-align: left;background-color: #f0f8ff;}#sk-container-id-1 div.sk-toggleable__content pre {margin: 0.2em;color: black;border-radius: 0.25em;background-color: #f0f8ff;}#sk-container-id-1 input.sk-toggleable__control:checked~div.sk-toggleable__content {max-height: 200px;max-width: 100%;overflow: auto;}#sk-container-id-1 input.sk-toggleable__control:checked~label.sk-toggleable__label-arrow:before {content: \"▾\";}#sk-container-id-1 div.sk-estimator input.sk-toggleable__control:checked~label.sk-toggleable__label {background-color: #d4ebff;}#sk-container-id-1 div.sk-label input.sk-toggleable__control:checked~label.sk-toggleable__label {background-color: #d4ebff;}#sk-container-id-1 input.sk-hidden--visually {border: 0;clip: rect(1px 1px 1px 1px);clip: rect(1px, 1px, 1px, 1px);height: 1px;margin: -1px;overflow: hidden;padding: 0;position: absolute;width: 1px;}#sk-container-id-1 div.sk-estimator {font-family: monospace;background-color: #f0f8ff;border: 1px dotted black;border-radius: 0.25em;box-sizing: border-box;margin-bottom: 0.5em;}#sk-container-id-1 div.sk-estimator:hover {background-color: #d4ebff;}#sk-container-id-1 div.sk-parallel-item::after {content: \"\";width: 100%;border-bottom: 1px solid gray;flex-grow: 1;}#sk-container-id-1 div.sk-label:hover label.sk-toggleable__label {background-color: #d4ebff;}#sk-container-id-1 div.sk-serial::before {content: \"\";position: absolute;border-left: 1px solid gray;box-sizing: border-box;top: 0;bottom: 0;left: 50%;z-index: 0;}#sk-container-id-1 div.sk-serial {display: flex;flex-direction: column;align-items: center;background-color: white;padding-right: 0.2em;padding-left: 0.2em;position: relative;}#sk-container-id-1 div.sk-item {position: relative;z-index: 1;}#sk-container-id-1 div.sk-parallel {display: flex;align-items: stretch;justify-content: center;background-color: white;position: relative;}#sk-container-id-1 div.sk-item::before, #sk-container-id-1 div.sk-parallel-item::before {content: \"\";position: absolute;border-left: 1px solid gray;box-sizing: border-box;top: 0;bottom: 0;left: 50%;z-index: -1;}#sk-container-id-1 div.sk-parallel-item {display: flex;flex-direction: column;z-index: 1;position: relative;background-color: white;}#sk-container-id-1 div.sk-parallel-item:first-child::after {align-self: flex-end;width: 50%;}#sk-container-id-1 div.sk-parallel-item:last-child::after {align-self: flex-start;width: 50%;}#sk-container-id-1 div.sk-parallel-item:only-child::after {width: 0;}#sk-container-id-1 div.sk-dashed-wrapped {border: 1px dashed gray;margin: 0 0.4em 0.5em 0.4em;box-sizing: border-box;padding-bottom: 0.4em;background-color: white;}#sk-container-id-1 div.sk-label label {font-family: monospace;font-weight: bold;display: inline-block;line-height: 1.2em;}#sk-container-id-1 div.sk-label-container {text-align: center;}#sk-container-id-1 div.sk-container {/* jupyter's `normalize.less` sets `[hidden] { display: none; }` but bootstrap.min.css set `[hidden] { display: none !important; }` so we also need the `!important` here to be able to override the default hidden behavior on the sphinx rendered scikit-learn.org. See: https://github.com/scikit-learn/scikit-learn/issues/21755 */display: inline-block !important;position: relative;}#sk-container-id-1 div.sk-text-repr-fallback {display: none;}</style><div id=\"sk-container-id-1\" class=\"sk-top-container\"><div class=\"sk-text-repr-fallback\"><pre>TruncatedSVD(algorithm=&#x27;arpack&#x27;, n_components=100)</pre><b>In a Jupyter environment, please rerun this cell to show the HTML representation or trust the notebook. <br />On GitHub, the HTML representation is unable to render, please try loading this page with nbviewer.org.</b></div><div class=\"sk-container\" hidden><div class=\"sk-item\"><div class=\"sk-estimator sk-toggleable\"><input class=\"sk-toggleable__control sk-hidden--visually\" id=\"sk-estimator-id-1\" type=\"checkbox\" checked><label for=\"sk-estimator-id-1\" class=\"sk-toggleable__label sk-toggleable__label-arrow\">TruncatedSVD</label><div class=\"sk-toggleable__content\"><pre>TruncatedSVD(algorithm=&#x27;arpack&#x27;, n_components=100)</pre></div></div></div></div></div>"
      ],
      "text/plain": [
       "TruncatedSVD(algorithm='arpack', n_components=100)"
      ]
     },
     "execution_count": 57,
     "metadata": {},
     "output_type": "execute_result"
    }
   ],
   "source": [
    "\n",
    "# Apply LSA or LSI\n",
    "lsa = TruncatedSVD(n_components=100, algorithm='arpack')\n",
    "lsa.fit(tfidf)"
   ]
  },
  {
   "cell_type": "code",
   "execution_count": 72,
   "metadata": {},
   "outputs": [
    {
     "name": "stdout",
     "output_type": "stream",
     "text": [
      "242: The Silence of the Lambs\n",
      "1919: Red Dragon\n",
      "3003: Hannibal Rising\n",
      "1576: Manhunter\n",
      "2934: Borat: Cultural Learnings of America for Make Benefit Glorious Nation of Kazakhstan\n",
      "2479: Blade: Trinity\n",
      "3763: The A-Team\n",
      "2107: Matchstick Men\n",
      "621: G.I. Jane\n",
      "5716: I Am Wrath\n",
      "700: Mercury Rising\n",
      "5586: Solace\n",
      "2654: Kingdom of Heaven\n",
      "1330: Thelma & Louise\n",
      "4669: The Counselor\n",
      "4071: Tinker Tailor Soldier Spy\n",
      "840: The Dead Zone\n",
      "594: Donnie Brasco\n",
      "2443: 1492: Conquest of Paradise\n"
     ]
    }
   ],
   "source": [
    "# Create bag of words\n",
    "vectorizer = TfidfVectorizer(ngram_range=(1,2), stop_words=\"english\")\n",
    "tfidf = vectorizer.fit_transform(df_train['corpus'])\n",
    "\n",
    "\n",
    "user_movie = input(\"Enter a movie title: \")\n",
    "# Find the index of the user movie\n",
    "movie_index = df_train[df_train['title'] == user_movie].index[0]\n",
    "\n",
    "# Compute the cosine similarities between the user movie and all other movies\n",
    "similarity_scores = cosine_similarity(tfidf[movie_index], tfidf)\n",
    "\n",
    "# Get the top 10 most similar movies\n",
    "similar_movies = list(enumerate(similarity_scores[0]))\n",
    "sorted_similar_movies = sorted(similar_movies, key=lambda x: x[1], reverse=True)[1:20]\n",
    "\n",
    "# Print the top 10 similar movies\n",
    "for i, score in sorted_similar_movies:\n",
    "    print(\"{}: {}\".format(i, df_train.loc[i, 'title']))"
   ]
  },
  {
   "attachments": {},
   "cell_type": "markdown",
   "metadata": {},
   "source": [
    "## Using TruncatedSVD LSA or LSI"
   ]
  },
  {
   "cell_type": "code",
   "execution_count": 143,
   "metadata": {},
   "outputs": [
    {
     "name": "stdout",
     "output_type": "stream",
     "text": [
      "2168128\n",
      "1781: Cars 2\n",
      "2697: Cars 3\n",
      "439: A Bug's Life\n",
      "1733: Rango\n",
      "4: Balto\n",
      "1407: Welcome to the Sticks\n",
      "1931: ParaNorman\n",
      "1304: The Simpsons Movie\n",
      "1755: Welcome to the South\n",
      "627: Blazing Saddles\n",
      "2288: The Book of Life\n",
      "800: Mr. Deeds\n",
      "1590: I Love You Phillip Morris\n",
      "794: Spirit: Stallion of the Cimarron\n",
      "565: Easy Rider\n",
      "1128: The Curse of the Were-Rabbit\n",
      "1096: Herbie Fully Loaded\n",
      "2407: Maggie\n",
      "1271: Meet the Robinsons\n"
     ]
    }
   ],
   "source": [
    "from sklearn.decomposition import TruncatedSVD\n",
    "from sklearn.feature_extraction.text import TfidfVectorizer\n",
    "from sklearn.metrics.pairwise import cosine_similarity\n",
    "\n",
    "# Crear bag of words\n",
    "vectorizer = TfidfVectorizer(ngram_range=(1, 2), stop_words=\"english\")\n",
    "tfidf = vectorizer.fit_transform(df_train['corpus'])\n",
    "\n",
    "user_movie = input(\"Enter a movie title: \")\n",
    "# Encontrar el índice de la película del usuario\n",
    "movie_index = df_train[df_train['title'] == user_movie].index[0]\n",
    "\n",
    "# Aplicar LSA o LSI\n",
    "lsa = TruncatedSVD(n_components=100, algorithm='arpack')\n",
    "lsa.fit(tfidf)\n",
    "\n",
    "# Transformar la matriz TF-IDF a una representación de menor dimensión\n",
    "tfidf_lsa = lsa.transform(tfidf)\n",
    "\n",
    "# Calcular las similitudes coseno entre la película del usuario y todas las demás películas en la representación LSA\n",
    "similarity_scores = cosine_similarity(tfidf_lsa[movie_index].reshape(1, -1), tfidf_lsa)\n",
    "\n",
    "# Obtener las 10 películas más similares\n",
    "similar_movies = list(enumerate(similarity_scores[0]))\n",
    "sorted_similar_movies = sorted(similar_movies, key=lambda x: x[1], reverse=True)[1:20]\n",
    "\n",
    "# Imprimir las 10 películas similares\n",
    "for i, score in sorted_similar_movies:\n",
    "    print(\"{}: {}\".format(i, df_train.loc[i, 'title']))\n"
   ]
  },
  {
   "attachments": {},
   "cell_type": "markdown",
   "metadata": {},
   "source": [
    "## API Function"
   ]
  },
  {
   "cell_type": "code",
   "execution_count": 138,
   "metadata": {},
   "outputs": [
    {
     "data": {
      "text/plain": [
       "{1781: 'Cars 2',\n",
       " 2697: 'Cars 3',\n",
       " 430: 'Bride of Chucky',\n",
       " 182: 'Days of Thunder',\n",
       " 439: \"A Bug's Life\",\n",
       " 2288: 'The Book of Life',\n",
       " 1571: 'Invictus',\n",
       " 1204: 'Little Miss Sunshine',\n",
       " 1539: 'The Final Destination',\n",
       " 1321: 'The Game Plan',\n",
       " 636: 'Gone in Sixty Seconds',\n",
       " 0: 'Toy Story',\n",
       " 794: 'Spirit: Stallion of the Cimarron',\n",
       " 1733: 'Rango',\n",
       " 627: 'Blazing Saddles',\n",
       " 560: 'Toy Story 2',\n",
       " 2309: 'Penguins of Madagascar',\n",
       " 2015: 'G.I. Joe: Retaliation',\n",
       " 2044: 'Epic'}"
      ]
     },
     "execution_count": 138,
     "metadata": {},
     "output_type": "execute_result"
    }
   ],
   "source": [
    "def get_recommendations(title):\n",
    "    # Crear bag of words\n",
    "    vectorizer = TfidfVectorizer(ngram_range=(1, 2), stop_words=\"english\")\n",
    "    tfidf = vectorizer.fit_transform(df_train['corpus'])\n",
    "\n",
    "    user_movie = title\n",
    "    # Encontrar el índice de la película del usuario\n",
    "    movie_index = df_train[df_train['title'] == user_movie].index[0]\n",
    "\n",
    "    # Calcular las similitudes coseno entre la película del usuario y todas las demás películas en la representación LSA\n",
    "    similarity_scores = cosine_similarity(tfidf[movie_index].reshape(1, -1), tfidf)\n",
    "\n",
    "    # Obtener las 10 películas más similares\n",
    "    similar_movies = list(enumerate(similarity_scores[0]))\n",
    "    sorted_similar_movies = sorted(similar_movies, key=lambda x: x[1], reverse=True)[1:20]\n",
    "\n",
    "    # Crear el diccionario de películas recomendadas\n",
    "    recommendations = {}\n",
    "    for i, score in sorted_similar_movies:\n",
    "        recommendations[i] = df_train.loc[i, 'title']\n",
    "\n",
    "    return recommendations\n",
    "\n",
    "get_recommendations(\"Cars\")"
   ]
  },
  {
   "cell_type": "code",
   "execution_count": 140,
   "metadata": {},
   "outputs": [
    {
     "data": {
      "text/plain": [
       "{1781: 'Cars 2',\n",
       " 2697: 'Cars 3',\n",
       " 439: \"A Bug's Life\",\n",
       " 1733: 'Rango',\n",
       " 4: 'Balto',\n",
       " 1407: 'Welcome to the Sticks',\n",
       " 1931: 'ParaNorman',\n",
       " 1304: 'The Simpsons Movie',\n",
       " 1755: 'Welcome to the South',\n",
       " 627: 'Blazing Saddles',\n",
       " 2288: 'The Book of Life',\n",
       " 800: 'Mr. Deeds',\n",
       " 1590: 'I Love You Phillip Morris',\n",
       " 794: 'Spirit: Stallion of the Cimarron',\n",
       " 565: 'Easy Rider',\n",
       " 1128: 'The Curse of the Were-Rabbit',\n",
       " 1096: 'Herbie Fully Loaded',\n",
       " 2407: 'Maggie',\n",
       " 1271: 'Meet the Robinsons'}"
      ]
     },
     "execution_count": 140,
     "metadata": {},
     "output_type": "execute_result"
    }
   ],
   "source": [
    "def get_recommendations(title):\n",
    "    # Crear bag of words\n",
    "    vectorizer = TfidfVectorizer(ngram_range=(1, 2), stop_words=\"english\")\n",
    "    tfidf = vectorizer.fit_transform(df_train['corpus'])\n",
    "\n",
    "    user_movie = title\n",
    "    # Encontrar el índice de la película del usuario\n",
    "    movie_index = df_train[df_train['title'] == user_movie].index[0]\n",
    "\n",
    "    # Aplicar LSA o LSI\n",
    "    lsa = TruncatedSVD(n_components=100, algorithm='arpack')\n",
    "    lsa.fit(tfidf)\n",
    "\n",
    "    # Transformar la matriz TF-IDF a una representación de menor dimensión\n",
    "    tfidf_lsa = lsa.transform(tfidf)\n",
    "\n",
    "    # Calcular las similitudes coseno entre la película del usuario y todas las demás películas en la representación LSA\n",
    "    similarity_scores = cosine_similarity(tfidf_lsa[movie_index].reshape(1, -1), tfidf_lsa)\n",
    "\n",
    "    # Obtener las 10 películas más similares\n",
    "    similar_movies = list(enumerate(similarity_scores[0]))\n",
    "    sorted_similar_movies = sorted(similar_movies, key=lambda x: x[1], reverse=True)[1:20]\n",
    "\n",
    "    # Crear el diccionario de películas recomendadas\n",
    "    recommendations = {}\n",
    "    for i, score in sorted_similar_movies:\n",
    "        recommendations[i] = df_train.loc[i, 'title']\n",
    "\n",
    "    return recommendations\n",
    "\n",
    "get_recommendations(\"Cars\")\n"
   ]
  },
  {
   "cell_type": "code",
   "execution_count": 141,
   "metadata": {},
   "outputs": [
    {
     "name": "stdout",
     "output_type": "stream",
     "text": [
      "61\n"
     ]
    }
   ],
   "source": [
    "import sys\n",
    "\n",
    "my_variable = \"Hola, mundo!\"\n",
    "\n"
   ]
  }
 ],
 "metadata": {
  "kernelspec": {
   "display_name": "venv",
   "language": "python",
   "name": "python3"
  },
  "language_info": {
   "codemirror_mode": {
    "name": "ipython",
    "version": 3
   },
   "file_extension": ".py",
   "mimetype": "text/x-python",
   "name": "python",
   "nbconvert_exporter": "python",
   "pygments_lexer": "ipython3",
   "version": "3.10.11"
  },
  "orig_nbformat": 4
 },
 "nbformat": 4,
 "nbformat_minor": 2
}
