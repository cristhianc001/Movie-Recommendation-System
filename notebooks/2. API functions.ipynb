{
 "cells": [
  {
   "attachments": {},
   "cell_type": "markdown",
   "metadata": {},
   "source": [
    "# Importing Labraries"
   ]
  },
  {
   "cell_type": "code",
   "execution_count": 2,
   "metadata": {},
   "outputs": [
    {
     "data": {
      "text/plain": [
       "'es_ES'"
      ]
     },
     "execution_count": 2,
     "metadata": {},
     "output_type": "execute_result"
    }
   ],
   "source": [
    "import pandas as pd\n",
    "from unidecode import unidecode\n",
    "import re\n",
    "import locale\n",
    "locale.setlocale(locale.LC_TIME, 'es_ES') # setting a local configuration for dates"
   ]
  },
  {
   "attachments": {},
   "cell_type": "markdown",
   "metadata": {},
   "source": [
    "# Functions"
   ]
  },
  {
   "attachments": {},
   "cell_type": "markdown",
   "metadata": {},
   "source": [
    "In this notebook, we are going to build some functions to test the API."
   ]
  },
  {
   "attachments": {},
   "cell_type": "markdown",
   "metadata": {},
   "source": [
    "## Amount of films by month"
   ]
  },
  {
   "cell_type": "code",
   "execution_count": 92,
   "metadata": {},
   "outputs": [],
   "source": [
    "def cantidad_filmaciones_mes(month: str):\n",
    "    if type(month) == str:\n",
    "        month = month.lower().strip().replace(\" \", \"\")\n",
    "        month = unidecode(month)  # delete accents\n",
    "        month = re.sub(r'[^\\w\\s]', '', month)  # delete special characters and punctuation marks\n",
    "        df_movies = pd.read_csv(\"../processed_data/movies.csv\")\n",
    "        # '%B' complete name of the month, strftime is string format time, it allows to format date data to a desirable representation\n",
    "        df_movies[\"release_month\"] = pd.to_datetime(df_movies[\"release_date\"]).dt.strftime('%B')\n",
    "        if month in df_movies[\"release_month\"].unique():\n",
    "            count_by_month = df_movies.groupby([\"release_month\"])[\"title\"].count()\n",
    "            return {month: count_by_month[month]}\n",
    "        else:\n",
    "            print(\"El valor ingresado no es un mes válido.\")\n",
    "    else:\n",
    "        print(\"Por favor, introduzca el nombre del mes.\")\n"
   ]
  },
  {
   "cell_type": "code",
   "execution_count": 93,
   "metadata": {},
   "outputs": [
    {
     "data": {
      "text/plain": [
       "{'abril': 3453}"
      ]
     },
     "execution_count": 93,
     "metadata": {},
     "output_type": "execute_result"
    }
   ],
   "source": [
    "cantidad_filmaciones_mes(\"+áBril\")"
   ]
  },
  {
   "cell_type": "code",
   "execution_count": 15,
   "metadata": {},
   "outputs": [],
   "source": [
    "df_movies = pd.read_csv(\"../processed_data/movies.csv\")"
   ]
  },
  {
   "cell_type": "code",
   "execution_count": 7,
   "metadata": {},
   "outputs": [
    {
     "data": {
      "text/plain": [
       "release_month\n",
       "abril         3453\n",
       "agosto        3394\n",
       "diciembre     3784\n",
       "enero         5910\n",
       "febrero       3029\n",
       "julio         2640\n",
       "junio         3152\n",
       "marzo         3553\n",
       "mayo          3338\n",
       "noviembre     3661\n",
       "octubre       4613\n",
       "septiembre    4836\n",
       "Name: title, dtype: int64"
      ]
     },
     "execution_count": 7,
     "metadata": {},
     "output_type": "execute_result"
    }
   ],
   "source": [
    "df_movies[\"release_month\"] = pd.to_datetime(df_movies[\"release_date\"]).dt.strftime('%B') \n",
    "count_by_month = df_movies.groupby([\"release_month\"])[\"title\"].count()\n",
    "count_by_month"
   ]
  },
  {
   "attachments": {},
   "cell_type": "markdown",
   "metadata": {},
   "source": [
    "## Amount of films by day of the week."
   ]
  },
  {
   "cell_type": "code",
   "execution_count": 94,
   "metadata": {},
   "outputs": [],
   "source": [
    "def cantidad_filmaciones_dia(day: str):\n",
    "    if type(day) == str:\n",
    "        day = day.lower().strip().replace(\" \", \"\")\n",
    "        day = unidecode(day) # delete accents\n",
    "        day = re.sub(r'[^\\w\\s]', '', day) # delete special characters and punctuation marks\n",
    "        df_movies = pd.read_csv(\"../processed_data/movies.csv\")\n",
    "        # '%A' complete name of the day, strftime is string format time, it allows to format date data to a desirable representation\n",
    "        df_movies[\"release_day\"] = pd.to_datetime(df_movies[\"release_date\"]).dt.strftime('%A') \n",
    "        if day in df_movies[\"release_day\"].unique():\n",
    "            count_by_month = df_movies.groupby([\"release_day\"])[\"title\"].count()\n",
    "            return {day:count_by_month[day]}\n",
    "        else:\n",
    "            print(\"El valor ingresado no es un dia válido.\")\n",
    "    else:\n",
    "        print(\"Por favor, introduzca el nombre del dia de la semana.\")\n",
    "    "
   ]
  },
  {
   "cell_type": "code",
   "execution_count": 95,
   "metadata": {},
   "outputs": [
    {
     "data": {
      "text/plain": [
       "{'viernes': 13906}"
      ]
     },
     "execution_count": 95,
     "metadata": {},
     "output_type": "execute_result"
    }
   ],
   "source": [
    "cantidad_filmaciones_dia(\"Viérnes-\")"
   ]
  },
  {
   "attachments": {},
   "cell_type": "markdown",
   "metadata": {},
   "source": [
    "## Getting the popularity of a movie introducing the title."
   ]
  },
  {
   "attachments": {},
   "cell_type": "markdown",
   "metadata": {},
   "source": [
    "There is a situation with the movies that have to be adressed here, there are duplicates for many movies because there are released in different languages. This function will get the popularity using idxmax() to get the index according to the title. idxmax() will consider only the first occurrence."
   ]
  },
  {
   "cell_type": "code",
   "execution_count": 98,
   "metadata": {},
   "outputs": [],
   "source": [
    "def score_titulo(title: str):\n",
    "    if type(title) == str:\n",
    "        title = title.lower().strip().replace(\" \", \"\")\n",
    "        title = unidecode(title) # delete accents\n",
    "        title = re.sub(r'[^\\w\\s]', '', title) # delete special characters and punctuation marks\n",
    "        df_movies = pd.read_csv(\"../processed_data/movies.csv\")\n",
    "        df_movies[\"transformed_title\"] = [x.lower().strip().replace(\" \", \"\") for x in df_movies[\"title\"]] # with pandas series, we need to use comprehension lists or apply()\n",
    "        df_movies[\"transformed_title\"] = [unidecode(x) for x in df_movies[\"transformed_title\"]]\n",
    "        df_movies[\"transformed_title\"] = [re.sub(r'[^\\w\\s]', '', x) for x in df_movies[\"transformed_title\"]]\n",
    "        if title in df_movies[\"transformed_title\"].unique(): # there are repeated movies (different language)\n",
    "            index = (df_movies[\"transformed_title\"] == title).idxmax()\n",
    "            return {\"Title\":df_movies[\"title\"][index], \"Year\":df_movies[\"release_year\"][index], \"Popularity\":df_movies[\"popularity\"][index]} \n",
    "        else:\n",
    "            print(\"El nombre de la pélicula no es válido.\")\n",
    "    else:\n",
    "        print(\"Por favor, introduzca el titulo de la pélicula.\")"
   ]
  },
  {
   "cell_type": "code",
   "execution_count": 99,
   "metadata": {},
   "outputs": [
    {
     "data": {
      "text/plain": [
       "{'Title': '12 Angry Men', 'Year': 1957, 'Popularity': 16.503959}"
      ]
     },
     "execution_count": 99,
     "metadata": {},
     "output_type": "execute_result"
    }
   ],
   "source": [
    "score_titulo(\"12angry, MEN\")"
   ]
  },
  {
   "attachments": {},
   "cell_type": "markdown",
   "metadata": {},
   "source": [
    "This function right here will group the title column and sum the popularity."
   ]
  },
  {
   "cell_type": "code",
   "execution_count": 81,
   "metadata": {},
   "outputs": [],
   "source": [
    "def score_titulo(title: str):\n",
    "    if type(title) == str:\n",
    "        title = title.lower().strip().replace(\" \", \"\")\n",
    "        title = unidecode(title)  # delete accents\n",
    "        title = re.sub(r'[^\\w\\s]', '', title)  # delete special characters and punctuation marks\n",
    "        df_movies = pd.read_csv(\"../processed_data/movies.csv\")\n",
    "        df_movies[\"transformed_title\"] = [x.lower().strip().replace(\" \", \"\") for x in df_movies[\"title\"]]  # with pandas series, we need to use comprehension lists or apply()\n",
    "        df_movies[\"transformed_title\"] = [unidecode(x) for x in df_movies[\"transformed_title\"]]\n",
    "        df_movies[\"transformed_title\"] = [re.sub(r'[^\\w\\s]', '', x) for x in df_movies[\"transformed_title\"]]       \n",
    "        df_grouped = df_movies.groupby(\"transformed_title\")[\"popularity\"].sum()\n",
    "        if title in df_grouped.index: # values of the grouped column are the new index in a grouped df\n",
    "            return df_grouped[title]\n",
    "        else:\n",
    "            print(\"El nombre de la película no es válido.\")\n",
    "    else:\n",
    "        print(\"Por favor, introduzca el título de la película.\")\n"
   ]
  },
  {
   "cell_type": "code",
   "execution_count": 83,
   "metadata": {},
   "outputs": [
    {
     "data": {
      "text/plain": [
       "20.183221999999997"
      ]
     },
     "execution_count": 83,
     "metadata": {},
     "output_type": "execute_result"
    }
   ],
   "source": [
    "score_titulo(\"12angry MEN\")"
   ]
  },
  {
   "attachments": {},
   "cell_type": "markdown",
   "metadata": {},
   "source": [
    "def votos_titulo( titulo_de_la_filmación ): Se ingresa el título de una filmación esperando como respuesta el título, la cantidad de votos y el valor promedio de las votaciones. La misma variable deberá de contar con al menos 2000 valoraciones, caso contrario, debemos contar con un mensaje avisando que no cumple esta condición y que por ende, no se devuelve ningun valor.\n",
    "                    Ejemplo de retorno: La película X fue estrenada en el año X. La misma cuenta con un total de X valoraciones, con un promedio de X"
   ]
  },
  {
   "attachments": {},
   "cell_type": "markdown",
   "metadata": {},
   "source": [
    "## Getting total votes and average vote of a movie."
   ]
  },
  {
   "cell_type": "code",
   "execution_count": 90,
   "metadata": {},
   "outputs": [],
   "source": [
    "def votos_titulo(title: str):\n",
    "    if type(title) == str:\n",
    "        title = title.lower().strip().replace(\" \", \"\")\n",
    "        title = unidecode(title) # delete accents\n",
    "        title = re.sub(r'[^\\w\\s]', '', title) # delete special characters and punctuation marks\n",
    "        df_movies = pd.read_csv(\"../processed_data/movies.csv\")\n",
    "        df_movies[\"transformed_title\"] = [x.lower().strip().replace(\" \", \"\") for x in df_movies[\"title\"]] # with pandas series, we need to use comprehension lists or apply()\n",
    "        df_movies[\"transformed_title\"] = [unidecode(x) for x in df_movies[\"transformed_title\"]]\n",
    "        df_movies[\"transformed_title\"] = [re.sub(r'[^\\w\\s]', '', x) for x in df_movies[\"transformed_title\"]]\n",
    "        if title in df_movies[\"transformed_title\"].unique(): # there are repeated movies (different language)\n",
    "            index = (df_movies[\"transformed_title\"] == title).idxmax()\n",
    "            return {\"Title\": \"dasd\", \"Anio\": \"dsd\", \"Total votes\": df_movies[\"vote_count\"][index], \"Average vote\": df_movies[\"vote_average\"][index]}   \n",
    "        else:\n",
    "            print(\"El nombre de la pélicula no es válido.\")\n",
    "    else:\n",
    "        print(\"Por favor, introduzca el titulo de la pélicula.\")"
   ]
  },
  {
   "cell_type": "code",
   "execution_count": 91,
   "metadata": {},
   "outputs": [
    {
     "data": {
      "text/plain": [
       "{'Title': 'dasd', 'Anio': 'dsd', 'Total votes': 5415.0, 'Average vote': 7.7}"
      ]
     },
     "execution_count": 91,
     "metadata": {},
     "output_type": "execute_result"
    }
   ],
   "source": [
    "votos_titulo(\"- toy stOry\")"
   ]
  },
  {
   "cell_type": "code",
   "execution_count": 87,
   "metadata": {},
   "outputs": [
    {
     "data": {
      "text/html": [
       "<div>\n",
       "<style scoped>\n",
       "    .dataframe tbody tr th:only-of-type {\n",
       "        vertical-align: middle;\n",
       "    }\n",
       "\n",
       "    .dataframe tbody tr th {\n",
       "        vertical-align: top;\n",
       "    }\n",
       "\n",
       "    .dataframe thead th {\n",
       "        text-align: right;\n",
       "    }\n",
       "</style>\n",
       "<table border=\"1\" class=\"dataframe\">\n",
       "  <thead>\n",
       "    <tr style=\"text-align: right;\">\n",
       "      <th></th>\n",
       "      <th>budget</th>\n",
       "      <th>id</th>\n",
       "      <th>original_language</th>\n",
       "      <th>overview</th>\n",
       "      <th>popularity</th>\n",
       "      <th>release_date</th>\n",
       "      <th>revenue</th>\n",
       "      <th>runtime</th>\n",
       "      <th>status</th>\n",
       "      <th>title</th>\n",
       "      <th>vote_average</th>\n",
       "      <th>vote_count</th>\n",
       "      <th>collection</th>\n",
       "      <th>genres_list</th>\n",
       "      <th>spoken_languages_list</th>\n",
       "      <th>production_companies_list</th>\n",
       "      <th>production_countries_list</th>\n",
       "      <th>release_year</th>\n",
       "      <th>return</th>\n",
       "      <th>transformed_title</th>\n",
       "    </tr>\n",
       "  </thead>\n",
       "  <tbody>\n",
       "    <tr>\n",
       "      <th>0</th>\n",
       "      <td>30000000.0</td>\n",
       "      <td>862</td>\n",
       "      <td>en</td>\n",
       "      <td>Led by Woody, Andy's toys live happily in his ...</td>\n",
       "      <td>21.946943</td>\n",
       "      <td>1995-10-30</td>\n",
       "      <td>373554033.0</td>\n",
       "      <td>81.0</td>\n",
       "      <td>Released</td>\n",
       "      <td>Toy Story</td>\n",
       "      <td>7.7</td>\n",
       "      <td>5415.0</td>\n",
       "      <td>Toy Story Collection</td>\n",
       "      <td>['Animation', 'Comedy', 'Family']</td>\n",
       "      <td>['en']</td>\n",
       "      <td>['Pixar Animation Studios']</td>\n",
       "      <td>['US']</td>\n",
       "      <td>1995</td>\n",
       "      <td>12.451801</td>\n",
       "      <td>toystory</td>\n",
       "    </tr>\n",
       "  </tbody>\n",
       "</table>\n",
       "</div>"
      ],
      "text/plain": [
       "       budget   id original_language  \\\n",
       "0  30000000.0  862                en   \n",
       "\n",
       "                                            overview  popularity release_date  \\\n",
       "0  Led by Woody, Andy's toys live happily in his ...   21.946943   1995-10-30   \n",
       "\n",
       "       revenue  runtime    status      title  vote_average  vote_count  \\\n",
       "0  373554033.0     81.0  Released  Toy Story           7.7      5415.0   \n",
       "\n",
       "             collection                        genres_list  \\\n",
       "0  Toy Story Collection  ['Animation', 'Comedy', 'Family']   \n",
       "\n",
       "  spoken_languages_list    production_companies_list  \\\n",
       "0                ['en']  ['Pixar Animation Studios']   \n",
       "\n",
       "  production_countries_list  release_year     return transformed_title  \n",
       "0                    ['US']          1995  12.451801          toystory  "
      ]
     },
     "execution_count": 87,
     "metadata": {},
     "output_type": "execute_result"
    }
   ],
   "source": [
    "df_movies.head(1)"
   ]
  },
  {
   "cell_type": "code",
   "execution_count": null,
   "metadata": {},
   "outputs": [],
   "source": [
    "def votos_titulo(title: str):\n",
    "    if type(title) == str:\n",
    "        title = title.lower().strip().replace(\" \", \"\")\n",
    "        title = unidecode(title)  # delete accents\n",
    "        title = re.sub(r'[^\\w\\s]', '', title)  # delete special characters and punctuation marks\n",
    "        df_movies = pd.read_csv(\"../processed_data/movies.csv\")\n",
    "        df_movies[\"transformed_title\"] = [x.lower().strip().replace(\" \", \"\") for x in df_movies[\"title\"]]  # with pandas series, we need to use comprehension lists or apply()\n",
    "        df_movies[\"transformed_title\"] = [unidecode(x) for x in df_movies[\"transformed_title\"]]\n",
    "        df_movies[\"transformed_title\"] = [re.sub(r'[^\\w\\s]', '', x) for x in df_movies[\"transformed_title\"]]\n",
    "        df_grouped_total = df_movies.groupby(\"transformed_title\")[\"popularity\"].sum()\n",
    "        df_grouped_average = df_movies.groupby(\"transformed_title\")[\"popularity\"].sum()\n",
    "        if title in df_grouped.index: # values of the grouped column are the new index in a grouped df\n",
    "            return df_grouped[title]\n",
    "        else:\n",
    "            print(\"El nombre de la película no es válido.\")    \n",
    "\n",
    "\n",
    "    else:\n",
    "        print(\"Por favor, introduzca el título de la película.\")"
   ]
  },
  {
   "attachments": {},
   "cell_type": "markdown",
   "metadata": {},
   "source": [
    "def get_actor( nombre_actor ): Se ingresa el nombre de un actor que se encuentre dentro de un dataset debiendo devolver el éxito del mismo medido a través del retorno. Además, la cantidad de películas que en las que ha participado y el promedio de retorno. La definición no deberá considerar directores.\n",
    "                    Ejemplo de retorno: El actor X ha participado de X cantidad de filmaciones, el mismo ha conseguido un retorno de X con un promedio de X por filmación"
   ]
  },
  {
   "attachments": {},
   "cell_type": "markdown",
   "metadata": {},
   "source": [
    "\n",
    "def get_director( nombre_director ): Se ingresa el nombre de un director que se encuentre dentro de un dataset debiendo devolver el éxito del mismo medido a través del retorno. Además, deberá devolver el nombre de cada película con la fecha de lanzamiento, retorno individual, costo y ganancia de la misma."
   ]
  }
 ],
 "metadata": {
  "kernelspec": {
   "display_name": "venv",
   "language": "python",
   "name": "python3"
  },
  "language_info": {
   "codemirror_mode": {
    "name": "ipython",
    "version": 3
   },
   "file_extension": ".py",
   "mimetype": "text/x-python",
   "name": "python",
   "nbconvert_exporter": "python",
   "pygments_lexer": "ipython3",
   "version": "3.10.11"
  },
  "orig_nbformat": 4
 },
 "nbformat": 4,
 "nbformat_minor": 2
}
