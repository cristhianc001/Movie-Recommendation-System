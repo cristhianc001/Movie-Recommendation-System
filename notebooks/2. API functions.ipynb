{
 "cells": [
  {
   "attachments": {},
   "cell_type": "markdown",
   "metadata": {},
   "source": [
    "# Importing Labraries"
   ]
  },
  {
   "cell_type": "code",
   "execution_count": 1,
   "metadata": {},
   "outputs": [],
   "source": [
    "import pandas as pd\n",
    "from unidecode import unidecode\n",
    "import re"
   ]
  },
  {
   "cell_type": "code",
   "execution_count": 2,
   "metadata": {},
   "outputs": [],
   "source": [
    "df_movies = pd.read_csv(\"../processed_data/movies.csv\") # Present in functions 1, 2, 3, 4 and 6\n",
    "df_crew = pd.read_csv(\"../processed_data/crew.csv\") # Present in function 6\n",
    "actor_financial = pd.read_csv(\"../processed_data/actor_financial.csv\") # Present in function 5\n",
    "director_financial = pd.read_csv(\"../processed_data/director_financial.csv\") # Present in function 6"
   ]
  },
  {
   "cell_type": "code",
   "execution_count": 23,
   "metadata": {},
   "outputs": [],
   "source": [
    "# everything in lower case to standarize the querys\n",
    "\n",
    "df_movies[\"release_month\"] = [x.lower() for x in df_movies[\"release_month\"]]\n",
    "df_movies[\"release_day\"] = [x.lower() for x in df_movies[\"release_day\"]]"
   ]
  },
  {
   "attachments": {},
   "cell_type": "markdown",
   "metadata": {},
   "source": [
    "# Functions"
   ]
  },
  {
   "attachments": {},
   "cell_type": "markdown",
   "metadata": {},
   "source": [
    "In this notebook we are going to build the functions to test the API, except the function that calls the recommendation model, the model have its own notebook."
   ]
  },
  {
   "attachments": {},
   "cell_type": "markdown",
   "metadata": {},
   "source": [
    "## API Root"
   ]
  },
  {
   "attachments": {},
   "cell_type": "markdown",
   "metadata": {},
   "source": [
    "Here we can test the welcoming page of our movies API"
   ]
  },
  {
   "attachments": {},
   "cell_type": "markdown",
   "metadata": {},
   "source": [
    "###  Using jinja2 library (dynamic)"
   ]
  },
  {
   "cell_type": "code",
   "execution_count": 2,
   "metadata": {},
   "outputs": [
    {
     "name": "stderr",
     "output_type": "stream",
     "text": [
      "INFO:     Started server process [17980]\n",
      "INFO:     Waiting for application startup.\n",
      "INFO:     Application startup complete.\n",
      "INFO:     Uvicorn running on http://0.0.0.0:8000 (Press CTRL+C to quit)\n"
     ]
    },
    {
     "name": "stdout",
     "output_type": "stream",
     "text": [
      "INFO:     127.0.0.1:62261 - \"GET / HTTP/1.1\" 200 OK\n"
     ]
    },
    {
     "name": "stderr",
     "output_type": "stream",
     "text": [
      "INFO:     Shutting down\n",
      "INFO:     Waiting for application shutdown.\n",
      "INFO:     Application shutdown complete.\n",
      "INFO:     Finished server process [17980]\n"
     ]
    }
   ],
   "source": [
    "from fastapi import FastAPI, Request # this represent a HTML request\n",
    "from fastapi.responses import HTMLResponse # output will be an HTML response\n",
    "from fastapi.templating import Jinja2Templates # import use custom html templates\n",
    "\n",
    "app = FastAPI() # name of app\n",
    "templates = Jinja2Templates(directory=\"../templates\") # path of our custom template\n",
    "\n",
    "@app.get('/', response_class=HTMLResponse)\n",
    "def welcome(request: Request):\n",
    "    return templates.TemplateResponse(\"root.html\", {\"request\": request})\n",
    "\n",
    "import nest_asyncio \n",
    "nest_asyncio.apply() # necessary in a notebook\n",
    "\n",
    "\n",
    "import uvicorn\n",
    "uvicorn.run(app, host=\"0.0.0.0\", port=8000) # use this url to test http://localhost:8000/"
   ]
  },
  {
   "attachments": {},
   "cell_type": "markdown",
   "metadata": {},
   "source": [
    "### Without jinja2 library (static)"
   ]
  },
  {
   "cell_type": "code",
   "execution_count": 3,
   "metadata": {},
   "outputs": [
    {
     "name": "stderr",
     "output_type": "stream",
     "text": [
      "INFO:     Started server process [17980]\n",
      "INFO:     Waiting for application startup.\n",
      "INFO:     Application startup complete.\n",
      "INFO:     Uvicorn running on http://0.0.0.0:8000 (Press CTRL+C to quit)\n"
     ]
    },
    {
     "name": "stdout",
     "output_type": "stream",
     "text": [
      "INFO:     127.0.0.1:62594 - \"GET / HTTP/1.1\" 200 OK\n"
     ]
    },
    {
     "name": "stderr",
     "output_type": "stream",
     "text": [
      "INFO:     Shutting down\n",
      "INFO:     Waiting for application shutdown.\n",
      "INFO:     Application shutdown complete.\n",
      "INFO:     Finished server process [17980]\n"
     ]
    }
   ],
   "source": [
    "app = FastAPI() \n",
    "\n",
    "@app.get(\"/\", response_class=HTMLResponse)\n",
    "def welcome(request: Request):\n",
    "    with open(\"../templates/root.html\", \"r\") as file:\n",
    "        html_content = file.read()\n",
    "    return HTMLResponse(content=html_content, status_code=200)\n",
    "\n",
    "import nest_asyncio\n",
    "nest_asyncio.apply()\n",
    "\n",
    "import uvicorn\n",
    "uvicorn.run(app, host=\"0.0.0.0\", port=8000) # use this url to test http://localhost:8000/\n"
   ]
  },
  {
   "attachments": {},
   "cell_type": "markdown",
   "metadata": {},
   "source": [
    "## String Transformation"
   ]
  },
  {
   "cell_type": "code",
   "execution_count": 3,
   "metadata": {},
   "outputs": [],
   "source": [
    "def string_transformation(text):\n",
    "    if type(text) == str:\n",
    "        text = text.lower().strip().replace(\" \", \"\")\n",
    "        text = unidecode(text)  # delete accents\n",
    "        text = re.sub(r'[^\\w\\s]', '', text)  # delete special characters and punctuation marks\n",
    "        return text\n",
    "    else:\n",
    "     return \"Entered value is not valid.\" "
   ]
  },
  {
   "cell_type": "code",
   "execution_count": 14,
   "metadata": {},
   "outputs": [
    {
     "data": {
      "text/plain": [
       "'june'"
      ]
     },
     "execution_count": 14,
     "metadata": {},
     "output_type": "execute_result"
    }
   ],
   "source": [
    "string_transformation(\"June\")"
   ]
  },
  {
   "attachments": {},
   "cell_type": "markdown",
   "metadata": {},
   "source": [
    "## 1. Amount of films by month"
   ]
  },
  {
   "cell_type": "code",
   "execution_count": 12,
   "metadata": {},
   "outputs": [],
   "source": [
    "def cantidad_filmaciones_mes(month: str):\n",
    "    month = string_transformation(month)\n",
    "    if month in df_movies[\"release_month\"].unique():\n",
    "        count_by_month = df_movies.groupby([\"release_month\"])[\"title\"].count()\n",
    "        return {month: count_by_month[month].item()} # needs item() because fastapi doesn't process numpy.int64 type objects \n",
    "    else:\n",
    "        return \"Entered value is not valid.\" # if we use print() instead of return, the output will be null\n"
   ]
  },
  {
   "cell_type": "code",
   "execution_count": 25,
   "metadata": {},
   "outputs": [
    {
     "data": {
      "text/plain": [
       "{'january': 5909}"
      ]
     },
     "execution_count": 25,
     "metadata": {},
     "output_type": "execute_result"
    }
   ],
   "source": [
    "cantidad_filmaciones_mes(\"january\")"
   ]
  },
  {
   "cell_type": "code",
   "execution_count": 26,
   "metadata": {},
   "outputs": [
    {
     "data": {
      "text/plain": [
       "{'release_month': 'june', 'title': 3151}"
      ]
     },
     "execution_count": 26,
     "metadata": {},
     "output_type": "execute_result"
    }
   ],
   "source": [
    "# other option to get a dictionary with the answer\n",
    "\n",
    "count_by_month = df_movies.groupby([\"release_month\"])[\"title\"].count().reset_index()\n",
    "index = (count_by_month[\"release_month\"] == \"june\" ).idxmax()\n",
    "count_by_month.loc[index, :].to_dict()\n",
    " "
   ]
  },
  {
   "cell_type": "code",
   "execution_count": 27,
   "metadata": {},
   "outputs": [
    {
     "data": {
      "text/plain": [
       "release_month\n",
       "april        3452\n",
       "august       3393\n",
       "december     3781\n",
       "february     3028\n",
       "january      5909\n",
       "july         2638\n",
       "june         3151\n",
       "march        3549\n",
       "may          3336\n",
       "november     3661\n",
       "october      4613\n",
       "september    4834\n",
       "Name: title, dtype: int64"
      ]
     },
     "execution_count": 27,
     "metadata": {},
     "output_type": "execute_result"
    }
   ],
   "source": [
    "count_by_month = df_movies.groupby([\"release_month\"])[\"title\"].count()\n",
    "count_by_month"
   ]
  },
  {
   "attachments": {},
   "cell_type": "markdown",
   "metadata": {},
   "source": [
    "## 2. Amount of films by day of the week."
   ]
  },
  {
   "cell_type": "code",
   "execution_count": 28,
   "metadata": {},
   "outputs": [],
   "source": [
    "def cantidad_filmaciones_dia(day: str):\n",
    "    day = string_transformation(day)\n",
    "    if day in df_movies[\"release_day\"].unique():\n",
    "        count_by_day = df_movies.groupby([\"release_day\"])[\"title\"].count()\n",
    "        return {day:count_by_day[day].item()}\n",
    "    else:\n",
    "        return \"Entered value is not valid.\" "
   ]
  },
  {
   "cell_type": "code",
   "execution_count": 29,
   "metadata": {},
   "outputs": [
    {
     "data": {
      "text/plain": [
       "{'friday': 13902}"
      ]
     },
     "execution_count": 29,
     "metadata": {},
     "output_type": "execute_result"
    }
   ],
   "source": [
    "cantidad_filmaciones_dia(\"friday-\")"
   ]
  },
  {
   "cell_type": "code",
   "execution_count": 30,
   "metadata": {},
   "outputs": [
    {
     "data": {
      "text/plain": [
       "release_day\n",
       "friday       13902\n",
       "monday        3500\n",
       "saturday      5149\n",
       "sunday        3608\n",
       "thursday      7520\n",
       "tuesday       4639\n",
       "wednesday     7027\n",
       "Name: title, dtype: int64"
      ]
     },
     "execution_count": 30,
     "metadata": {},
     "output_type": "execute_result"
    }
   ],
   "source": [
    "count_by_day = df_movies.groupby([\"release_day\"])[\"title\"].count()\n",
    "count_by_day "
   ]
  },
  {
   "attachments": {},
   "cell_type": "markdown",
   "metadata": {},
   "source": [
    "## 3. Getting the popularity of a movie introducing the title."
   ]
  },
  {
   "attachments": {},
   "cell_type": "markdown",
   "metadata": {},
   "source": [
    "There is a situation with the movies that have to be adressed here, there are duplicates for some movies because there are released in different languages. This function will get the popularity using idxmax() to get the index according to the title. idxmax() will consider only the first occurrence."
   ]
  },
  {
   "cell_type": "code",
   "execution_count": 11,
   "metadata": {},
   "outputs": [
    {
     "data": {
      "text/html": [
       "<div>\n",
       "<style scoped>\n",
       "    .dataframe tbody tr th:only-of-type {\n",
       "        vertical-align: middle;\n",
       "    }\n",
       "\n",
       "    .dataframe tbody tr th {\n",
       "        vertical-align: top;\n",
       "    }\n",
       "\n",
       "    .dataframe thead th {\n",
       "        text-align: right;\n",
       "    }\n",
       "</style>\n",
       "<table border=\"1\" class=\"dataframe\">\n",
       "  <thead>\n",
       "    <tr style=\"text-align: right;\">\n",
       "      <th></th>\n",
       "      <th>budget</th>\n",
       "      <th>id</th>\n",
       "      <th>original_language</th>\n",
       "      <th>overview</th>\n",
       "      <th>popularity</th>\n",
       "      <th>release_date</th>\n",
       "      <th>revenue</th>\n",
       "      <th>runtime</th>\n",
       "      <th>tagline</th>\n",
       "      <th>title</th>\n",
       "      <th>...</th>\n",
       "      <th>collection</th>\n",
       "      <th>genres_list</th>\n",
       "      <th>spoken_languages_list</th>\n",
       "      <th>production_companies_list</th>\n",
       "      <th>production_countries_list</th>\n",
       "      <th>release_year</th>\n",
       "      <th>return</th>\n",
       "      <th>transformed_title</th>\n",
       "      <th>release_month</th>\n",
       "      <th>release_day</th>\n",
       "    </tr>\n",
       "  </thead>\n",
       "  <tbody>\n",
       "    <tr>\n",
       "      <th>1159</th>\n",
       "      <td>350000.0</td>\n",
       "      <td>389</td>\n",
       "      <td>en</td>\n",
       "      <td>The defense and the prosecution have rested an...</td>\n",
       "      <td>16.503959</td>\n",
       "      <td>1957-03-25</td>\n",
       "      <td>1000000.0</td>\n",
       "      <td>96.0</td>\n",
       "      <td>Life is in their hands. Death is on their minds.</td>\n",
       "      <td>12 Angry Men</td>\n",
       "      <td>...</td>\n",
       "      <td>NaN</td>\n",
       "      <td>['Drama']</td>\n",
       "      <td>['en']</td>\n",
       "      <td>['United Artists', 'Orion-Nova Productions']</td>\n",
       "      <td>['US']</td>\n",
       "      <td>1957</td>\n",
       "      <td>2.86</td>\n",
       "      <td>12angrymen</td>\n",
       "      <td>marzo</td>\n",
       "      <td>lunes</td>\n",
       "    </tr>\n",
       "    <tr>\n",
       "      <th>15187</th>\n",
       "      <td>0.0</td>\n",
       "      <td>12219</td>\n",
       "      <td>en</td>\n",
       "      <td>During the trial of a man accused of his fathe...</td>\n",
       "      <td>3.679263</td>\n",
       "      <td>1997-08-17</td>\n",
       "      <td>0.0</td>\n",
       "      <td>117.0</td>\n",
       "      <td>NaN</td>\n",
       "      <td>12 Angry Men</td>\n",
       "      <td>...</td>\n",
       "      <td>NaN</td>\n",
       "      <td>['Crime', 'Drama']</td>\n",
       "      <td>['en', 'hu', 'ru']</td>\n",
       "      <td>['MGM Television']</td>\n",
       "      <td>['US']</td>\n",
       "      <td>1997</td>\n",
       "      <td>0.00</td>\n",
       "      <td>12angrymen</td>\n",
       "      <td>agosto</td>\n",
       "      <td>domingo</td>\n",
       "    </tr>\n",
       "  </tbody>\n",
       "</table>\n",
       "<p>2 rows × 22 columns</p>\n",
       "</div>"
      ],
      "text/plain": [
       "         budget     id original_language  \\\n",
       "1159   350000.0    389                en   \n",
       "15187       0.0  12219                en   \n",
       "\n",
       "                                                overview  popularity  \\\n",
       "1159   The defense and the prosecution have rested an...   16.503959   \n",
       "15187  During the trial of a man accused of his fathe...    3.679263   \n",
       "\n",
       "      release_date    revenue  runtime  \\\n",
       "1159    1957-03-25  1000000.0     96.0   \n",
       "15187   1997-08-17        0.0    117.0   \n",
       "\n",
       "                                                tagline         title  ...  \\\n",
       "1159   Life is in their hands. Death is on their minds.  12 Angry Men  ...   \n",
       "15187                                               NaN  12 Angry Men  ...   \n",
       "\n",
       "       collection         genres_list  spoken_languages_list  \\\n",
       "1159          NaN           ['Drama']                 ['en']   \n",
       "15187         NaN  ['Crime', 'Drama']     ['en', 'hu', 'ru']   \n",
       "\n",
       "                          production_companies_list production_countries_list  \\\n",
       "1159   ['United Artists', 'Orion-Nova Productions']                    ['US']   \n",
       "15187                            ['MGM Television']                    ['US']   \n",
       "\n",
       "      release_year return  transformed_title  release_month release_day  \n",
       "1159          1957   2.86         12angrymen          marzo       lunes  \n",
       "15187         1997   0.00         12angrymen         agosto     domingo  \n",
       "\n",
       "[2 rows x 22 columns]"
      ]
     },
     "execution_count": 11,
     "metadata": {},
     "output_type": "execute_result"
    }
   ],
   "source": [
    "df_movies[df_movies[\"title\"] == \"12 Angry Men\"]"
   ]
  },
  {
   "cell_type": "code",
   "execution_count": 11,
   "metadata": {},
   "outputs": [],
   "source": [
    "def score_titulo(title: str):\n",
    "    title = string_transformation(title)\n",
    "    df_movies[\"transformed_title\"] = [string_transformation(x) for x in df_movies[\"title\"]]\n",
    "    if title in df_movies[\"transformed_title\"].unique(): # there are repeated movies (different language)\n",
    "        index = (df_movies[\"transformed_title\"] == title).idxmax()\n",
    "        return {\n",
    "                \"Title\":df_movies[\"title\"][index], \n",
    "                \"Year\":df_movies[\"release_year\"][index].item(), \n",
    "                \"Popularity\":df_movies[\"popularity\"][index].round(2).item()\n",
    "                } \n",
    "    else:\n",
    "        return \"Entered value is not valid.\"\n"
   ]
  },
  {
   "cell_type": "code",
   "execution_count": 12,
   "metadata": {},
   "outputs": [
    {
     "data": {
      "text/plain": [
       "{'Title': '12 Angry Men', 'Year': 1957, 'Popularity': 16.5}"
      ]
     },
     "execution_count": 12,
     "metadata": {},
     "output_type": "execute_result"
    }
   ],
   "source": [
    "score_titulo(\"12angry, MEN\")"
   ]
  },
  {
   "attachments": {},
   "cell_type": "markdown",
   "metadata": {},
   "source": [
    "This function right here will group the title column and sum the popularity of every occurrence."
   ]
  },
  {
   "cell_type": "code",
   "execution_count": 18,
   "metadata": {},
   "outputs": [],
   "source": [
    "def score_titulo(title: str):\n",
    "    title = string_transformation(title)\n",
    "    df_movies[\"transformed_title\"] = [string_transformation(x) for x in df_movies[\"title\"]]\n",
    "    df_grouped = df_movies.groupby(\"transformed_title\")[\"popularity\"].sum()\n",
    "    if title in df_grouped.index: # values of the grouped column are the new index in a grouped df\n",
    "        normal_index = (df_movies[\"transformed_title\"] == title).idxmax() # index for non transformed and non grouped values\n",
    "        return {\n",
    "                \"Title\": df_movies[\"title\"][normal_index], \n",
    "                \"Year\": df_movies[\"release_year\"][normal_index].item(), \n",
    "                \"Popularity\" : df_grouped[title].round(2).item()\n",
    "                } \n",
    "    else:\n",
    "        return \"Entered value is not valid.\"\n"
   ]
  },
  {
   "cell_type": "code",
   "execution_count": 19,
   "metadata": {},
   "outputs": [
    {
     "data": {
      "text/plain": [
       "{'Title': '12 Angry Men', 'Year': 1957, 'Popularity': 20.18}"
      ]
     },
     "execution_count": 19,
     "metadata": {},
     "output_type": "execute_result"
    }
   ],
   "source": [
    "score_titulo(\"12angry MEN\")"
   ]
  },
  {
   "attachments": {},
   "cell_type": "markdown",
   "metadata": {},
   "source": [
    "## 4. Getting total votes and average vote of a movie."
   ]
  },
  {
   "attachments": {},
   "cell_type": "markdown",
   "metadata": {},
   "source": [
    "Here we have to deal with same situation of the previous function. This is the solution usig idxmax()."
   ]
  },
  {
   "cell_type": "code",
   "execution_count": 21,
   "metadata": {},
   "outputs": [],
   "source": [
    "def votos_titulo(title: str):\n",
    "    title = string_transformation(title)\n",
    "    df_movies[\"transformed_title\"] = [string_transformation(x) for x in df_movies[\"title\"]]\n",
    "    if title in df_movies[\"transformed_title\"].unique(): # there are repeated movies (different language) \n",
    "        index = (df_movies[\"transformed_title\"] == title).idxmax()\n",
    "        if df_movies[\"vote_count\"][index] >= 2000:\n",
    "            return {\n",
    "                        \"Title\": df_movies[\"title\"][index], \n",
    "                        \"Year\": df_movies[\"release_year\"][index].item(), \n",
    "                        \"Total votes\": df_movies[\"vote_count\"][index].item(), \n",
    "                        \"Average vote\": df_movies[\"vote_average\"][index].item()\n",
    "                        }\n",
    "        else:\n",
    "            return \"Movie must have at least 2000 votes\"\n",
    "    else:\n",
    "        return \"Entered value is not valid.\""
   ]
  },
  {
   "cell_type": "code",
   "execution_count": 22,
   "metadata": {},
   "outputs": [
    {
     "data": {
      "text/plain": [
       "{'Title': '12 Angry Men',\n",
       " 'Year': 1957,\n",
       " 'Total votes': 2130.0,\n",
       " 'Average vote': 8.2}"
      ]
     },
     "execution_count": 22,
     "metadata": {},
     "output_type": "execute_result"
    }
   ],
   "source": [
    "votos_titulo(\"12anGRy- mén \")"
   ]
  },
  {
   "cell_type": "code",
   "execution_count": 18,
   "metadata": {},
   "outputs": [
    {
     "data": {
      "text/plain": [
       "'Movie must have at least 2000 votes'"
      ]
     },
     "execution_count": 18,
     "metadata": {},
     "output_type": "execute_result"
    }
   ],
   "source": [
    "votos_titulo(\"moonlight\")"
   ]
  },
  {
   "cell_type": "code",
   "execution_count": 19,
   "metadata": {},
   "outputs": [
    {
     "data": {
      "text/html": [
       "<div>\n",
       "<style scoped>\n",
       "    .dataframe tbody tr th:only-of-type {\n",
       "        vertical-align: middle;\n",
       "    }\n",
       "\n",
       "    .dataframe tbody tr th {\n",
       "        vertical-align: top;\n",
       "    }\n",
       "\n",
       "    .dataframe thead th {\n",
       "        text-align: right;\n",
       "    }\n",
       "</style>\n",
       "<table border=\"1\" class=\"dataframe\">\n",
       "  <thead>\n",
       "    <tr style=\"text-align: right;\">\n",
       "      <th></th>\n",
       "      <th>budget</th>\n",
       "      <th>id</th>\n",
       "      <th>original_language</th>\n",
       "      <th>overview</th>\n",
       "      <th>popularity</th>\n",
       "      <th>release_date</th>\n",
       "      <th>revenue</th>\n",
       "      <th>runtime</th>\n",
       "      <th>tagline</th>\n",
       "      <th>title</th>\n",
       "      <th>...</th>\n",
       "      <th>collection</th>\n",
       "      <th>genres_list</th>\n",
       "      <th>spoken_languages_list</th>\n",
       "      <th>production_companies_list</th>\n",
       "      <th>production_countries_list</th>\n",
       "      <th>release_year</th>\n",
       "      <th>return</th>\n",
       "      <th>transformed_title</th>\n",
       "      <th>release_month</th>\n",
       "      <th>release_day</th>\n",
       "    </tr>\n",
       "  </thead>\n",
       "  <tbody>\n",
       "    <tr>\n",
       "      <th>39877</th>\n",
       "      <td>4000000.0</td>\n",
       "      <td>376867</td>\n",
       "      <td>en</td>\n",
       "      <td>The tender, heartbreaking story of a young man...</td>\n",
       "      <td>14.171675</td>\n",
       "      <td>2016-10-21</td>\n",
       "      <td>65046687.0</td>\n",
       "      <td>111.0</td>\n",
       "      <td>This is the story of a lifetime</td>\n",
       "      <td>Moonlight</td>\n",
       "      <td>...</td>\n",
       "      <td>NaN</td>\n",
       "      <td>['Drama']</td>\n",
       "      <td>['en']</td>\n",
       "      <td>['Plan B Entertainment', 'Upload Films', 'A24'...</td>\n",
       "      <td>['US']</td>\n",
       "      <td>2016</td>\n",
       "      <td>16.26</td>\n",
       "      <td>moonlight</td>\n",
       "      <td>octubre</td>\n",
       "      <td>viernes</td>\n",
       "    </tr>\n",
       "  </tbody>\n",
       "</table>\n",
       "<p>1 rows × 22 columns</p>\n",
       "</div>"
      ],
      "text/plain": [
       "          budget      id original_language  \\\n",
       "39877  4000000.0  376867                en   \n",
       "\n",
       "                                                overview  popularity  \\\n",
       "39877  The tender, heartbreaking story of a young man...   14.171675   \n",
       "\n",
       "      release_date     revenue  runtime                          tagline  \\\n",
       "39877   2016-10-21  65046687.0    111.0  This is the story of a lifetime   \n",
       "\n",
       "           title  ...  collection  genres_list  spoken_languages_list  \\\n",
       "39877  Moonlight  ...         NaN    ['Drama']                 ['en']   \n",
       "\n",
       "                               production_companies_list  \\\n",
       "39877  ['Plan B Entertainment', 'Upload Films', 'A24'...   \n",
       "\n",
       "      production_countries_list release_year return  transformed_title  \\\n",
       "39877                    ['US']         2016  16.26          moonlight   \n",
       "\n",
       "       release_month release_day  \n",
       "39877        octubre     viernes  \n",
       "\n",
       "[1 rows x 22 columns]"
      ]
     },
     "execution_count": 19,
     "metadata": {},
     "output_type": "execute_result"
    }
   ],
   "source": [
    "df_movies[df_movies[\"title\"] == \"Moonlight\"] # checking the vote_count"
   ]
  },
  {
   "attachments": {},
   "cell_type": "markdown",
   "metadata": {},
   "source": [
    "And this is the solution considering all the occurrences and using aggregation functions."
   ]
  },
  {
   "cell_type": "code",
   "execution_count": 23,
   "metadata": {},
   "outputs": [],
   "source": [
    "def votos_titulo(title: str):\n",
    "    title = string_transformation(title)\n",
    "    df_movies[\"transformed_title\"] = [string_transformation(x) for x in df_movies[\"title\"]]\n",
    "    df_grouped_total = df_movies.groupby(\"transformed_title\")[\"vote_count\"].sum()\n",
    "    df_grouped_average = df_movies.groupby(\"transformed_title\")[\"vote_average\"].mean()\n",
    "    if title in df_grouped_average.index: # values of the grouped column are the new index in a grouped df\n",
    "        if df_grouped_total[title] >= 2000:\n",
    "            normal_index = (df_movies[\"transformed_title\"] == title).idxmax() # index for non transformed and non grouped values\n",
    "            return {\n",
    "                    \"Title\": df_movies[\"title\"][normal_index], \n",
    "                    \"Year\": df_movies[\"release_year\"][normal_index].item(), \n",
    "                    \"Total_Votes\" : df_grouped_total[title].item(), \n",
    "                    \"Average_Vote\" : df_grouped_average[title].item()\n",
    "                    }\n",
    "        else:\n",
    "            return \"Movie must have at least 2000 votes\"\n",
    "    else:\n",
    "        return \"Entered value is not valid.\"    \n"
   ]
  },
  {
   "cell_type": "code",
   "execution_count": 24,
   "metadata": {},
   "outputs": [
    {
     "data": {
      "text/plain": [
       "'Movie must have at least 2000 votes'"
      ]
     },
     "execution_count": 24,
     "metadata": {},
     "output_type": "execute_result"
    }
   ],
   "source": [
    "votos_titulo(\"moonlight\")"
   ]
  },
  {
   "cell_type": "code",
   "execution_count": 25,
   "metadata": {},
   "outputs": [
    {
     "data": {
      "text/plain": [
       "{'Title': '12 Angry Men',\n",
       " 'Year': 1957,\n",
       " 'Total Votes': 2189.0,\n",
       " 'Average Vote': 7.85}"
      ]
     },
     "execution_count": 25,
     "metadata": {},
     "output_type": "execute_result"
    }
   ],
   "source": [
    "votos_titulo(\"12 angry, men\")"
   ]
  },
  {
   "attachments": {},
   "cell_type": "markdown",
   "metadata": {},
   "source": [
    "## 5. Getting return and number of movies of an actor."
   ]
  },
  {
   "cell_type": "code",
   "execution_count": 27,
   "metadata": {},
   "outputs": [],
   "source": [
    "def get_actor(name):\n",
    "    name = string_transformation(name)\n",
    "    actor_financial[\"transformed_name\"] = [string_transformation(x) for x in actor_financial[\"name\"]]\n",
    "    if name in actor_financial[\"transformed_name\"].unique():\n",
    "        index = (actor_financial[\"transformed_name\"] == name).idxmax()\n",
    "        return {\n",
    "                'actor':actor_financial[\"name\"][index], \n",
    "                'films':actor_financial[\"films\"][index].item(), \n",
    "                'total_return':actor_financial[\"total_return\"][index].round(2).item(), \n",
    "                'average_return':actor_financial[\"average_return\"][index].item()\n",
    "                }        \n",
    "    else:\n",
    "        return \"Entered value is not valid.\""
   ]
  },
  {
   "cell_type": "code",
   "execution_count": 28,
   "metadata": {},
   "outputs": [
    {
     "data": {
      "text/plain": [
       "{'actor': 'Johnny Depp',\n",
       " 'films': 69,\n",
       " 'total_return': 2.77,\n",
       " 'average_return': 2.02}"
      ]
     },
     "execution_count": 28,
     "metadata": {},
     "output_type": "execute_result"
    }
   ],
   "source": [
    "get_actor(\"Johnnydépp\")"
   ]
  },
  {
   "attachments": {},
   "cell_type": "markdown",
   "metadata": {},
   "source": [
    "## 6. Getting return of a director and information about them movies."
   ]
  },
  {
   "attachments": {},
   "cell_type": "markdown",
   "metadata": {},
   "source": [
    "Using Movies LEFT JOIN Directors."
   ]
  },
  {
   "cell_type": "code",
   "execution_count": 38,
   "metadata": {},
   "outputs": [],
   "source": [
    "def get_director(name):\n",
    "    name = string_transformation(name)\n",
    "    director_financial[\"transformed_name\"] = [string_transformation(x) for x in director_financial[\"name\"]]\n",
    "    if name in director_financial[\"transformed_name\"].unique():\n",
    "        index = (director_financial[\"transformed_name\"] == name).idxmax() # obtain index corresponding the name\n",
    "        df_director = df_crew[df_crew[\"job\"] == \"Director\"] # filter jobs\n",
    "        df_movies_director = df_movies.merge(df_director[[\"name\", \"id\"]], how=\"left\", on =\"id\") # join movies df with directors name\n",
    "        df_movies_director.fillna(\"\", inplace=True) # replace nan with blank spaces\n",
    "\n",
    "        ## transforming the directors name so it can match with the input\n",
    "        df_movies_director[\"transformed_director\"] = [string_transformation(x) for x in df_movies_director[\"name\"]] # with pandas series, we need to use comprehension lists or apply()\n",
    "\n",
    "        ## filter the movies that matches the input name with the transformed name\n",
    "        movies = df_movies_director[df_movies_director[\"transformed_director\"] == name]\n",
    "        movies = movies[[\"title\",\"release_year\", \"return\", \"budget\", \"revenue\"]]\n",
    "        return {\n",
    "                'director':director_financial[\"name\"][index], \n",
    "                'total return':director_financial[\"total_return\"][index].round(2).item(), \n",
    "                'films': movies.to_dict(orient='records') # orient=records doesn't show id and objects type\n",
    "                }\n",
    "    else:\n",
    "        return \"Entered value is not valid.\"\n"
   ]
  },
  {
   "cell_type": "code",
   "execution_count": 39,
   "metadata": {},
   "outputs": [
    {
     "data": {
      "text/plain": [
       "{'director': 'Steven Spielberg',\n",
       " 'total return': 5.33,\n",
       " 'films': [{'title': 'Jurassic Park',\n",
       "   'release_year': 1993,\n",
       "   'return': 14.6,\n",
       "   'budget': 63000000.0,\n",
       "   'revenue': 920100000.0},\n",
       "  {'title': \"Schindler's List\",\n",
       "   'release_year': 1993,\n",
       "   'return': 14.61,\n",
       "   'budget': 22000000.0,\n",
       "   'revenue': 321365567.0},\n",
       "  {'title': 'E.T. the Extra-Terrestrial',\n",
       "   'release_year': 1982,\n",
       "   'return': 75.52,\n",
       "   'budget': 10500000.0,\n",
       "   'revenue': 792965326.0},\n",
       "  {'title': 'Raiders of the Lost Ark',\n",
       "   'release_year': 1981,\n",
       "   'return': 21.66,\n",
       "   'budget': 18000000.0,\n",
       "   'revenue': 389925971.0},\n",
       "  {'title': 'Indiana Jones and the Last Crusade',\n",
       "   'release_year': 1989,\n",
       "   'return': 9.88,\n",
       "   'budget': 48000000.0,\n",
       "   'revenue': 474171806.0},\n",
       "  {'title': 'Jaws',\n",
       "   'release_year': 1975,\n",
       "   'return': 67.24,\n",
       "   'budget': 7000000.0,\n",
       "   'revenue': 470654000.0},\n",
       "  {'title': 'The Lost World: Jurassic Park',\n",
       "   'release_year': 1997,\n",
       "   'return': 3.14,\n",
       "   'budget': 73000000.0,\n",
       "   'revenue': 229074524.0},\n",
       "  {'title': 'Amistad',\n",
       "   'release_year': 1997,\n",
       "   'return': 2.06,\n",
       "   'budget': 36000000.0,\n",
       "   'revenue': 74000000.0},\n",
       "  {'title': 'Saving Private Ryan',\n",
       "   'release_year': 1998,\n",
       "   'return': 6.88,\n",
       "   'budget': 70000000.0,\n",
       "   'revenue': 481840909.0},\n",
       "  {'title': 'Indiana Jones and the Temple of Doom',\n",
       "   'release_year': 1984,\n",
       "   'return': 11.89,\n",
       "   'budget': 28000000.0,\n",
       "   'revenue': 333000000.0},\n",
       "  {'title': 'The Color Purple',\n",
       "   'release_year': 1985,\n",
       "   'return': 9.75,\n",
       "   'budget': 15000000.0,\n",
       "   'revenue': 146292009.0},\n",
       "  {'title': 'Close Encounters of the Third Kind',\n",
       "   'release_year': 1977,\n",
       "   'return': 15.19,\n",
       "   'budget': 20000000.0,\n",
       "   'revenue': 303788635.0},\n",
       "  {'title': 'Hook',\n",
       "   'release_year': 1991,\n",
       "   'return': 4.3,\n",
       "   'budget': 70000000.0,\n",
       "   'revenue': 300854823.0},\n",
       "  {'title': 'The Sugarland Express',\n",
       "   'release_year': 1974,\n",
       "   'return': 4.27,\n",
       "   'budget': 3000000.0,\n",
       "   'revenue': 12800000.0},\n",
       "  {'title': 'Empire of the Sun',\n",
       "   'release_year': 1987,\n",
       "   'return': 0.64,\n",
       "   'budget': 35000000.0,\n",
       "   'revenue': 22238696.0},\n",
       "  {'title': 'A.I. Artificial Intelligence',\n",
       "   'release_year': 2001,\n",
       "   'return': 2.36,\n",
       "   'budget': 100000000.0,\n",
       "   'revenue': 235926552.0},\n",
       "  {'title': 'Always',\n",
       "   'release_year': 1989,\n",
       "   'return': 2.39,\n",
       "   'budget': 31000000.0,\n",
       "   'revenue': 74134790.0},\n",
       "  {'title': 'Minority Report',\n",
       "   'release_year': 2002,\n",
       "   'return': 3.51,\n",
       "   'budget': 102000000.0,\n",
       "   'revenue': 358372926.0},\n",
       "  {'title': 'Catch Me If You Can',\n",
       "   'release_year': 2002,\n",
       "   'return': 6.77,\n",
       "   'budget': 52000000.0,\n",
       "   'revenue': 352114312.0},\n",
       "  {'title': '1941',\n",
       "   'release_year': 1979,\n",
       "   'return': 0.91,\n",
       "   'budget': 35000000.0,\n",
       "   'revenue': 31755742.0},\n",
       "  {'title': 'The Terminal',\n",
       "   'release_year': 2004,\n",
       "   'return': 3.66,\n",
       "   'budget': 60000000.0,\n",
       "   'revenue': 219417255.0},\n",
       "  {'title': 'Duel',\n",
       "   'release_year': 1972,\n",
       "   'return': 0.0,\n",
       "   'budget': 450000.0,\n",
       "   'revenue': 0.0},\n",
       "  {'title': 'Twilight Zone: The Movie',\n",
       "   'release_year': 1983,\n",
       "   'return': 2.95,\n",
       "   'budget': 10000000.0,\n",
       "   'revenue': 29450919.0},\n",
       "  {'title': 'War of the Worlds',\n",
       "   'release_year': 2005,\n",
       "   'return': 4.48,\n",
       "   'budget': 132000000.0,\n",
       "   'revenue': 591739379.0},\n",
       "  {'title': 'Munich',\n",
       "   'release_year': 2005,\n",
       "   'return': 1.86,\n",
       "   'budget': 70000000.0,\n",
       "   'revenue': 130358911.0},\n",
       "  {'title': 'Indiana Jones and the Kingdom of the Crystal Skull',\n",
       "   'release_year': 2008,\n",
       "   'return': 4.25,\n",
       "   'budget': 185000000.0,\n",
       "   'revenue': 786636033.0},\n",
       "  {'title': 'The Adventures of Tintin',\n",
       "   'release_year': 2011,\n",
       "   'return': 2.86,\n",
       "   'budget': 130000000.0,\n",
       "   'revenue': 371940071.0},\n",
       "  {'title': 'War Horse',\n",
       "   'release_year': 2011,\n",
       "   'return': 2.69,\n",
       "   'budget': 66000000.0,\n",
       "   'revenue': 177584879.0},\n",
       "  {'title': 'Lincoln',\n",
       "   'release_year': 2012,\n",
       "   'return': 4.24,\n",
       "   'budget': 65000000.0,\n",
       "   'revenue': 275293450.0},\n",
       "  {'title': 'Night Gallery',\n",
       "   'release_year': 1969,\n",
       "   'return': 0.0,\n",
       "   'budget': 0.0,\n",
       "   'revenue': 0.0},\n",
       "  {'title': 'Bridge of Spies',\n",
       "   'release_year': 2015,\n",
       "   'return': 4.14,\n",
       "   'budget': 40000000.0,\n",
       "   'revenue': 165478348.0},\n",
       "  {'title': 'The BFG',\n",
       "   'release_year': 2016,\n",
       "   'return': 1.31,\n",
       "   'budget': 140000000.0,\n",
       "   'revenue': 183345589.0},\n",
       "  {'title': 'Something Evil',\n",
       "   'release_year': 1972,\n",
       "   'return': 0.0,\n",
       "   'budget': 0.0,\n",
       "   'revenue': 0.0}]}"
      ]
     },
     "execution_count": 39,
     "metadata": {},
     "output_type": "execute_result"
    }
   ],
   "source": [
    "get_director(\"Ste venSpielberg.. \")"
   ]
  },
  {
   "cell_type": "code",
   "execution_count": 31,
   "metadata": {},
   "outputs": [
    {
     "data": {
      "text/html": [
       "<div>\n",
       "<style scoped>\n",
       "    .dataframe tbody tr th:only-of-type {\n",
       "        vertical-align: middle;\n",
       "    }\n",
       "\n",
       "    .dataframe tbody tr th {\n",
       "        vertical-align: top;\n",
       "    }\n",
       "\n",
       "    .dataframe thead th {\n",
       "        text-align: right;\n",
       "    }\n",
       "</style>\n",
       "<table border=\"1\" class=\"dataframe\">\n",
       "  <thead>\n",
       "    <tr style=\"text-align: right;\">\n",
       "      <th></th>\n",
       "      <th>budget</th>\n",
       "      <th>id</th>\n",
       "      <th>original_language</th>\n",
       "      <th>overview</th>\n",
       "      <th>popularity</th>\n",
       "      <th>release_date</th>\n",
       "      <th>revenue</th>\n",
       "      <th>runtime</th>\n",
       "      <th>tagline</th>\n",
       "      <th>title</th>\n",
       "      <th>...</th>\n",
       "      <th>collection</th>\n",
       "      <th>genres_list</th>\n",
       "      <th>spoken_languages_list</th>\n",
       "      <th>production_companies_list</th>\n",
       "      <th>production_countries_list</th>\n",
       "      <th>release_year</th>\n",
       "      <th>return</th>\n",
       "      <th>transformed_title</th>\n",
       "      <th>release_month</th>\n",
       "      <th>release_day</th>\n",
       "    </tr>\n",
       "  </thead>\n",
       "  <tbody>\n",
       "    <tr>\n",
       "      <th>1063</th>\n",
       "      <td>10500000.0</td>\n",
       "      <td>601</td>\n",
       "      <td>en</td>\n",
       "      <td>After a gentle alien becomes stranded on Earth...</td>\n",
       "      <td>19.358546</td>\n",
       "      <td>1982-04-03</td>\n",
       "      <td>792965326.0</td>\n",
       "      <td>115.0</td>\n",
       "      <td>He is afraid. He is alone. He is three million...</td>\n",
       "      <td>E.T. the Extra-Terrestrial</td>\n",
       "      <td>...</td>\n",
       "      <td>NaN</td>\n",
       "      <td>['Science Fiction', 'Adventure', 'Family', 'Fa...</td>\n",
       "      <td>['en']</td>\n",
       "      <td>['Universal Pictures', 'Amblin Entertainment']</td>\n",
       "      <td>['US']</td>\n",
       "      <td>1982</td>\n",
       "      <td>75.52</td>\n",
       "      <td>ettheextraterrestrial</td>\n",
       "      <td>abril</td>\n",
       "      <td>sábado</td>\n",
       "    </tr>\n",
       "  </tbody>\n",
       "</table>\n",
       "<p>1 rows × 22 columns</p>\n",
       "</div>"
      ],
      "text/plain": [
       "          budget   id original_language  \\\n",
       "1063  10500000.0  601                en   \n",
       "\n",
       "                                               overview  popularity  \\\n",
       "1063  After a gentle alien becomes stranded on Earth...   19.358546   \n",
       "\n",
       "     release_date      revenue  runtime  \\\n",
       "1063   1982-04-03  792965326.0    115.0   \n",
       "\n",
       "                                                tagline  \\\n",
       "1063  He is afraid. He is alone. He is three million...   \n",
       "\n",
       "                           title  ...  collection  \\\n",
       "1063  E.T. the Extra-Terrestrial  ...         NaN   \n",
       "\n",
       "                                            genres_list  \\\n",
       "1063  ['Science Fiction', 'Adventure', 'Family', 'Fa...   \n",
       "\n",
       "      spoken_languages_list                       production_companies_list  \\\n",
       "1063                 ['en']  ['Universal Pictures', 'Amblin Entertainment']   \n",
       "\n",
       "     production_countries_list release_year return      transformed_title  \\\n",
       "1063                    ['US']         1982  75.52  ettheextraterrestrial   \n",
       "\n",
       "      release_month release_day  \n",
       "1063          abril      sábado  \n",
       "\n",
       "[1 rows x 22 columns]"
      ]
     },
     "execution_count": 31,
     "metadata": {},
     "output_type": "execute_result"
    }
   ],
   "source": [
    "df_movies[df_movies[\"title\"] == \"E.T. the Extra-Terrestrial\"]"
   ]
  },
  {
   "attachments": {},
   "cell_type": "markdown",
   "metadata": {},
   "source": [
    "Using Directors LEFT JOIN Movies."
   ]
  },
  {
   "cell_type": "code",
   "execution_count": 42,
   "metadata": {},
   "outputs": [],
   "source": [
    "def get_director(name):\n",
    "    name = string_transformation(name)\n",
    "    director_financial[\"transformed_name\"] = [string_transformation(x) for x in director_financial[\"name\"]]\n",
    "    if name in director_financial[\"transformed_name\"].unique():\n",
    "        index = (director_financial[\"transformed_name\"] == name).idxmax() # obtain index corresponding the name\n",
    "        df_director = df_crew[df_crew[\"job\"] == \"Director\"] # filter jobs\n",
    "        df_movies_director = df_director[[\"name\", \"id\"]].merge(df_movies, how=\"left\", on =\"id\") # join movies df with directors name\n",
    "        df_movies_director.fillna(\"\", inplace=True) # replace nan with blank spaces\n",
    "\n",
    "        ## transforming the directors name so it can match with the input\n",
    "        df_movies_director[\"transformed_director\"] = [string_transformation(x) for x in df_movies_director[\"name\"]] # with pandas series, we need to use comprehension lists or apply()\n",
    "\n",
    "        ## filter the movies that matches the input name with the transformed name\n",
    "        movies = df_movies_director[df_movies_director[\"transformed_director\"] == name]\n",
    "        movies = movies[[\"title\",\"release_year\", \"return\", \"budget\", \"revenue\"]]\n",
    "        movies[\"release_year\"] = [int(x) for x in movies[\"release_year\"]] #change years like 1990.0 to 1990\n",
    "        return {\n",
    "                'director':director_financial[\"name\"][index], \n",
    "                'total return':director_financial[\"total_return\"][index].round(2).item(), \n",
    "                'films': movies.to_dict(orient='records') # orient=records doesn't show id and objects type\n",
    "                }\n",
    "    else:\n",
    "        return \"Entered value is not valid.\""
   ]
  },
  {
   "cell_type": "code",
   "execution_count": 43,
   "metadata": {},
   "outputs": [
    {
     "data": {
      "text/plain": [
       "{'director': 'Steven Spielberg',\n",
       " 'total return': 5.33,\n",
       " 'films': [{'title': 'Jurassic Park',\n",
       "   'release_year': 1993,\n",
       "   'return': 14.6,\n",
       "   'budget': 63000000.0,\n",
       "   'revenue': 920100000.0},\n",
       "  {'title': \"Schindler's List\",\n",
       "   'release_year': 1993,\n",
       "   'return': 14.61,\n",
       "   'budget': 22000000.0,\n",
       "   'revenue': 321365567.0},\n",
       "  {'title': 'E.T. the Extra-Terrestrial',\n",
       "   'release_year': 1982,\n",
       "   'return': 75.52,\n",
       "   'budget': 10500000.0,\n",
       "   'revenue': 792965326.0},\n",
       "  {'title': 'Raiders of the Lost Ark',\n",
       "   'release_year': 1981,\n",
       "   'return': 21.66,\n",
       "   'budget': 18000000.0,\n",
       "   'revenue': 389925971.0},\n",
       "  {'title': 'Indiana Jones and the Last Crusade',\n",
       "   'release_year': 1989,\n",
       "   'return': 9.88,\n",
       "   'budget': 48000000.0,\n",
       "   'revenue': 474171806.0},\n",
       "  {'title': 'Jaws',\n",
       "   'release_year': 1975,\n",
       "   'return': 67.24,\n",
       "   'budget': 7000000.0,\n",
       "   'revenue': 470654000.0},\n",
       "  {'title': 'The Lost World: Jurassic Park',\n",
       "   'release_year': 1997,\n",
       "   'return': 3.14,\n",
       "   'budget': 73000000.0,\n",
       "   'revenue': 229074524.0},\n",
       "  {'title': 'Amistad',\n",
       "   'release_year': 1997,\n",
       "   'return': 2.06,\n",
       "   'budget': 36000000.0,\n",
       "   'revenue': 74000000.0},\n",
       "  {'title': 'Saving Private Ryan',\n",
       "   'release_year': 1998,\n",
       "   'return': 6.88,\n",
       "   'budget': 70000000.0,\n",
       "   'revenue': 481840909.0},\n",
       "  {'title': 'Indiana Jones and the Temple of Doom',\n",
       "   'release_year': 1984,\n",
       "   'return': 11.89,\n",
       "   'budget': 28000000.0,\n",
       "   'revenue': 333000000.0},\n",
       "  {'title': 'The Color Purple',\n",
       "   'release_year': 1985,\n",
       "   'return': 9.75,\n",
       "   'budget': 15000000.0,\n",
       "   'revenue': 146292009.0},\n",
       "  {'title': 'Close Encounters of the Third Kind',\n",
       "   'release_year': 1977,\n",
       "   'return': 15.19,\n",
       "   'budget': 20000000.0,\n",
       "   'revenue': 303788635.0},\n",
       "  {'title': 'Hook',\n",
       "   'release_year': 1991,\n",
       "   'return': 4.3,\n",
       "   'budget': 70000000.0,\n",
       "   'revenue': 300854823.0},\n",
       "  {'title': 'The Sugarland Express',\n",
       "   'release_year': 1974,\n",
       "   'return': 4.27,\n",
       "   'budget': 3000000.0,\n",
       "   'revenue': 12800000.0},\n",
       "  {'title': 'Empire of the Sun',\n",
       "   'release_year': 1987,\n",
       "   'return': 0.64,\n",
       "   'budget': 35000000.0,\n",
       "   'revenue': 22238696.0},\n",
       "  {'title': 'A.I. Artificial Intelligence',\n",
       "   'release_year': 2001,\n",
       "   'return': 2.36,\n",
       "   'budget': 100000000.0,\n",
       "   'revenue': 235926552.0},\n",
       "  {'title': 'Always',\n",
       "   'release_year': 1989,\n",
       "   'return': 2.39,\n",
       "   'budget': 31000000.0,\n",
       "   'revenue': 74134790.0},\n",
       "  {'title': 'Minority Report',\n",
       "   'release_year': 2002,\n",
       "   'return': 3.51,\n",
       "   'budget': 102000000.0,\n",
       "   'revenue': 358372926.0},\n",
       "  {'title': 'Catch Me If You Can',\n",
       "   'release_year': 2002,\n",
       "   'return': 6.77,\n",
       "   'budget': 52000000.0,\n",
       "   'revenue': 352114312.0},\n",
       "  {'title': '1941',\n",
       "   'release_year': 1979,\n",
       "   'return': 0.91,\n",
       "   'budget': 35000000.0,\n",
       "   'revenue': 31755742.0},\n",
       "  {'title': 'The Terminal',\n",
       "   'release_year': 2004,\n",
       "   'return': 3.66,\n",
       "   'budget': 60000000.0,\n",
       "   'revenue': 219417255.0},\n",
       "  {'title': 'Duel',\n",
       "   'release_year': 1972,\n",
       "   'return': 0.0,\n",
       "   'budget': 450000.0,\n",
       "   'revenue': 0.0},\n",
       "  {'title': 'Twilight Zone: The Movie',\n",
       "   'release_year': 1983,\n",
       "   'return': 2.95,\n",
       "   'budget': 10000000.0,\n",
       "   'revenue': 29450919.0},\n",
       "  {'title': 'War of the Worlds',\n",
       "   'release_year': 2005,\n",
       "   'return': 4.48,\n",
       "   'budget': 132000000.0,\n",
       "   'revenue': 591739379.0},\n",
       "  {'title': 'Munich',\n",
       "   'release_year': 2005,\n",
       "   'return': 1.86,\n",
       "   'budget': 70000000.0,\n",
       "   'revenue': 130358911.0},\n",
       "  {'title': 'Indiana Jones and the Kingdom of the Crystal Skull',\n",
       "   'release_year': 2008,\n",
       "   'return': 4.25,\n",
       "   'budget': 185000000.0,\n",
       "   'revenue': 786636033.0},\n",
       "  {'title': 'The Adventures of Tintin',\n",
       "   'release_year': 2011,\n",
       "   'return': 2.86,\n",
       "   'budget': 130000000.0,\n",
       "   'revenue': 371940071.0},\n",
       "  {'title': 'War Horse',\n",
       "   'release_year': 2011,\n",
       "   'return': 2.69,\n",
       "   'budget': 66000000.0,\n",
       "   'revenue': 177584879.0},\n",
       "  {'title': 'Lincoln',\n",
       "   'release_year': 2012,\n",
       "   'return': 4.24,\n",
       "   'budget': 65000000.0,\n",
       "   'revenue': 275293450.0},\n",
       "  {'title': 'Night Gallery',\n",
       "   'release_year': 1969,\n",
       "   'return': 0.0,\n",
       "   'budget': 0.0,\n",
       "   'revenue': 0.0},\n",
       "  {'title': 'Bridge of Spies',\n",
       "   'release_year': 2015,\n",
       "   'return': 4.14,\n",
       "   'budget': 40000000.0,\n",
       "   'revenue': 165478348.0},\n",
       "  {'title': 'The BFG',\n",
       "   'release_year': 2016,\n",
       "   'return': 1.31,\n",
       "   'budget': 140000000.0,\n",
       "   'revenue': 183345589.0},\n",
       "  {'title': 'Something Evil',\n",
       "   'release_year': 1972,\n",
       "   'return': 0.0,\n",
       "   'budget': 0.0,\n",
       "   'revenue': 0.0}]}"
      ]
     },
     "execution_count": 43,
     "metadata": {},
     "output_type": "execute_result"
    }
   ],
   "source": [
    "get_director(\"Ste venSpielberg.. \")"
   ]
  }
 ],
 "metadata": {
  "kernelspec": {
   "display_name": "venv",
   "language": "python",
   "name": "python3"
  },
  "language_info": {
   "codemirror_mode": {
    "name": "ipython",
    "version": 3
   },
   "file_extension": ".py",
   "mimetype": "text/x-python",
   "name": "python",
   "nbconvert_exporter": "python",
   "pygments_lexer": "ipython3",
   "version": "3.10.11"
  },
  "orig_nbformat": 4
 },
 "nbformat": 4,
 "nbformat_minor": 2
}
