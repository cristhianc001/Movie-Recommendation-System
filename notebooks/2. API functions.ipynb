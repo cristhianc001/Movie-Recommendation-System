{
 "cells": [
  {
   "attachments": {},
   "cell_type": "markdown",
   "metadata": {},
   "source": [
    "# Importing Labraries"
   ]
  },
  {
   "cell_type": "code",
   "execution_count": 1,
   "metadata": {},
   "outputs": [
    {
     "data": {
      "text/plain": [
       "'es_ES'"
      ]
     },
     "execution_count": 1,
     "metadata": {},
     "output_type": "execute_result"
    }
   ],
   "source": [
    "import pandas as pd\n",
    "from unidecode import unidecode\n",
    "import re\n",
    "import locale\n",
    "locale.setlocale(locale.LC_TIME, 'es_ES') # setting a local configuration for dates values"
   ]
  },
  {
   "attachments": {},
   "cell_type": "markdown",
   "metadata": {},
   "source": [
    "# Functions"
   ]
  },
  {
   "attachments": {},
   "cell_type": "markdown",
   "metadata": {},
   "source": [
    "In this notebook we are going to build some functions to test the API."
   ]
  },
  {
   "cell_type": "code",
   "execution_count": 2,
   "metadata": {},
   "outputs": [],
   "source": [
    "df_movies = pd.read_csv(\"../processed_data/movies.csv\")\n",
    "df_cast = pd.read_csv(\"../processed_data/cast.csv\")\n",
    "df_crew = pd.read_csv(\"../processed_data/crew.csv\")\n",
    "actor_financial = pd.read_csv(\"../processed_data/actor_financial.csv\")\n",
    "director_financial = pd.read_csv(\"../processed_data/director_financial.csv\")"
   ]
  },
  {
   "attachments": {},
   "cell_type": "markdown",
   "metadata": {},
   "source": [
    "## Amount of films by month"
   ]
  },
  {
   "cell_type": "code",
   "execution_count": 3,
   "metadata": {},
   "outputs": [],
   "source": [
    "def cantidad_filmaciones_mes(month: str):\n",
    "    if type(month) == str:\n",
    "        month = month.lower().strip().replace(\" \", \"\")\n",
    "        month = unidecode(month)  # delete accents\n",
    "        month = re.sub(r'[^\\w\\s]', '', month)  # delete special characters and punctuation marks\n",
    "        # '%B' complete name of the month, strftime is string format time, it allows to format date data to a desirable representation\n",
    "        # dt only works with pandas series that are datetime type\n",
    "        df_movies[\"release_month\"] = pd.to_datetime(df_movies[\"release_date\"]).dt.strftime('%B')\n",
    "        if month in df_movies[\"release_month\"].unique():\n",
    "            count_by_month = df_movies.groupby([\"release_month\"])[\"title\"].count()\n",
    "            return {month: count_by_month[month].item()} # needs item() because fastapi doesn't process numpy.int64 type objects \n",
    "        else:\n",
    "            return \"Entered value is not valid.\" # if we use print() instead of return, the output will be null\n",
    "    else:\n",
    "        return \"Entered value is not valid.\" \n"
   ]
  },
  {
   "cell_type": "code",
   "execution_count": 5,
   "metadata": {},
   "outputs": [
    {
     "data": {
      "text/plain": [
       "{'abril': 3809}"
      ]
     },
     "execution_count": 5,
     "metadata": {},
     "output_type": "execute_result"
    }
   ],
   "source": [
    "cantidad_filmaciones_mes(\"+ábril\")"
   ]
  },
  {
   "cell_type": "code",
   "execution_count": 7,
   "metadata": {},
   "outputs": [
    {
     "data": {
      "text/plain": [
       "{'release_month': 'abril', 'title': 3809}"
      ]
     },
     "execution_count": 7,
     "metadata": {},
     "output_type": "execute_result"
    }
   ],
   "source": [
    "# other option to get a dictionary with the answer\n",
    "\n",
    "count_by_month = df_movies.groupby([\"release_month\"])[\"title\"].count().reset_index()\n",
    "index = (count_by_month[\"release_month\"] == \"abril\" ).idxmax()\n",
    "count_by_month.loc[index, :].to_dict()\n",
    " "
   ]
  },
  {
   "cell_type": "code",
   "execution_count": 8,
   "metadata": {},
   "outputs": [
    {
     "data": {
      "text/plain": [
       "release_month\n",
       "abril         3809\n",
       "agosto        3699\n",
       "diciembre     4124\n",
       "enero         6532\n",
       "febrero       3305\n",
       "julio         2894\n",
       "junio         3487\n",
       "marzo         3870\n",
       "mayo          3691\n",
       "noviembre     4018\n",
       "octubre       5030\n",
       "septiembre    5356\n",
       "Name: title, dtype: int64"
      ]
     },
     "execution_count": 8,
     "metadata": {},
     "output_type": "execute_result"
    }
   ],
   "source": [
    "df_movies[\"release_month\"] = pd.to_datetime(df_movies[\"release_date\"]).dt.strftime('%B') \n",
    "count_by_month = df_movies.groupby([\"release_month\"])[\"title\"].count()\n",
    "count_by_month"
   ]
  },
  {
   "attachments": {},
   "cell_type": "markdown",
   "metadata": {},
   "source": [
    "## Amount of films by day of the week."
   ]
  },
  {
   "cell_type": "code",
   "execution_count": 9,
   "metadata": {},
   "outputs": [],
   "source": [
    "def cantidad_filmaciones_dia(day: str):\n",
    "    if type(day) == str:\n",
    "        day = day.lower().strip().replace(\" \", \"\")\n",
    "        day = unidecode(day) # delete accents\n",
    "        day = re.sub(r'[^\\w\\s]', '', day) # delete special characters and punctuation marks\n",
    "        # dt only works with pandas series that are datetime type\n",
    "        # '%A' complete name of the day, strftime is string format time, it allows to format date data to a desirable representation\n",
    "        df_movies[\"release_day\"] = pd.to_datetime(df_movies[\"release_date\"]).dt.strftime('%A') \n",
    "        if day in df_movies[\"release_day\"].unique():\n",
    "            count_by_day = df_movies.groupby([\"release_day\"])[\"title\"].count()\n",
    "            return {day:count_by_day[day].item()}\n",
    "        else:\n",
    "            return \"Entered value is not valid.\" \n",
    "    else:\n",
    "        return \"Entered value is not valid.\"\n",
    "    "
   ]
  },
  {
   "cell_type": "code",
   "execution_count": 10,
   "metadata": {},
   "outputs": [
    {
     "data": {
      "text/plain": [
       "{'viernes': 15105}"
      ]
     },
     "execution_count": 10,
     "metadata": {},
     "output_type": "execute_result"
    }
   ],
   "source": [
    "cantidad_filmaciones_dia(\"Viérnes-\")"
   ]
  },
  {
   "cell_type": "code",
   "execution_count": 11,
   "metadata": {},
   "outputs": [
    {
     "data": {
      "text/plain": [
       "release_day\n",
       "domingo       4017\n",
       "jueves        8291\n",
       "lunes         3846\n",
       "martes        5186\n",
       "miércoles     7691\n",
       "sábado        5679\n",
       "viernes      15105\n",
       "Name: title, dtype: int64"
      ]
     },
     "execution_count": 11,
     "metadata": {},
     "output_type": "execute_result"
    }
   ],
   "source": [
    "df_movies[\"release_day\"] = pd.to_datetime(df_movies[\"release_date\"]).dt.strftime('%A') \n",
    "count_by_day = df_movies.groupby([\"release_day\"])[\"title\"].count()\n",
    "count_by_day "
   ]
  },
  {
   "attachments": {},
   "cell_type": "markdown",
   "metadata": {},
   "source": [
    "## Getting the popularity of a movie introducing the title."
   ]
  },
  {
   "attachments": {},
   "cell_type": "markdown",
   "metadata": {},
   "source": [
    "There is a situation with the movies that have to be adressed here, there are duplicates for some movies because there are released in different languages. This function will get the popularity using idxmax() to get the index according to the title. idxmax() will consider only the first occurrence."
   ]
  },
  {
   "cell_type": "code",
   "execution_count": 12,
   "metadata": {},
   "outputs": [
    {
     "data": {
      "text/html": [
       "<div>\n",
       "<style scoped>\n",
       "    .dataframe tbody tr th:only-of-type {\n",
       "        vertical-align: middle;\n",
       "    }\n",
       "\n",
       "    .dataframe tbody tr th {\n",
       "        vertical-align: top;\n",
       "    }\n",
       "\n",
       "    .dataframe thead th {\n",
       "        text-align: right;\n",
       "    }\n",
       "</style>\n",
       "<table border=\"1\" class=\"dataframe\">\n",
       "  <thead>\n",
       "    <tr style=\"text-align: right;\">\n",
       "      <th></th>\n",
       "      <th>budget</th>\n",
       "      <th>id</th>\n",
       "      <th>original_language</th>\n",
       "      <th>overview</th>\n",
       "      <th>popularity</th>\n",
       "      <th>release_date</th>\n",
       "      <th>revenue</th>\n",
       "      <th>runtime</th>\n",
       "      <th>status</th>\n",
       "      <th>title</th>\n",
       "      <th>...</th>\n",
       "      <th>spoken_languages_list</th>\n",
       "      <th>production_companies_list</th>\n",
       "      <th>production_countries_list</th>\n",
       "      <th>release_year</th>\n",
       "      <th>return</th>\n",
       "      <th>director</th>\n",
       "      <th>transformed_title</th>\n",
       "      <th>transformed_director</th>\n",
       "      <th>release_month</th>\n",
       "      <th>release_day</th>\n",
       "    </tr>\n",
       "  </thead>\n",
       "  <tbody>\n",
       "    <tr>\n",
       "      <th>1232</th>\n",
       "      <td>350000.0</td>\n",
       "      <td>389</td>\n",
       "      <td>en</td>\n",
       "      <td>The defense and the prosecution have rested an...</td>\n",
       "      <td>16.503959</td>\n",
       "      <td>1957-03-25</td>\n",
       "      <td>1000000.0</td>\n",
       "      <td>96.0</td>\n",
       "      <td>Released</td>\n",
       "      <td>12 Angry Men</td>\n",
       "      <td>...</td>\n",
       "      <td>['en']</td>\n",
       "      <td>['United Artists', 'Orion-Nova Productions']</td>\n",
       "      <td>['US']</td>\n",
       "      <td>1957</td>\n",
       "      <td>2.86</td>\n",
       "      <td>Sidney Lumet</td>\n",
       "      <td>12angrymen</td>\n",
       "      <td>sidneylumet</td>\n",
       "      <td>marzo</td>\n",
       "      <td>lunes</td>\n",
       "    </tr>\n",
       "    <tr>\n",
       "      <th>16406</th>\n",
       "      <td>0.0</td>\n",
       "      <td>12219</td>\n",
       "      <td>en</td>\n",
       "      <td>During the trial of a man accused of his fathe...</td>\n",
       "      <td>3.679263</td>\n",
       "      <td>1997-08-17</td>\n",
       "      <td>0.0</td>\n",
       "      <td>117.0</td>\n",
       "      <td>Released</td>\n",
       "      <td>12 Angry Men</td>\n",
       "      <td>...</td>\n",
       "      <td>['en', 'hu', 'ru']</td>\n",
       "      <td>['MGM Television']</td>\n",
       "      <td>['US']</td>\n",
       "      <td>1997</td>\n",
       "      <td>0.00</td>\n",
       "      <td>William Friedkin</td>\n",
       "      <td>12angrymen</td>\n",
       "      <td>williamfriedkin</td>\n",
       "      <td>agosto</td>\n",
       "      <td>domingo</td>\n",
       "    </tr>\n",
       "  </tbody>\n",
       "</table>\n",
       "<p>2 rows × 24 columns</p>\n",
       "</div>"
      ],
      "text/plain": [
       "         budget     id original_language  \\\n",
       "1232   350000.0    389                en   \n",
       "16406       0.0  12219                en   \n",
       "\n",
       "                                                overview  popularity  \\\n",
       "1232   The defense and the prosecution have rested an...   16.503959   \n",
       "16406  During the trial of a man accused of his fathe...    3.679263   \n",
       "\n",
       "      release_date    revenue  runtime    status         title  ...  \\\n",
       "1232    1957-03-25  1000000.0     96.0  Released  12 Angry Men  ...   \n",
       "16406   1997-08-17        0.0    117.0  Released  12 Angry Men  ...   \n",
       "\n",
       "       spoken_languages_list                     production_companies_list  \\\n",
       "1232                  ['en']  ['United Artists', 'Orion-Nova Productions']   \n",
       "16406     ['en', 'hu', 'ru']                            ['MGM Television']   \n",
       "\n",
       "      production_countries_list release_year return          director  \\\n",
       "1232                     ['US']         1957   2.86      Sidney Lumet   \n",
       "16406                    ['US']         1997   0.00  William Friedkin   \n",
       "\n",
       "      transformed_title  transformed_director  release_month release_day  \n",
       "1232         12angrymen           sidneylumet          marzo       lunes  \n",
       "16406        12angrymen       williamfriedkin         agosto     domingo  \n",
       "\n",
       "[2 rows x 24 columns]"
      ]
     },
     "execution_count": 12,
     "metadata": {},
     "output_type": "execute_result"
    }
   ],
   "source": [
    "df_movies[df_movies[\"title\"] == \"12 Angry Men\"]"
   ]
  },
  {
   "cell_type": "code",
   "execution_count": 17,
   "metadata": {},
   "outputs": [],
   "source": [
    "def score_titulo(title: str):\n",
    "    if type(title) == str:\n",
    "        title = title.lower().strip().replace(\" \", \"\")\n",
    "        title = unidecode(title) # delete accents\n",
    "        title = re.sub(r'[^\\w\\s]', '', title) # delete special characters and punctuation marks\n",
    "        if title in df_movies[\"transformed_title\"].unique(): # there are repeated movies (different language)\n",
    "            index = (df_movies[\"transformed_title\"] == title).idxmax()\n",
    "            return {\n",
    "                    \"Title\":df_movies[\"title\"][index], \n",
    "                    \"Year\":df_movies[\"release_year\"][index].item(), \n",
    "                    \"Popularity\":df_movies[\"popularity\"][index].round(2).item()\n",
    "                    } \n",
    "        else:\n",
    "            return \"Entered value is not valid.\"\n",
    "    else:\n",
    "        return \"Entered value is not valid.\""
   ]
  },
  {
   "cell_type": "code",
   "execution_count": 18,
   "metadata": {},
   "outputs": [
    {
     "data": {
      "text/plain": [
       "{'Title': '12 Angry Men', 'Year': 1957, 'Popularity': 16.5}"
      ]
     },
     "execution_count": 18,
     "metadata": {},
     "output_type": "execute_result"
    }
   ],
   "source": [
    "score_titulo(\"12angry, MEN\")"
   ]
  },
  {
   "attachments": {},
   "cell_type": "markdown",
   "metadata": {},
   "source": [
    "This function right here will group the title column and sum the popularity of every occurrence."
   ]
  },
  {
   "cell_type": "code",
   "execution_count": 19,
   "metadata": {},
   "outputs": [],
   "source": [
    "def score_titulo(title: str):\n",
    "    if type(title) == str:\n",
    "        title = title.lower().strip().replace(\" \", \"\")\n",
    "        title = unidecode(title)  # delete accents\n",
    "        title = re.sub(r'[^\\w\\s]', '', title)  # delete special characters and punctuation marks      \n",
    "        df_grouped = df_movies.groupby(\"transformed_title\")[\"popularity\"].sum()\n",
    "        if title in df_grouped.index: # values of the grouped column are the new index in a grouped df\n",
    "            normal_index = (df_movies[\"transformed_title\"] == title).idxmax() # index for non transformed and non grouped values\n",
    "            return {\n",
    "                    \"Title\": df_movies[\"title\"][normal_index], \n",
    "                    \"Year\": df_movies[\"release_year\"][normal_index].item(), \n",
    "                    \"Popularity\" : df_grouped[title].round(2).item()\n",
    "                    } \n",
    "        else:\n",
    "            return \"Entered value is not valid.\"\n",
    "    else:\n",
    "        return \"Entered value is not valid.\"\n"
   ]
  },
  {
   "cell_type": "code",
   "execution_count": 20,
   "metadata": {},
   "outputs": [
    {
     "data": {
      "text/plain": [
       "{'Title': '12 Angry Men', 'Year': 1957, 'Popularity': 20.18}"
      ]
     },
     "execution_count": 20,
     "metadata": {},
     "output_type": "execute_result"
    }
   ],
   "source": [
    "score_titulo(\"12angry MEN\")"
   ]
  },
  {
   "attachments": {},
   "cell_type": "markdown",
   "metadata": {},
   "source": [
    "## Getting total votes and average vote of a movie."
   ]
  },
  {
   "attachments": {},
   "cell_type": "markdown",
   "metadata": {},
   "source": [
    "Here we have to deal with same situation of the previous function. This is the solution usig idxmax()."
   ]
  },
  {
   "cell_type": "code",
   "execution_count": 21,
   "metadata": {},
   "outputs": [],
   "source": [
    "def votos_titulo(title: str):\n",
    "    if type(title) == str:\n",
    "        title = title.lower().strip().replace(\" \", \"\")\n",
    "        title = unidecode(title) # delete accents\n",
    "        title = re.sub(r'[^\\w\\s]', '', title) # delete special characters and punctuation marks\n",
    "        if title in df_movies[\"transformed_title\"].unique(): # there are repeated movies (different language) \n",
    "            index = (df_movies[\"transformed_title\"] == title).idxmax()\n",
    "            if df_movies[\"vote_count\"][index] >= 2000:\n",
    "                return {\n",
    "                        \"Title\": df_movies[\"title\"][index], \n",
    "                        \"Year\": df_movies[\"release_year\"][index].item(), \n",
    "                        \"Total votes\": df_movies[\"vote_count\"][index].item(), \n",
    "                        \"Average vote\": df_movies[\"vote_average\"][index].item()\n",
    "                        }\n",
    "            else:\n",
    "                return \"Movie must have at least 2000 votes\"\n",
    "        else:\n",
    "            return \"Entered value is not valid.\"\n",
    "    else:\n",
    "        return \"Entered value is not valid.\""
   ]
  },
  {
   "cell_type": "code",
   "execution_count": 22,
   "metadata": {},
   "outputs": [
    {
     "data": {
      "text/plain": [
       "{'Title': '12 Angry Men',\n",
       " 'Year': 1957,\n",
       " 'Total votes': 2130.0,\n",
       " 'Average vote': 8.2}"
      ]
     },
     "execution_count": 22,
     "metadata": {},
     "output_type": "execute_result"
    }
   ],
   "source": [
    "votos_titulo(\"12anGRY mén \")"
   ]
  },
  {
   "cell_type": "code",
   "execution_count": 23,
   "metadata": {},
   "outputs": [
    {
     "data": {
      "text/plain": [
       "'Movie must have at least 2000 votes'"
      ]
     },
     "execution_count": 23,
     "metadata": {},
     "output_type": "execute_result"
    }
   ],
   "source": [
    "votos_titulo(\"moonlight\")"
   ]
  },
  {
   "cell_type": "code",
   "execution_count": 24,
   "metadata": {},
   "outputs": [
    {
     "data": {
      "text/html": [
       "<div>\n",
       "<style scoped>\n",
       "    .dataframe tbody tr th:only-of-type {\n",
       "        vertical-align: middle;\n",
       "    }\n",
       "\n",
       "    .dataframe tbody tr th {\n",
       "        vertical-align: top;\n",
       "    }\n",
       "\n",
       "    .dataframe thead th {\n",
       "        text-align: right;\n",
       "    }\n",
       "</style>\n",
       "<table border=\"1\" class=\"dataframe\">\n",
       "  <thead>\n",
       "    <tr style=\"text-align: right;\">\n",
       "      <th></th>\n",
       "      <th>budget</th>\n",
       "      <th>id</th>\n",
       "      <th>original_language</th>\n",
       "      <th>overview</th>\n",
       "      <th>popularity</th>\n",
       "      <th>release_date</th>\n",
       "      <th>revenue</th>\n",
       "      <th>runtime</th>\n",
       "      <th>status</th>\n",
       "      <th>title</th>\n",
       "      <th>...</th>\n",
       "      <th>spoken_languages_list</th>\n",
       "      <th>production_companies_list</th>\n",
       "      <th>production_countries_list</th>\n",
       "      <th>release_year</th>\n",
       "      <th>return</th>\n",
       "      <th>director</th>\n",
       "      <th>transformed_title</th>\n",
       "      <th>transformed_director</th>\n",
       "      <th>release_month</th>\n",
       "      <th>release_day</th>\n",
       "    </tr>\n",
       "  </thead>\n",
       "  <tbody>\n",
       "    <tr>\n",
       "      <th>43744</th>\n",
       "      <td>4000000.0</td>\n",
       "      <td>376867</td>\n",
       "      <td>en</td>\n",
       "      <td>The tender, heartbreaking story of a young man...</td>\n",
       "      <td>14.171675</td>\n",
       "      <td>2016-10-21</td>\n",
       "      <td>65046687.0</td>\n",
       "      <td>111.0</td>\n",
       "      <td>Released</td>\n",
       "      <td>Moonlight</td>\n",
       "      <td>...</td>\n",
       "      <td>['en']</td>\n",
       "      <td>['Plan B Entertainment', 'Upload Films', 'A24'...</td>\n",
       "      <td>['US']</td>\n",
       "      <td>2016</td>\n",
       "      <td>16.26</td>\n",
       "      <td>Barry Jenkins</td>\n",
       "      <td>moonlight</td>\n",
       "      <td>barryjenkins</td>\n",
       "      <td>octubre</td>\n",
       "      <td>viernes</td>\n",
       "    </tr>\n",
       "  </tbody>\n",
       "</table>\n",
       "<p>1 rows × 24 columns</p>\n",
       "</div>"
      ],
      "text/plain": [
       "          budget      id original_language  \\\n",
       "43744  4000000.0  376867                en   \n",
       "\n",
       "                                                overview  popularity  \\\n",
       "43744  The tender, heartbreaking story of a young man...   14.171675   \n",
       "\n",
       "      release_date     revenue  runtime    status      title  ...  \\\n",
       "43744   2016-10-21  65046687.0    111.0  Released  Moonlight  ...   \n",
       "\n",
       "       spoken_languages_list  \\\n",
       "43744                 ['en']   \n",
       "\n",
       "                               production_companies_list  \\\n",
       "43744  ['Plan B Entertainment', 'Upload Films', 'A24'...   \n",
       "\n",
       "      production_countries_list release_year return       director  \\\n",
       "43744                    ['US']         2016  16.26  Barry Jenkins   \n",
       "\n",
       "      transformed_title  transformed_director  release_month release_day  \n",
       "43744         moonlight          barryjenkins        octubre     viernes  \n",
       "\n",
       "[1 rows x 24 columns]"
      ]
     },
     "execution_count": 24,
     "metadata": {},
     "output_type": "execute_result"
    }
   ],
   "source": [
    "df_movies[df_movies[\"title\"] == \"Moonlight\"] # checking the vote_count"
   ]
  },
  {
   "attachments": {},
   "cell_type": "markdown",
   "metadata": {},
   "source": [
    "And this is the solution considering all the occurrences and using aggregation functions."
   ]
  },
  {
   "cell_type": "code",
   "execution_count": 25,
   "metadata": {},
   "outputs": [],
   "source": [
    "def votos_titulo(title: str):\n",
    "    if type(title) == str:\n",
    "        title = title.lower().strip().replace(\" \", \"\")\n",
    "        title = unidecode(title)  # delete accents\n",
    "        title = re.sub(r'[^\\w\\s]', '', title)  # delete special characters and punctuation marks\n",
    "        df_grouped_total = df_movies.groupby(\"transformed_title\")[\"vote_count\"].sum()\n",
    "        df_grouped_average = df_movies.groupby(\"transformed_title\")[\"vote_average\"].mean()\n",
    "        if title in df_grouped_average.index: # values of the grouped column are the new index in a grouped df\n",
    "             if df_grouped_total[title] >= 2000:\n",
    "                normal_index = (df_movies[\"transformed_title\"] == title).idxmax() # index for non transformed and non grouped values\n",
    "                return {\n",
    "                        \"Title\": df_movies[\"title\"][normal_index], \n",
    "                        \"Year\": df_movies[\"release_year\"][normal_index].item(), \n",
    "                        \"Total Votes\" : df_grouped_total[title].item(), \n",
    "                        \"Average Vote\" : df_grouped_average[title].item()\n",
    "                        }\n",
    "             else:\n",
    "                 return \"Movie must have at least 2000 votes\"\n",
    "        else:\n",
    "            return \"Entered value is not valid.\"    \n",
    "    else:\n",
    "        return \"Entered value is not valid.\""
   ]
  },
  {
   "cell_type": "code",
   "execution_count": 26,
   "metadata": {},
   "outputs": [
    {
     "data": {
      "text/plain": [
       "'Movie must have at least 2000 votes'"
      ]
     },
     "execution_count": 26,
     "metadata": {},
     "output_type": "execute_result"
    }
   ],
   "source": [
    "votos_titulo(\"moonlight\")"
   ]
  },
  {
   "cell_type": "code",
   "execution_count": 27,
   "metadata": {},
   "outputs": [
    {
     "data": {
      "text/plain": [
       "{'Title': '12 Angry Men',\n",
       " 'Year': 1957,\n",
       " 'Total Votes': 2189.0,\n",
       " 'Average Vote': 7.85}"
      ]
     },
     "execution_count": 27,
     "metadata": {},
     "output_type": "execute_result"
    }
   ],
   "source": [
    "votos_titulo(\"12 angry, men\")"
   ]
  },
  {
   "attachments": {},
   "cell_type": "markdown",
   "metadata": {},
   "source": [
    "## Getting return and number of movies of an actor."
   ]
  },
  {
   "cell_type": "code",
   "execution_count": 32,
   "metadata": {},
   "outputs": [],
   "source": [
    "def get_actor(name):\n",
    "    if type(name) == str:\n",
    "        name = name.lower().strip().replace(\" \", \"\")\n",
    "        name = unidecode(name)  # delete accents\n",
    "        name = re.sub(r'[^\\w\\s]', '', name)  # delete special characters and punctuation marks\n",
    "        if name in actor_financial[\"transformed_name\"].unique():\n",
    "            index = (actor_financial[\"transformed_name\"] == name).idxmax()\n",
    "            return {\n",
    "                    'actor':actor_financial[\"name\"][index], \n",
    "                    'films':actor_financial[\"films\"][index].item(), \n",
    "                    'total_return':actor_financial[\"total_return\"][index].round(2).item(), \n",
    "                    'average_return':actor_financial[\"average_return\"][index].item()\n",
    "                    }        \n",
    "        else:\n",
    "            return \"Entered value is not valid.\"\n",
    "    return \"Entered value is not valid.\"\n",
    "   "
   ]
  },
  {
   "cell_type": "code",
   "execution_count": 33,
   "metadata": {},
   "outputs": [
    {
     "data": {
      "text/plain": [
       "{'actor': 'Johnny Depp',\n",
       " 'films': 74,\n",
       " 'total_return': 2.83,\n",
       " 'average_return': 2.07}"
      ]
     },
     "execution_count": 33,
     "metadata": {},
     "output_type": "execute_result"
    }
   ],
   "source": [
    "get_actor(\"Johnnydépp\")"
   ]
  },
  {
   "attachments": {},
   "cell_type": "markdown",
   "metadata": {},
   "source": [
    "## Getting return of a director and information about them movies."
   ]
  },
  {
   "cell_type": "code",
   "execution_count": 34,
   "metadata": {},
   "outputs": [],
   "source": [
    "def get_director(name):\n",
    "    if type(name) == str:\n",
    "        name = name.lower().strip().replace(\" \", \"\")\n",
    "        name = unidecode(name)  # delete accents\n",
    "        name = re.sub(r'[^\\w\\s]', '', name)  # delete special characters and punctuation marks\n",
    "        if name in director_financial[\"transformed_name\"].unique():\n",
    "            index = (director_financial[\"transformed_name\"] == name).idxmax()\n",
    "            movies_director = df_movies[df_movies[\"transformed_director\"] == name]\n",
    "            movies_director = movies_director[[\"title\",\"release_year\", \"return\", \"budget\", \"revenue\"]]\n",
    "            return {\n",
    "                        'director':director_financial[\"name\"][index], \n",
    "                        'total return':director_financial[\"total_return\"][index].round(2).item(), \n",
    "                        'films': movies_director.to_dict(orient='records')\n",
    "                     }\n",
    "        else:\n",
    "            return \"Entered value is not valid.\"\n",
    "    return \"Entered value is not valid.\""
   ]
  },
  {
   "cell_type": "code",
   "execution_count": 35,
   "metadata": {},
   "outputs": [
    {
     "data": {
      "text/plain": [
       "{'director': 'Steven Spielberg',\n",
       " 'total return': 5.29,\n",
       " 'films': [{'title': 'Jurassic Park',\n",
       "   'release_year': 1993,\n",
       "   'return': 14.6,\n",
       "   'budget': 63000000.0,\n",
       "   'revenue': 920100000.0},\n",
       "  {'title': \"Schindler's List\",\n",
       "   'release_year': 1993,\n",
       "   'return': 14.61,\n",
       "   'budget': 22000000.0,\n",
       "   'revenue': 321365567.0},\n",
       "  {'title': 'E.T. the Extra-Terrestrial',\n",
       "   'release_year': 1982,\n",
       "   'return': 75.52,\n",
       "   'budget': 10500000.0,\n",
       "   'revenue': 792965326.0},\n",
       "  {'title': 'Raiders of the Lost Ark',\n",
       "   'release_year': 1981,\n",
       "   'return': 21.66,\n",
       "   'budget': 18000000.0,\n",
       "   'revenue': 389925971.0},\n",
       "  {'title': 'Indiana Jones and the Last Crusade',\n",
       "   'release_year': 1989,\n",
       "   'return': 9.88,\n",
       "   'budget': 48000000.0,\n",
       "   'revenue': 474171806.0},\n",
       "  {'title': 'Jaws',\n",
       "   'release_year': 1975,\n",
       "   'return': 67.24,\n",
       "   'budget': 7000000.0,\n",
       "   'revenue': 470654000.0},\n",
       "  {'title': 'The Lost World: Jurassic Park',\n",
       "   'release_year': 1997,\n",
       "   'return': 3.14,\n",
       "   'budget': 73000000.0,\n",
       "   'revenue': 229074524.0},\n",
       "  {'title': 'Amistad',\n",
       "   'release_year': 1997,\n",
       "   'return': 2.06,\n",
       "   'budget': 36000000.0,\n",
       "   'revenue': 74000000.0},\n",
       "  {'title': 'Saving Private Ryan',\n",
       "   'release_year': 1998,\n",
       "   'return': 6.88,\n",
       "   'budget': 70000000.0,\n",
       "   'revenue': 481840909.0},\n",
       "  {'title': 'Indiana Jones and the Temple of Doom',\n",
       "   'release_year': 1984,\n",
       "   'return': 11.89,\n",
       "   'budget': 28000000.0,\n",
       "   'revenue': 333000000.0},\n",
       "  {'title': 'The Color Purple',\n",
       "   'release_year': 1985,\n",
       "   'return': 9.75,\n",
       "   'budget': 15000000.0,\n",
       "   'revenue': 146292009.0},\n",
       "  {'title': 'Close Encounters of the Third Kind',\n",
       "   'release_year': 1977,\n",
       "   'return': 15.19,\n",
       "   'budget': 20000000.0,\n",
       "   'revenue': 303788635.0},\n",
       "  {'title': 'Hook',\n",
       "   'release_year': 1991,\n",
       "   'return': 4.3,\n",
       "   'budget': 70000000.0,\n",
       "   'revenue': 300854823.0},\n",
       "  {'title': 'The Sugarland Express',\n",
       "   'release_year': 1974,\n",
       "   'return': 4.27,\n",
       "   'budget': 3000000.0,\n",
       "   'revenue': 12800000.0},\n",
       "  {'title': 'Empire of the Sun',\n",
       "   'release_year': 1987,\n",
       "   'return': 0.64,\n",
       "   'budget': 35000000.0,\n",
       "   'revenue': 22238696.0},\n",
       "  {'title': 'A.I. Artificial Intelligence',\n",
       "   'release_year': 2001,\n",
       "   'return': 2.36,\n",
       "   'budget': 100000000.0,\n",
       "   'revenue': 235926552.0},\n",
       "  {'title': 'Always',\n",
       "   'release_year': 1989,\n",
       "   'return': 2.39,\n",
       "   'budget': 31000000.0,\n",
       "   'revenue': 74134790.0},\n",
       "  {'title': 'Minority Report',\n",
       "   'release_year': 2002,\n",
       "   'return': 3.51,\n",
       "   'budget': 102000000.0,\n",
       "   'revenue': 358372926.0},\n",
       "  {'title': 'Catch Me If You Can',\n",
       "   'release_year': 2002,\n",
       "   'return': 6.77,\n",
       "   'budget': 52000000.0,\n",
       "   'revenue': 352114312.0},\n",
       "  {'title': '1941',\n",
       "   'release_year': 1979,\n",
       "   'return': 0.91,\n",
       "   'budget': 35000000.0,\n",
       "   'revenue': 31755742.0},\n",
       "  {'title': 'The Terminal',\n",
       "   'release_year': 2004,\n",
       "   'return': 3.66,\n",
       "   'budget': 60000000.0,\n",
       "   'revenue': 219417255.0},\n",
       "  {'title': 'Duel',\n",
       "   'release_year': 1972,\n",
       "   'return': 0.0,\n",
       "   'budget': 450000.0,\n",
       "   'revenue': 0.0},\n",
       "  {'title': 'Twilight Zone: The Movie',\n",
       "   'release_year': 1983,\n",
       "   'return': 2.95,\n",
       "   'budget': 10000000.0,\n",
       "   'revenue': 29450919.0},\n",
       "  {'title': 'War of the Worlds',\n",
       "   'release_year': 2005,\n",
       "   'return': 4.48,\n",
       "   'budget': 132000000.0,\n",
       "   'revenue': 591739379.0},\n",
       "  {'title': 'Munich',\n",
       "   'release_year': 2005,\n",
       "   'return': 1.86,\n",
       "   'budget': 70000000.0,\n",
       "   'revenue': 130358911.0},\n",
       "  {'title': 'Indiana Jones and the Kingdom of the Crystal Skull',\n",
       "   'release_year': 2008,\n",
       "   'return': 4.25,\n",
       "   'budget': 185000000.0,\n",
       "   'revenue': 786636033.0},\n",
       "  {'title': 'The Adventures of Tintin',\n",
       "   'release_year': 2011,\n",
       "   'return': 2.86,\n",
       "   'budget': 130000000.0,\n",
       "   'revenue': 371940071.0},\n",
       "  {'title': 'War Horse',\n",
       "   'release_year': 2011,\n",
       "   'return': 2.69,\n",
       "   'budget': 66000000.0,\n",
       "   'revenue': 177584879.0},\n",
       "  {'title': 'Lincoln',\n",
       "   'release_year': 2012,\n",
       "   'return': 4.24,\n",
       "   'budget': 65000000.0,\n",
       "   'revenue': 275293450.0},\n",
       "  {'title': 'Night Gallery',\n",
       "   'release_year': 1969,\n",
       "   'return': 0.0,\n",
       "   'budget': 0.0,\n",
       "   'revenue': 0.0},\n",
       "  {'title': 'Bridge of Spies',\n",
       "   'release_year': 2015,\n",
       "   'return': 4.14,\n",
       "   'budget': 40000000.0,\n",
       "   'revenue': 165478348.0},\n",
       "  {'title': 'The BFG',\n",
       "   'release_year': 2016,\n",
       "   'return': 1.31,\n",
       "   'budget': 140000000.0,\n",
       "   'revenue': 183345589.0},\n",
       "  {'title': 'Something Evil',\n",
       "   'release_year': 1972,\n",
       "   'return': 0.0,\n",
       "   'budget': 0.0,\n",
       "   'revenue': 0.0}]}"
      ]
     },
     "execution_count": 35,
     "metadata": {},
     "output_type": "execute_result"
    }
   ],
   "source": [
    "get_director(\"Ste venSpielberg.. \")"
   ]
  },
  {
   "attachments": {},
   "cell_type": "markdown",
   "metadata": {},
   "source": [
    "# EDA PARA EL 1."
   ]
  },
  {
   "cell_type": "code",
   "execution_count": 87,
   "metadata": {},
   "outputs": [],
   "source": [
    "import seaborn as sns\n",
    "import matplotlib.pyplot as plt"
   ]
  },
  {
   "cell_type": "code",
   "execution_count": 120,
   "metadata": {},
   "outputs": [
    {
     "data": {
      "image/png": "[encoded data removed]",
      "text/plain": [
       "<Figure size 640x480 with 1 Axes>"
      ]
     },
     "metadata": {},
     "output_type": "display_data"
    }
   ],
   "source": [
    "sns.set(context=\"notebook\")\n",
    "sns.scatterplot(df_movies, x=\"budget\", y=\"revenue\")\n",
    "plt.xlabel(\"Budget\")\n",
    "plt.ylabel(\"Revenue\")\n",
    "plt.title(\"Budget vs Revenue\")\n",
    "plt.xlim(0,15)\n",
    "plt.ylim(0, 20000000)\n",
    "plt.ticklabel_format(style='plain', axis='both')\n"
   ]
  }
 ],
 "metadata": {
  "kernelspec": {
   "display_name": "venv",
   "language": "python",
   "name": "python3"
  },
  "language_info": {
   "codemirror_mode": {
    "name": "ipython",
    "version": 3
   },
   "file_extension": ".py",
   "mimetype": "text/x-python",
   "name": "python",
   "nbconvert_exporter": "python",
   "pygments_lexer": "ipython3",
   "version": "3.10.11"
  },
  "orig_nbformat": 4
 },
 "nbformat": 4,
 "nbformat_minor": 2
}
