{
 "cells": [
  {
   "attachments": {},
   "cell_type": "markdown",
   "metadata": {},
   "source": [
    "# Importing Labraries"
   ]
  },
  {
   "cell_type": "code",
   "execution_count": 1,
   "metadata": {},
   "outputs": [
    {
     "data": {
      "text/plain": [
       "'es_ES'"
      ]
     },
     "execution_count": 1,
     "metadata": {},
     "output_type": "execute_result"
    }
   ],
   "source": [
    "import pandas as pd\n",
    "import numpy as np\n",
    "from unidecode import unidecode\n",
    "import re\n",
    "import locale\n",
    "locale.setlocale(locale.LC_TIME, 'es_ES') # setting a local configuration for dates values"
   ]
  },
  {
   "attachments": {},
   "cell_type": "markdown",
   "metadata": {},
   "source": [
    "# Functions"
   ]
  },
  {
   "attachments": {},
   "cell_type": "markdown",
   "metadata": {},
   "source": [
    "In this notebook we are going to build some functions to test the API."
   ]
  },
  {
   "cell_type": "code",
   "execution_count": 121,
   "metadata": {},
   "outputs": [],
   "source": [
    "df_movies = pd.read_csv(\"../processed_data/movies.csv\")\n",
    "df_cast = pd.read_csv(\"../processed_data/cast.csv\")\n",
    "df_crew = pd.read_csv(\"../processed_data/crew.csv\")\n",
    "actor_financial = pd.read_csv(\"../processed_data/actor_financial.csv\")\n",
    "director_financial = pd.read_csv(\"../processed_data/director_financial.csv\")"
   ]
  },
  {
   "attachments": {},
   "cell_type": "markdown",
   "metadata": {},
   "source": [
    "This transformations are present in many functions, we will execute them now so the function doesn't have to do it every time."
   ]
  },
  {
   "cell_type": "code",
   "execution_count": 122,
   "metadata": {},
   "outputs": [],
   "source": [
    "df_movies[\"transformed_title\"] = [x.lower().strip().replace(\" \", \"\") for x in df_movies[\"title\"]] # with pandas series, we need to use comprehension lists or apply()\n",
    "df_movies[\"transformed_title\"] = [unidecode(x) for x in df_movies[\"transformed_title\"]]\n",
    "df_movies[\"transformed_title\"] = [re.sub(r'[^\\w\\s]', '', x) for x in df_movies[\"transformed_title\"]]"
   ]
  },
  {
   "cell_type": "code",
   "execution_count": 123,
   "metadata": {},
   "outputs": [],
   "source": [
    "actor_financial[\"transformed_name\"] = [x.lower().strip().replace(\" \", \"\") for x in actor_financial[\"name\"]]  # with pandas series, we need to use comprehension lists or apply()\n",
    "actor_financial[\"transformed_name\"] = [unidecode(x) for x in actor_financial[\"transformed_name\"]]\n",
    "actor_financial[\"transformed_name\"] = [re.sub(r'[^\\w\\s]', '', x) for x in actor_financial[\"transformed_name\"]]  "
   ]
  },
  {
   "attachments": {},
   "cell_type": "markdown",
   "metadata": {},
   "source": [
    "## Amount of films by month"
   ]
  },
  {
   "cell_type": "code",
   "execution_count": 46,
   "metadata": {},
   "outputs": [],
   "source": [
    "def cantidad_filmaciones_mes(month: str):\n",
    "    if type(month) == str:\n",
    "        month = month.lower().strip().replace(\" \", \"\")\n",
    "        month = unidecode(month)  # delete accents\n",
    "        month = re.sub(r'[^\\w\\s]', '', month)  # delete special characters and punctuation marks\n",
    "        # '%B' complete name of the month, strftime is string format time, it allows to format date data to a desirable representation\n",
    "        # dt only works with pandas series that are datetime type\n",
    "        df_movies[\"release_month\"] = pd.to_datetime(df_movies[\"release_date\"]).dt.strftime('%B')\n",
    "        if month in df_movies[\"release_month\"].unique():\n",
    "            count_by_month = df_movies.groupby([\"release_month\"])[\"title\"].count()\n",
    "            return {month: count_by_month[month]}\n",
    "        else:\n",
    "            print(\"Entered value is not valid.\")\n",
    "    else:\n",
    "        print(\"Entered value is not valid.\")\n"
   ]
  },
  {
   "cell_type": "code",
   "execution_count": 47,
   "metadata": {},
   "outputs": [
    {
     "data": {
      "text/plain": [
       "{'abril': 3453}"
      ]
     },
     "execution_count": 47,
     "metadata": {},
     "output_type": "execute_result"
    }
   ],
   "source": [
    "cantidad_filmaciones_mes(\"+áBril\")"
   ]
  },
  {
   "cell_type": "code",
   "execution_count": 48,
   "metadata": {},
   "outputs": [
    {
     "data": {
      "text/plain": [
       "{'release_month': 'abril', 'title': 3453}"
      ]
     },
     "execution_count": 48,
     "metadata": {},
     "output_type": "execute_result"
    }
   ],
   "source": [
    "# other option to get a dictionary with the answer\n",
    "\n",
    "count_by_month = df_movies.groupby([\"release_month\"])[\"title\"].count().reset_index()\n",
    "index = (count_by_month[\"release_month\"] == \"abril\" ).idxmax()\n",
    "dict(count_by_month.loc[index, :])\n",
    " "
   ]
  },
  {
   "cell_type": "code",
   "execution_count": 5,
   "metadata": {},
   "outputs": [
    {
     "data": {
      "text/plain": [
       "release_month\n",
       "abril         3453\n",
       "agosto        3394\n",
       "diciembre     3784\n",
       "enero         5910\n",
       "febrero       3029\n",
       "julio         2640\n",
       "junio         3152\n",
       "marzo         3553\n",
       "mayo          3338\n",
       "noviembre     3661\n",
       "octubre       4613\n",
       "septiembre    4836\n",
       "Name: title, dtype: int64"
      ]
     },
     "execution_count": 5,
     "metadata": {},
     "output_type": "execute_result"
    }
   ],
   "source": [
    "df_movies[\"release_month\"] = pd.to_datetime(df_movies[\"release_date\"]).dt.strftime('%B') \n",
    "count_by_month = df_movies.groupby([\"release_month\"])[\"title\"].count()\n",
    "count_by_month"
   ]
  },
  {
   "attachments": {},
   "cell_type": "markdown",
   "metadata": {},
   "source": [
    "## Amount of films by day of the week."
   ]
  },
  {
   "cell_type": "code",
   "execution_count": 49,
   "metadata": {},
   "outputs": [],
   "source": [
    "def cantidad_filmaciones_dia(day: str):\n",
    "    if type(day) == str:\n",
    "        day = day.lower().strip().replace(\" \", \"\")\n",
    "        day = unidecode(day) # delete accents\n",
    "        day = re.sub(r'[^\\w\\s]', '', day) # delete special characters and punctuation marks\n",
    "        # dt only works with pandas series that are datetime type\n",
    "        # '%A' complete name of the day, strftime is string format time, it allows to format date data to a desirable representation\n",
    "        df_movies[\"release_day\"] = pd.to_datetime(df_movies[\"release_date\"]).dt.strftime('%A') \n",
    "        if day in df_movies[\"release_day\"].unique():\n",
    "            count_by_day = df_movies.groupby([\"release_day\"])[\"title\"].count()\n",
    "            return {day:count_by_day[day]}\n",
    "        else:\n",
    "            print(\"Entered value is not valid.\")\n",
    "    else:\n",
    "        print(\"Entered value is not valid.\")\n",
    "    "
   ]
  },
  {
   "cell_type": "code",
   "execution_count": 50,
   "metadata": {},
   "outputs": [
    {
     "data": {
      "text/plain": [
       "{'viernes': 13906}"
      ]
     },
     "execution_count": 50,
     "metadata": {},
     "output_type": "execute_result"
    }
   ],
   "source": [
    "cantidad_filmaciones_dia(\"Viérnes-\")"
   ]
  },
  {
   "cell_type": "code",
   "execution_count": 8,
   "metadata": {},
   "outputs": [
    {
     "data": {
      "text/plain": [
       "release_day\n",
       "domingo       3612\n",
       "jueves        7522\n",
       "lunes         3501\n",
       "martes        4640\n",
       "miércoles     7031\n",
       "sábado        5151\n",
       "viernes      13906\n",
       "Name: title, dtype: int64"
      ]
     },
     "execution_count": 8,
     "metadata": {},
     "output_type": "execute_result"
    }
   ],
   "source": [
    "df_movies[\"release_day\"] = pd.to_datetime(df_movies[\"release_date\"]).dt.strftime('%A') \n",
    "count_by_day = df_movies.groupby([\"release_day\"])[\"title\"].count()\n",
    "count_by_day "
   ]
  },
  {
   "attachments": {},
   "cell_type": "markdown",
   "metadata": {},
   "source": [
    "## Getting the popularity of a movie introducing the title."
   ]
  },
  {
   "attachments": {},
   "cell_type": "markdown",
   "metadata": {},
   "source": [
    "There is a situation with the movies that have to be adressed here, there are duplicates for some movies because there are released in different languages. This function will get the popularity using idxmax() to get the index according to the title. idxmax() will consider only the first occurrence."
   ]
  },
  {
   "cell_type": "code",
   "execution_count": 51,
   "metadata": {},
   "outputs": [
    {
     "data": {
      "text/html": [
       "<div>\n",
       "<style scoped>\n",
       "    .dataframe tbody tr th:only-of-type {\n",
       "        vertical-align: middle;\n",
       "    }\n",
       "\n",
       "    .dataframe tbody tr th {\n",
       "        vertical-align: top;\n",
       "    }\n",
       "\n",
       "    .dataframe thead th {\n",
       "        text-align: right;\n",
       "    }\n",
       "</style>\n",
       "<table border=\"1\" class=\"dataframe\">\n",
       "  <thead>\n",
       "    <tr style=\"text-align: right;\">\n",
       "      <th></th>\n",
       "      <th>budget</th>\n",
       "      <th>id</th>\n",
       "      <th>original_language</th>\n",
       "      <th>overview</th>\n",
       "      <th>popularity</th>\n",
       "      <th>release_date</th>\n",
       "      <th>revenue</th>\n",
       "      <th>runtime</th>\n",
       "      <th>status</th>\n",
       "      <th>title</th>\n",
       "      <th>...</th>\n",
       "      <th>vote_count</th>\n",
       "      <th>collection</th>\n",
       "      <th>genres_list</th>\n",
       "      <th>spoken_languages_list</th>\n",
       "      <th>production_companies_list</th>\n",
       "      <th>production_countries_list</th>\n",
       "      <th>release_year</th>\n",
       "      <th>return</th>\n",
       "      <th>release_month</th>\n",
       "      <th>release_day</th>\n",
       "    </tr>\n",
       "  </thead>\n",
       "  <tbody>\n",
       "    <tr>\n",
       "      <th>1159</th>\n",
       "      <td>350000.0</td>\n",
       "      <td>389</td>\n",
       "      <td>en</td>\n",
       "      <td>The defense and the prosecution have rested an...</td>\n",
       "      <td>16.503959</td>\n",
       "      <td>1957-03-25</td>\n",
       "      <td>1000000.0</td>\n",
       "      <td>96.0</td>\n",
       "      <td>Released</td>\n",
       "      <td>12 Angry Men</td>\n",
       "      <td>...</td>\n",
       "      <td>2130.0</td>\n",
       "      <td>NaN</td>\n",
       "      <td>['Drama']</td>\n",
       "      <td>['en']</td>\n",
       "      <td>['United Artists', 'Orion-Nova Productions']</td>\n",
       "      <td>['US']</td>\n",
       "      <td>1957</td>\n",
       "      <td>2.857143</td>\n",
       "      <td>marzo</td>\n",
       "      <td>lunes</td>\n",
       "    </tr>\n",
       "    <tr>\n",
       "      <th>15189</th>\n",
       "      <td>0.0</td>\n",
       "      <td>12219</td>\n",
       "      <td>en</td>\n",
       "      <td>During the trial of a man accused of his fathe...</td>\n",
       "      <td>3.679263</td>\n",
       "      <td>1997-08-17</td>\n",
       "      <td>0.0</td>\n",
       "      <td>117.0</td>\n",
       "      <td>Released</td>\n",
       "      <td>12 Angry Men</td>\n",
       "      <td>...</td>\n",
       "      <td>59.0</td>\n",
       "      <td>NaN</td>\n",
       "      <td>['Crime', 'Drama']</td>\n",
       "      <td>['en', 'hu', 'ru']</td>\n",
       "      <td>['MGM Television']</td>\n",
       "      <td>['US']</td>\n",
       "      <td>1997</td>\n",
       "      <td>0.000000</td>\n",
       "      <td>agosto</td>\n",
       "      <td>domingo</td>\n",
       "    </tr>\n",
       "  </tbody>\n",
       "</table>\n",
       "<p>2 rows × 21 columns</p>\n",
       "</div>"
      ],
      "text/plain": [
       "         budget     id original_language  \\\n",
       "1159   350000.0    389                en   \n",
       "15189       0.0  12219                en   \n",
       "\n",
       "                                                overview  popularity  \\\n",
       "1159   The defense and the prosecution have rested an...   16.503959   \n",
       "15189  During the trial of a man accused of his fathe...    3.679263   \n",
       "\n",
       "      release_date    revenue  runtime    status         title  ...  \\\n",
       "1159    1957-03-25  1000000.0     96.0  Released  12 Angry Men  ...   \n",
       "15189   1997-08-17        0.0    117.0  Released  12 Angry Men  ...   \n",
       "\n",
       "       vote_count  collection         genres_list spoken_languages_list  \\\n",
       "1159       2130.0         NaN           ['Drama']                ['en']   \n",
       "15189        59.0         NaN  ['Crime', 'Drama']    ['en', 'hu', 'ru']   \n",
       "\n",
       "                          production_companies_list production_countries_list  \\\n",
       "1159   ['United Artists', 'Orion-Nova Productions']                    ['US']   \n",
       "15189                            ['MGM Television']                    ['US']   \n",
       "\n",
       "      release_year    return  release_month release_day  \n",
       "1159          1957  2.857143          marzo       lunes  \n",
       "15189         1997  0.000000         agosto     domingo  \n",
       "\n",
       "[2 rows x 21 columns]"
      ]
     },
     "execution_count": 51,
     "metadata": {},
     "output_type": "execute_result"
    }
   ],
   "source": [
    "df_movies[df_movies[\"title\"] == \"12 Angry Men\"]"
   ]
  },
  {
   "cell_type": "code",
   "execution_count": 67,
   "metadata": {},
   "outputs": [],
   "source": [
    "def score_titulo(title: str):\n",
    "    if type(title) == str:\n",
    "        title = title.lower().strip().replace(\" \", \"\")\n",
    "        title = unidecode(title) # delete accents\n",
    "        title = re.sub(r'[^\\w\\s]', '', title) # delete special characters and punctuation marks\n",
    "        if title in df_movies[\"transformed_title\"].unique(): # there are repeated movies (different language)\n",
    "            index = (df_movies[\"transformed_title\"] == title).idxmax()\n",
    "            return {\"Title\":df_movies[\"title\"][index], \"Year\":df_movies[\"release_year\"][index], \"Popularity\":df_movies[\"popularity\"][index]} \n",
    "        else:\n",
    "            print(\"Entered value is not valid.\")\n",
    "    else:\n",
    "        print(\"Entered value is not valid.\")"
   ]
  },
  {
   "cell_type": "code",
   "execution_count": 68,
   "metadata": {},
   "outputs": [
    {
     "data": {
      "text/plain": [
       "{'Title': '12 Angry Men', 'Year': 1957, 'Popularity': 16.503959}"
      ]
     },
     "execution_count": 68,
     "metadata": {},
     "output_type": "execute_result"
    }
   ],
   "source": [
    "score_titulo(\"12angry, MEN\")"
   ]
  },
  {
   "attachments": {},
   "cell_type": "markdown",
   "metadata": {},
   "source": [
    "This function right here will group the title column and sum the popularity of every occurrence."
   ]
  },
  {
   "cell_type": "code",
   "execution_count": 69,
   "metadata": {},
   "outputs": [],
   "source": [
    "def score_titulo(title: str):\n",
    "    if type(title) == str:\n",
    "        title = title.lower().strip().replace(\" \", \"\")\n",
    "        title = unidecode(title)  # delete accents\n",
    "        title = re.sub(r'[^\\w\\s]', '', title)  # delete special characters and punctuation marks      \n",
    "        df_grouped = df_movies.groupby(\"transformed_title\")[\"popularity\"].sum()\n",
    "        if title in df_grouped.index: # values of the grouped column are the new index in a grouped df\n",
    "            normal_index = (df_movies[\"transformed_title\"] == title).idxmax() # index for non transformed and non grouped values\n",
    "            return {\"Title\": df_movies[\"title\"][normal_index], \"Year\": df_movies[\"release_year\"][normal_index], \"Popularity\" : df_grouped[title]} \n",
    "        else:\n",
    "            print(\"Entered value is not valid.\")\n",
    "    else:\n",
    "        print(\"Entered value is not valid.\")\n"
   ]
  },
  {
   "cell_type": "code",
   "execution_count": 70,
   "metadata": {},
   "outputs": [
    {
     "data": {
      "text/plain": [
       "{'Title': '12 Angry Men', 'Year': 1957, 'Popularity': 20.183221999999997}"
      ]
     },
     "execution_count": 70,
     "metadata": {},
     "output_type": "execute_result"
    }
   ],
   "source": [
    "score_titulo(\"12angry MEN\")"
   ]
  },
  {
   "attachments": {},
   "cell_type": "markdown",
   "metadata": {},
   "source": [
    "## Getting total votes and average vote of a movie."
   ]
  },
  {
   "attachments": {},
   "cell_type": "markdown",
   "metadata": {},
   "source": [
    "Here we have to deal with same situation of the previous function. This is the solution usig idxmax()."
   ]
  },
  {
   "cell_type": "code",
   "execution_count": 72,
   "metadata": {},
   "outputs": [],
   "source": [
    "def votos_titulo(title: str):\n",
    "    if type(title) == str:\n",
    "        title = title.lower().strip().replace(\" \", \"\")\n",
    "        title = unidecode(title) # delete accents\n",
    "        title = re.sub(r'[^\\w\\s]', '', title) # delete special characters and punctuation marks\n",
    "        if title in df_movies[\"transformed_title\"].unique(): # there are repeated movies (different language) \n",
    "            index = (df_movies[\"transformed_title\"] == title).idxmax()\n",
    "            if df_movies[\"vote_count\"][index] >= 2000:\n",
    "                return {\"Title\": df_movies[\"title\"][index], \"Year\": df_movies[\"release_year\"][index], \"Total votes\": df_movies[\"vote_count\"][index], \"Average vote\": df_movies[\"vote_average\"][index]}\n",
    "            else:\n",
    "                print(\"Movie must have at least 2000 votes\")\n",
    "        else:\n",
    "            print(\"Entered value is not valid.\")\n",
    "    else:\n",
    "        print(\"Entered value is not valid.\")"
   ]
  },
  {
   "cell_type": "code",
   "execution_count": 73,
   "metadata": {},
   "outputs": [
    {
     "data": {
      "text/plain": [
       "{'Title': '12 Angry Men',\n",
       " 'Year': 1957,\n",
       " 'Total votes': 2130.0,\n",
       " 'Average vote': 8.2}"
      ]
     },
     "execution_count": 73,
     "metadata": {},
     "output_type": "execute_result"
    }
   ],
   "source": [
    "votos_titulo(\"12anGRY mén \")"
   ]
  },
  {
   "cell_type": "code",
   "execution_count": 74,
   "metadata": {},
   "outputs": [
    {
     "name": "stdout",
     "output_type": "stream",
     "text": [
      "Movie must have at least 2000 votes\n"
     ]
    }
   ],
   "source": [
    "votos_titulo(\"moonlight\")"
   ]
  },
  {
   "cell_type": "code",
   "execution_count": 80,
   "metadata": {},
   "outputs": [
    {
     "data": {
      "text/html": [
       "<div>\n",
       "<style scoped>\n",
       "    .dataframe tbody tr th:only-of-type {\n",
       "        vertical-align: middle;\n",
       "    }\n",
       "\n",
       "    .dataframe tbody tr th {\n",
       "        vertical-align: top;\n",
       "    }\n",
       "\n",
       "    .dataframe thead th {\n",
       "        text-align: right;\n",
       "    }\n",
       "</style>\n",
       "<table border=\"1\" class=\"dataframe\">\n",
       "  <thead>\n",
       "    <tr style=\"text-align: right;\">\n",
       "      <th></th>\n",
       "      <th>budget</th>\n",
       "      <th>id</th>\n",
       "      <th>original_language</th>\n",
       "      <th>overview</th>\n",
       "      <th>popularity</th>\n",
       "      <th>release_date</th>\n",
       "      <th>revenue</th>\n",
       "      <th>runtime</th>\n",
       "      <th>status</th>\n",
       "      <th>title</th>\n",
       "      <th>vote_average</th>\n",
       "      <th>vote_count</th>\n",
       "      <th>collection</th>\n",
       "      <th>genres_list</th>\n",
       "      <th>spoken_languages_list</th>\n",
       "      <th>production_companies_list</th>\n",
       "      <th>production_countries_list</th>\n",
       "      <th>release_year</th>\n",
       "      <th>return</th>\n",
       "    </tr>\n",
       "  </thead>\n",
       "  <tbody>\n",
       "    <tr>\n",
       "      <th>39890</th>\n",
       "      <td>4000000.0</td>\n",
       "      <td>376867</td>\n",
       "      <td>en</td>\n",
       "      <td>The tender, heartbreaking story of a young man...</td>\n",
       "      <td>14.171675</td>\n",
       "      <td>2016-10-21</td>\n",
       "      <td>65046687.0</td>\n",
       "      <td>111.0</td>\n",
       "      <td>Released</td>\n",
       "      <td>Moonlight</td>\n",
       "      <td>7.3</td>\n",
       "      <td>1831.0</td>\n",
       "      <td>NaN</td>\n",
       "      <td>['Drama']</td>\n",
       "      <td>['en']</td>\n",
       "      <td>['Plan B Entertainment', 'Upload Films', 'A24'...</td>\n",
       "      <td>['US']</td>\n",
       "      <td>2016</td>\n",
       "      <td>16.261672</td>\n",
       "    </tr>\n",
       "  </tbody>\n",
       "</table>\n",
       "</div>"
      ],
      "text/plain": [
       "          budget      id original_language  \\\n",
       "39890  4000000.0  376867                en   \n",
       "\n",
       "                                                overview  popularity  \\\n",
       "39890  The tender, heartbreaking story of a young man...   14.171675   \n",
       "\n",
       "      release_date     revenue  runtime    status      title  vote_average  \\\n",
       "39890   2016-10-21  65046687.0    111.0  Released  Moonlight           7.3   \n",
       "\n",
       "       vote_count collection genres_list spoken_languages_list  \\\n",
       "39890      1831.0        NaN   ['Drama']                ['en']   \n",
       "\n",
       "                               production_companies_list  \\\n",
       "39890  ['Plan B Entertainment', 'Upload Films', 'A24'...   \n",
       "\n",
       "      production_countries_list  release_year     return  \n",
       "39890                    ['US']          2016  16.261672  "
      ]
     },
     "execution_count": 80,
     "metadata": {},
     "output_type": "execute_result"
    }
   ],
   "source": [
    "df_movies[df_movies[\"title\"] == \"Moonlight\"] # checking the vote_count"
   ]
  },
  {
   "attachments": {},
   "cell_type": "markdown",
   "metadata": {},
   "source": [
    "And this is the solution considering all the occurrences and using aggregation functions."
   ]
  },
  {
   "cell_type": "code",
   "execution_count": 75,
   "metadata": {},
   "outputs": [],
   "source": [
    "def votos_titulo(title: str):\n",
    "    if type(title) == str:\n",
    "        title = title.lower().strip().replace(\" \", \"\")\n",
    "        title = unidecode(title)  # delete accents\n",
    "        title = re.sub(r'[^\\w\\s]', '', title)  # delete special characters and punctuation marks\n",
    "        df_grouped_total = df_movies.groupby(\"transformed_title\")[\"vote_count\"].sum()\n",
    "        df_grouped_average = df_movies.groupby(\"transformed_title\")[\"vote_average\"].mean()\n",
    "        if title in df_grouped_average.index: # values of the grouped column are the new index in a grouped df\n",
    "             if df_grouped_total[title] >= 2000:\n",
    "                normal_index = (df_movies[\"transformed_title\"] == title).idxmax() # index for non transformed and non grouped values\n",
    "                return {\"Title\": df_movies[\"title\"][normal_index], \"Year\": df_movies[\"release_year\"][normal_index], \"Total Votes\" : df_grouped_total[title], \"Average Vote\" : df_grouped_average[title]}\n",
    "             else:\n",
    "                 print(\"Movie must have at least 2000 votes\")\n",
    "        else:\n",
    "            print(\"Entered value is not valid.\")    \n",
    "    else:\n",
    "        print(\"Entered value is not valid.\")"
   ]
  },
  {
   "cell_type": "code",
   "execution_count": 76,
   "metadata": {},
   "outputs": [
    {
     "name": "stdout",
     "output_type": "stream",
     "text": [
      "Movie must have at least 2000 votes\n"
     ]
    }
   ],
   "source": [
    "votos_titulo(\"moonlight\")"
   ]
  },
  {
   "cell_type": "code",
   "execution_count": 77,
   "metadata": {},
   "outputs": [
    {
     "data": {
      "text/plain": [
       "{'Title': '12 Angry Men',\n",
       " 'Year': 1957,\n",
       " 'Total Votes': 2189.0,\n",
       " 'Average Vote': 7.85}"
      ]
     },
     "execution_count": 77,
     "metadata": {},
     "output_type": "execute_result"
    }
   ],
   "source": [
    "votos_titulo(\"12 angry, men\")"
   ]
  },
  {
   "attachments": {},
   "cell_type": "markdown",
   "metadata": {},
   "source": [
    "## Getting return and number of movies of an actor."
   ]
  },
  {
   "cell_type": "code",
   "execution_count": 126,
   "metadata": {},
   "outputs": [],
   "source": [
    "def get_actor(name):\n",
    "    if type(name) == str:\n",
    "        name = name.lower().strip().replace(\" \", \"\")\n",
    "        name = unidecode(name)  # delete accents\n",
    "        name = re.sub(r'[^\\w\\s]', '', name)  # delete special characters and punctuation marks\n",
    "        if name in actor_financial[\"transformed_name\"].unique():\n",
    "            index = (actor_financial[\"transformed_name\"] == name).idxmax()\n",
    "            return {'actor':actor_financial[\"name\"][index], 'films':actor_financial[\"films\"][index], 'total return':actor_financial[\"total_return\"][index], 'average return':actor_financial[\"average_return\"][index]}        \n",
    "        else:\n",
    "            print(\"Entered value is not valid.\")\n",
    "    print(\"Entered value is not valid.\")\n",
    "   "
   ]
  },
  {
   "cell_type": "code",
   "execution_count": 127,
   "metadata": {},
   "outputs": [
    {
     "data": {
      "text/plain": [
       "{'actor': 'Johnny Depp',\n",
       " 'films': 69,\n",
       " 'total return': 2.7742222312961227,\n",
       " 'average return': 2.02}"
      ]
     },
     "execution_count": 127,
     "metadata": {},
     "output_type": "execute_result"
    }
   ],
   "source": [
    "get_actor(\"Johnnydépp\")"
   ]
  },
  {
   "attachments": {},
   "cell_type": "markdown",
   "metadata": {},
   "source": [
    "\n",
    "def get_director( nombre_director ): Se ingresa el nombre de un director que se encuentre dentro de un dataset debiendo devolver el éxito del mismo medido a través del retorno. Además, deberá devolver el nombre de cada película con la fecha de lanzamiento, retorno individual, costo y ganancia de la misma."
   ]
  },
  {
   "cell_type": "code",
   "execution_count": 126,
   "metadata": {},
   "outputs": [],
   "source": [
    "director_df = df_crew[df_crew[\"job\"] == \"Director\"]"
   ]
  },
  {
   "cell_type": "code",
   "execution_count": 127,
   "metadata": {},
   "outputs": [],
   "source": [
    "join_director = df_movies.merge(director_df[[\"id\", \"name\"]], how=\"left\", on=\"id\") \n",
    "budget_director = join_director.groupby(\"name\")[\"budget\"].sum().sort_values(ascending=False).reset_index()\n",
    "revenue_director = join_director.groupby(\"name\")[\"revenue\"].sum().sort_values(ascending=False).reset_index()\n",
    "final_join = budget_director.merge(revenue_director, how=\"left\", on=\"name\")"
   ]
  },
  {
   "cell_type": "code",
   "execution_count": 129,
   "metadata": {},
   "outputs": [
    {
     "data": {
      "text/html": [
       "<div>\n",
       "<style scoped>\n",
       "    .dataframe tbody tr th:only-of-type {\n",
       "        vertical-align: middle;\n",
       "    }\n",
       "\n",
       "    .dataframe tbody tr th {\n",
       "        vertical-align: top;\n",
       "    }\n",
       "\n",
       "    .dataframe thead th {\n",
       "        text-align: right;\n",
       "    }\n",
       "</style>\n",
       "<table border=\"1\" class=\"dataframe\">\n",
       "  <thead>\n",
       "    <tr style=\"text-align: right;\">\n",
       "      <th></th>\n",
       "      <th>name</th>\n",
       "      <th>budget</th>\n",
       "      <th>revenue</th>\n",
       "      <th>return</th>\n",
       "    </tr>\n",
       "  </thead>\n",
       "  <tbody>\n",
       "    <tr>\n",
       "      <th>0</th>\n",
       "      <td>Steven Spielberg</td>\n",
       "      <td>1.736950e+09</td>\n",
       "      <td>9.256621e+09</td>\n",
       "      <td>5.329239</td>\n",
       "    </tr>\n",
       "    <tr>\n",
       "      <th>1</th>\n",
       "      <td>Michael Bay</td>\n",
       "      <td>1.670000e+09</td>\n",
       "      <td>6.437467e+09</td>\n",
       "      <td>3.854771</td>\n",
       "    </tr>\n",
       "    <tr>\n",
       "      <th>2</th>\n",
       "      <td>Ridley Scott</td>\n",
       "      <td>1.641900e+09</td>\n",
       "      <td>3.917529e+09</td>\n",
       "      <td>2.385973</td>\n",
       "    </tr>\n",
       "    <tr>\n",
       "      <th>3</th>\n",
       "      <td>Peter Jackson</td>\n",
       "      <td>1.327426e+09</td>\n",
       "      <td>6.528245e+09</td>\n",
       "      <td>4.917974</td>\n",
       "    </tr>\n",
       "    <tr>\n",
       "      <th>4</th>\n",
       "      <td>Ron Howard</td>\n",
       "      <td>1.285000e+09</td>\n",
       "      <td>3.714152e+09</td>\n",
       "      <td>2.890391</td>\n",
       "    </tr>\n",
       "    <tr>\n",
       "      <th>...</th>\n",
       "      <td>...</td>\n",
       "      <td>...</td>\n",
       "      <td>...</td>\n",
       "      <td>...</td>\n",
       "    </tr>\n",
       "    <tr>\n",
       "      <th>19707</th>\n",
       "      <td>Ivano De Matteo</td>\n",
       "      <td>0.000000e+00</td>\n",
       "      <td>0.000000e+00</td>\n",
       "      <td>0.000000</td>\n",
       "    </tr>\n",
       "    <tr>\n",
       "      <th>19708</th>\n",
       "      <td>Ivars Seleckis</td>\n",
       "      <td>0.000000e+00</td>\n",
       "      <td>0.000000e+00</td>\n",
       "      <td>0.000000</td>\n",
       "    </tr>\n",
       "    <tr>\n",
       "      <th>19709</th>\n",
       "      <td>Ivica Matić</td>\n",
       "      <td>0.000000e+00</td>\n",
       "      <td>0.000000e+00</td>\n",
       "      <td>0.000000</td>\n",
       "    </tr>\n",
       "    <tr>\n",
       "      <th>19710</th>\n",
       "      <td>Ivo Barnabò Micheli</td>\n",
       "      <td>0.000000e+00</td>\n",
       "      <td>0.000000e+00</td>\n",
       "      <td>0.000000</td>\n",
       "    </tr>\n",
       "    <tr>\n",
       "      <th>19711</th>\n",
       "      <td>진모영</td>\n",
       "      <td>0.000000e+00</td>\n",
       "      <td>0.000000e+00</td>\n",
       "      <td>0.000000</td>\n",
       "    </tr>\n",
       "  </tbody>\n",
       "</table>\n",
       "<p>19712 rows × 4 columns</p>\n",
       "</div>"
      ],
      "text/plain": [
       "                      name        budget       revenue    return\n",
       "0         Steven Spielberg  1.736950e+09  9.256621e+09  5.329239\n",
       "1              Michael Bay  1.670000e+09  6.437467e+09  3.854771\n",
       "2             Ridley Scott  1.641900e+09  3.917529e+09  2.385973\n",
       "3            Peter Jackson  1.327426e+09  6.528245e+09  4.917974\n",
       "4               Ron Howard  1.285000e+09  3.714152e+09  2.890391\n",
       "...                    ...           ...           ...       ...\n",
       "19707      Ivano De Matteo  0.000000e+00  0.000000e+00  0.000000\n",
       "19708       Ivars Seleckis  0.000000e+00  0.000000e+00  0.000000\n",
       "19709          Ivica Matić  0.000000e+00  0.000000e+00  0.000000\n",
       "19710  Ivo Barnabò Micheli  0.000000e+00  0.000000e+00  0.000000\n",
       "19711                  진모영  0.000000e+00  0.000000e+00  0.000000\n",
       "\n",
       "[19712 rows x 4 columns]"
      ]
     },
     "execution_count": 129,
     "metadata": {},
     "output_type": "execute_result"
    }
   ],
   "source": [
    "final_join[\"return\"] = np.where(final_join[\"budget\"] != 0, final_join[\"revenue\"] / final_join[\"budget\"], 0)\n",
    "final_join"
   ]
  },
  {
   "cell_type": "code",
   "execution_count": 131,
   "metadata": {},
   "outputs": [
    {
     "data": {
      "text/html": [
       "<div>\n",
       "<style scoped>\n",
       "    .dataframe tbody tr th:only-of-type {\n",
       "        vertical-align: middle;\n",
       "    }\n",
       "\n",
       "    .dataframe tbody tr th {\n",
       "        vertical-align: top;\n",
       "    }\n",
       "\n",
       "    .dataframe thead th {\n",
       "        text-align: right;\n",
       "    }\n",
       "</style>\n",
       "<table border=\"1\" class=\"dataframe\">\n",
       "  <thead>\n",
       "    <tr style=\"text-align: right;\">\n",
       "      <th></th>\n",
       "      <th>title</th>\n",
       "      <th>release_year</th>\n",
       "      <th>return</th>\n",
       "      <th>budget</th>\n",
       "      <th>revenue</th>\n",
       "      <th>name</th>\n",
       "    </tr>\n",
       "  </thead>\n",
       "  <tbody>\n",
       "    <tr>\n",
       "      <th>0</th>\n",
       "      <td>Toy Story</td>\n",
       "      <td>1995</td>\n",
       "      <td>12.451801</td>\n",
       "      <td>30000000.0</td>\n",
       "      <td>373554033.0</td>\n",
       "      <td>John Lasseter</td>\n",
       "    </tr>\n",
       "    <tr>\n",
       "      <th>1</th>\n",
       "      <td>Jumanji</td>\n",
       "      <td>1995</td>\n",
       "      <td>4.043035</td>\n",
       "      <td>65000000.0</td>\n",
       "      <td>262797249.0</td>\n",
       "      <td>Joe Johnston</td>\n",
       "    </tr>\n",
       "    <tr>\n",
       "      <th>2</th>\n",
       "      <td>Grumpier Old Men</td>\n",
       "      <td>1995</td>\n",
       "      <td>0.000000</td>\n",
       "      <td>0.0</td>\n",
       "      <td>0.0</td>\n",
       "      <td>Howard Deutch</td>\n",
       "    </tr>\n",
       "    <tr>\n",
       "      <th>3</th>\n",
       "      <td>Waiting to Exhale</td>\n",
       "      <td>1995</td>\n",
       "      <td>5.090760</td>\n",
       "      <td>16000000.0</td>\n",
       "      <td>81452156.0</td>\n",
       "      <td>Forest Whitaker</td>\n",
       "    </tr>\n",
       "    <tr>\n",
       "      <th>4</th>\n",
       "      <td>Father of the Bride Part II</td>\n",
       "      <td>1995</td>\n",
       "      <td>0.000000</td>\n",
       "      <td>0.0</td>\n",
       "      <td>76578911.0</td>\n",
       "      <td>Charles Shyer</td>\n",
       "    </tr>\n",
       "    <tr>\n",
       "      <th>...</th>\n",
       "      <td>...</td>\n",
       "      <td>...</td>\n",
       "      <td>...</td>\n",
       "      <td>...</td>\n",
       "      <td>...</td>\n",
       "      <td>...</td>\n",
       "    </tr>\n",
       "    <tr>\n",
       "      <th>49810</th>\n",
       "      <td>Robin Hood</td>\n",
       "      <td>1991</td>\n",
       "      <td>0.000000</td>\n",
       "      <td>0.0</td>\n",
       "      <td>0.0</td>\n",
       "      <td>John Irvin</td>\n",
       "    </tr>\n",
       "    <tr>\n",
       "      <th>49811</th>\n",
       "      <td>Century of Birthing</td>\n",
       "      <td>2011</td>\n",
       "      <td>0.000000</td>\n",
       "      <td>0.0</td>\n",
       "      <td>0.0</td>\n",
       "      <td>Lav Diaz</td>\n",
       "    </tr>\n",
       "    <tr>\n",
       "      <th>49812</th>\n",
       "      <td>Betrayal</td>\n",
       "      <td>2003</td>\n",
       "      <td>0.000000</td>\n",
       "      <td>0.0</td>\n",
       "      <td>0.0</td>\n",
       "      <td>Mark L. Lester</td>\n",
       "    </tr>\n",
       "    <tr>\n",
       "      <th>49813</th>\n",
       "      <td>Satan Triumphant</td>\n",
       "      <td>1917</td>\n",
       "      <td>0.000000</td>\n",
       "      <td>0.0</td>\n",
       "      <td>0.0</td>\n",
       "      <td>Yakov Protazanov</td>\n",
       "    </tr>\n",
       "    <tr>\n",
       "      <th>49814</th>\n",
       "      <td>Queerama</td>\n",
       "      <td>2017</td>\n",
       "      <td>0.000000</td>\n",
       "      <td>0.0</td>\n",
       "      <td>0.0</td>\n",
       "      <td>Daisy Asquith</td>\n",
       "    </tr>\n",
       "  </tbody>\n",
       "</table>\n",
       "<p>49815 rows × 6 columns</p>\n",
       "</div>"
      ],
      "text/plain": [
       "                             title  release_year     return      budget  \\\n",
       "0                        Toy Story          1995  12.451801  30000000.0   \n",
       "1                          Jumanji          1995   4.043035  65000000.0   \n",
       "2                 Grumpier Old Men          1995   0.000000         0.0   \n",
       "3                Waiting to Exhale          1995   5.090760  16000000.0   \n",
       "4      Father of the Bride Part II          1995   0.000000         0.0   \n",
       "...                            ...           ...        ...         ...   \n",
       "49810                   Robin Hood          1991   0.000000         0.0   \n",
       "49811          Century of Birthing          2011   0.000000         0.0   \n",
       "49812                     Betrayal          2003   0.000000         0.0   \n",
       "49813             Satan Triumphant          1917   0.000000         0.0   \n",
       "49814                     Queerama          2017   0.000000         0.0   \n",
       "\n",
       "           revenue              name  \n",
       "0      373554033.0     John Lasseter  \n",
       "1      262797249.0      Joe Johnston  \n",
       "2              0.0     Howard Deutch  \n",
       "3       81452156.0   Forest Whitaker  \n",
       "4       76578911.0     Charles Shyer  \n",
       "...            ...               ...  \n",
       "49810          0.0        John Irvin  \n",
       "49811          0.0          Lav Diaz  \n",
       "49812          0.0    Mark L. Lester  \n",
       "49813          0.0  Yakov Protazanov  \n",
       "49814          0.0     Daisy Asquith  \n",
       "\n",
       "[49815 rows x 6 columns]"
      ]
     },
     "execution_count": 131,
     "metadata": {},
     "output_type": "execute_result"
    }
   ],
   "source": [
    "chosen_columms = [\"title\", \"release_year\", \"return\", \"budget\", \"revenue\", \"name\"]\n",
    "output_df = join_director[chosen_columms]\n",
    "output_df"
   ]
  },
  {
   "cell_type": "code",
   "execution_count": 139,
   "metadata": {},
   "outputs": [
    {
     "data": {
      "text/html": [
       "<div>\n",
       "<style scoped>\n",
       "    .dataframe tbody tr th:only-of-type {\n",
       "        vertical-align: middle;\n",
       "    }\n",
       "\n",
       "    .dataframe tbody tr th {\n",
       "        vertical-align: top;\n",
       "    }\n",
       "\n",
       "    .dataframe thead th {\n",
       "        text-align: right;\n",
       "    }\n",
       "</style>\n",
       "<table border=\"1\" class=\"dataframe\">\n",
       "  <thead>\n",
       "    <tr style=\"text-align: right;\">\n",
       "      <th></th>\n",
       "      <th>title</th>\n",
       "      <th>release_year</th>\n",
       "      <th>return</th>\n",
       "      <th>budget</th>\n",
       "      <th>revenue</th>\n",
       "    </tr>\n",
       "  </thead>\n",
       "  <tbody>\n",
       "    <tr>\n",
       "      <th>492</th>\n",
       "      <td>Jurassic Park</td>\n",
       "      <td>1993</td>\n",
       "      <td>14.604762</td>\n",
       "      <td>63000000.0</td>\n",
       "      <td>920100000.0</td>\n",
       "    </tr>\n",
       "    <tr>\n",
       "      <th>542</th>\n",
       "      <td>Schindler's List</td>\n",
       "      <td>1993</td>\n",
       "      <td>14.607526</td>\n",
       "      <td>22000000.0</td>\n",
       "      <td>321365567.0</td>\n",
       "    </tr>\n",
       "    <tr>\n",
       "      <th>1126</th>\n",
       "      <td>E.T. the Extra-Terrestrial</td>\n",
       "      <td>1982</td>\n",
       "      <td>75.520507</td>\n",
       "      <td>10500000.0</td>\n",
       "      <td>792965326.0</td>\n",
       "    </tr>\n",
       "    <tr>\n",
       "      <th>1227</th>\n",
       "      <td>Raiders of the Lost Ark</td>\n",
       "      <td>1981</td>\n",
       "      <td>21.662554</td>\n",
       "      <td>18000000.0</td>\n",
       "      <td>389925971.0</td>\n",
       "    </tr>\n",
       "    <tr>\n",
       "      <th>1328</th>\n",
       "      <td>Indiana Jones and the Last Crusade</td>\n",
       "      <td>1989</td>\n",
       "      <td>9.878579</td>\n",
       "      <td>48000000.0</td>\n",
       "      <td>474171806.0</td>\n",
       "    </tr>\n",
       "    <tr>\n",
       "      <th>1425</th>\n",
       "      <td>Jaws</td>\n",
       "      <td>1975</td>\n",
       "      <td>67.236286</td>\n",
       "      <td>7000000.0</td>\n",
       "      <td>470654000.0</td>\n",
       "    </tr>\n",
       "    <tr>\n",
       "      <th>1568</th>\n",
       "      <td>The Lost World: Jurassic Park</td>\n",
       "      <td>1997</td>\n",
       "      <td>3.138007</td>\n",
       "      <td>73000000.0</td>\n",
       "      <td>229074524.0</td>\n",
       "    </tr>\n",
       "    <tr>\n",
       "      <th>1711</th>\n",
       "      <td>Amistad</td>\n",
       "      <td>1997</td>\n",
       "      <td>2.055556</td>\n",
       "      <td>36000000.0</td>\n",
       "      <td>74000000.0</td>\n",
       "    </tr>\n",
       "    <tr>\n",
       "      <th>2033</th>\n",
       "      <td>Saving Private Ryan</td>\n",
       "      <td>1998</td>\n",
       "      <td>6.883442</td>\n",
       "      <td>70000000.0</td>\n",
       "      <td>481840909.0</td>\n",
       "    </tr>\n",
       "    <tr>\n",
       "      <th>2140</th>\n",
       "      <td>Indiana Jones and the Temple of Doom</td>\n",
       "      <td>1984</td>\n",
       "      <td>11.892857</td>\n",
       "      <td>28000000.0</td>\n",
       "      <td>333000000.0</td>\n",
       "    </tr>\n",
       "    <tr>\n",
       "      <th>2786</th>\n",
       "      <td>The Color Purple</td>\n",
       "      <td>1985</td>\n",
       "      <td>9.752801</td>\n",
       "      <td>15000000.0</td>\n",
       "      <td>146292009.0</td>\n",
       "    </tr>\n",
       "    <tr>\n",
       "      <th>3570</th>\n",
       "      <td>Close Encounters of the Third Kind</td>\n",
       "      <td>1977</td>\n",
       "      <td>15.189432</td>\n",
       "      <td>20000000.0</td>\n",
       "      <td>303788635.0</td>\n",
       "    </tr>\n",
       "    <tr>\n",
       "      <th>3589</th>\n",
       "      <td>Hook</td>\n",
       "      <td>1991</td>\n",
       "      <td>4.297926</td>\n",
       "      <td>70000000.0</td>\n",
       "      <td>300854823.0</td>\n",
       "    </tr>\n",
       "    <tr>\n",
       "      <th>3850</th>\n",
       "      <td>The Sugarland Express</td>\n",
       "      <td>1974</td>\n",
       "      <td>4.266667</td>\n",
       "      <td>3000000.0</td>\n",
       "      <td>12800000.0</td>\n",
       "    </tr>\n",
       "    <tr>\n",
       "      <th>4241</th>\n",
       "      <td>Empire of the Sun</td>\n",
       "      <td>1987</td>\n",
       "      <td>0.635391</td>\n",
       "      <td>35000000.0</td>\n",
       "      <td>22238696.0</td>\n",
       "    </tr>\n",
       "    <tr>\n",
       "      <th>4524</th>\n",
       "      <td>A.I. Artificial Intelligence</td>\n",
       "      <td>2001</td>\n",
       "      <td>2.359266</td>\n",
       "      <td>100000000.0</td>\n",
       "      <td>235926552.0</td>\n",
       "    </tr>\n",
       "    <tr>\n",
       "      <th>4725</th>\n",
       "      <td>Always</td>\n",
       "      <td>1989</td>\n",
       "      <td>2.391445</td>\n",
       "      <td>31000000.0</td>\n",
       "      <td>74134790.0</td>\n",
       "    </tr>\n",
       "    <tr>\n",
       "      <th>5639</th>\n",
       "      <td>Minority Report</td>\n",
       "      <td>2002</td>\n",
       "      <td>3.513460</td>\n",
       "      <td>102000000.0</td>\n",
       "      <td>358372926.0</td>\n",
       "    </tr>\n",
       "    <tr>\n",
       "      <th>6212</th>\n",
       "      <td>Catch Me If You Can</td>\n",
       "      <td>2002</td>\n",
       "      <td>6.771429</td>\n",
       "      <td>52000000.0</td>\n",
       "      <td>352114312.0</td>\n",
       "    </tr>\n",
       "    <tr>\n",
       "      <th>7379</th>\n",
       "      <td>1941</td>\n",
       "      <td>1979</td>\n",
       "      <td>0.907307</td>\n",
       "      <td>35000000.0</td>\n",
       "      <td>31755742.0</td>\n",
       "    </tr>\n",
       "    <tr>\n",
       "      <th>8323</th>\n",
       "      <td>The Terminal</td>\n",
       "      <td>2004</td>\n",
       "      <td>3.656954</td>\n",
       "      <td>60000000.0</td>\n",
       "      <td>219417255.0</td>\n",
       "    </tr>\n",
       "    <tr>\n",
       "      <th>9212</th>\n",
       "      <td>Duel</td>\n",
       "      <td>1972</td>\n",
       "      <td>0.000000</td>\n",
       "      <td>450000.0</td>\n",
       "      <td>0.0</td>\n",
       "    </tr>\n",
       "    <tr>\n",
       "      <th>9386</th>\n",
       "      <td>Twilight Zone: The Movie</td>\n",
       "      <td>1983</td>\n",
       "      <td>2.945092</td>\n",
       "      <td>10000000.0</td>\n",
       "      <td>29450919.0</td>\n",
       "    </tr>\n",
       "    <tr>\n",
       "      <th>10833</th>\n",
       "      <td>War of the Worlds</td>\n",
       "      <td>2005</td>\n",
       "      <td>4.482874</td>\n",
       "      <td>132000000.0</td>\n",
       "      <td>591739379.0</td>\n",
       "    </tr>\n",
       "    <tr>\n",
       "      <th>11334</th>\n",
       "      <td>Munich</td>\n",
       "      <td>2005</td>\n",
       "      <td>1.862270</td>\n",
       "      <td>70000000.0</td>\n",
       "      <td>130358911.0</td>\n",
       "    </tr>\n",
       "    <tr>\n",
       "      <th>13512</th>\n",
       "      <td>Indiana Jones and the Kingdom of the Crystal S...</td>\n",
       "      <td>2008</td>\n",
       "      <td>4.252087</td>\n",
       "      <td>185000000.0</td>\n",
       "      <td>786636033.0</td>\n",
       "    </tr>\n",
       "    <tr>\n",
       "      <th>19558</th>\n",
       "      <td>The Adventures of Tintin</td>\n",
       "      <td>2011</td>\n",
       "      <td>2.861077</td>\n",
       "      <td>130000000.0</td>\n",
       "      <td>371940071.0</td>\n",
       "    </tr>\n",
       "    <tr>\n",
       "      <th>19647</th>\n",
       "      <td>War Horse</td>\n",
       "      <td>2011</td>\n",
       "      <td>2.690680</td>\n",
       "      <td>66000000.0</td>\n",
       "      <td>177584879.0</td>\n",
       "    </tr>\n",
       "    <tr>\n",
       "      <th>21498</th>\n",
       "      <td>Lincoln</td>\n",
       "      <td>2012</td>\n",
       "      <td>4.235284</td>\n",
       "      <td>65000000.0</td>\n",
       "      <td>275293450.0</td>\n",
       "    </tr>\n",
       "    <tr>\n",
       "      <th>25186</th>\n",
       "      <td>Night Gallery</td>\n",
       "      <td>1969</td>\n",
       "      <td>0.000000</td>\n",
       "      <td>0.0</td>\n",
       "      <td>0.0</td>\n",
       "    </tr>\n",
       "    <tr>\n",
       "      <th>36454</th>\n",
       "      <td>Bridge of Spies</td>\n",
       "      <td>2015</td>\n",
       "      <td>4.136959</td>\n",
       "      <td>40000000.0</td>\n",
       "      <td>165478348.0</td>\n",
       "    </tr>\n",
       "    <tr>\n",
       "      <th>42358</th>\n",
       "      <td>The BFG</td>\n",
       "      <td>2016</td>\n",
       "      <td>1.309611</td>\n",
       "      <td>140000000.0</td>\n",
       "      <td>183345589.0</td>\n",
       "    </tr>\n",
       "    <tr>\n",
       "      <th>44059</th>\n",
       "      <td>Something Evil</td>\n",
       "      <td>1972</td>\n",
       "      <td>0.000000</td>\n",
       "      <td>0.0</td>\n",
       "      <td>0.0</td>\n",
       "    </tr>\n",
       "  </tbody>\n",
       "</table>\n",
       "</div>"
      ],
      "text/plain": [
       "                                                   title  release_year  \\\n",
       "492                                        Jurassic Park          1993   \n",
       "542                                     Schindler's List          1993   \n",
       "1126                          E.T. the Extra-Terrestrial          1982   \n",
       "1227                             Raiders of the Lost Ark          1981   \n",
       "1328                  Indiana Jones and the Last Crusade          1989   \n",
       "1425                                                Jaws          1975   \n",
       "1568                       The Lost World: Jurassic Park          1997   \n",
       "1711                                             Amistad          1997   \n",
       "2033                                 Saving Private Ryan          1998   \n",
       "2140                Indiana Jones and the Temple of Doom          1984   \n",
       "2786                                    The Color Purple          1985   \n",
       "3570                  Close Encounters of the Third Kind          1977   \n",
       "3589                                                Hook          1991   \n",
       "3850                               The Sugarland Express          1974   \n",
       "4241                                   Empire of the Sun          1987   \n",
       "4524                        A.I. Artificial Intelligence          2001   \n",
       "4725                                              Always          1989   \n",
       "5639                                     Minority Report          2002   \n",
       "6212                                 Catch Me If You Can          2002   \n",
       "7379                                                1941          1979   \n",
       "8323                                        The Terminal          2004   \n",
       "9212                                                Duel          1972   \n",
       "9386                            Twilight Zone: The Movie          1983   \n",
       "10833                                  War of the Worlds          2005   \n",
       "11334                                             Munich          2005   \n",
       "13512  Indiana Jones and the Kingdom of the Crystal S...          2008   \n",
       "19558                           The Adventures of Tintin          2011   \n",
       "19647                                          War Horse          2011   \n",
       "21498                                            Lincoln          2012   \n",
       "25186                                      Night Gallery          1969   \n",
       "36454                                    Bridge of Spies          2015   \n",
       "42358                                            The BFG          2016   \n",
       "44059                                     Something Evil          1972   \n",
       "\n",
       "          return       budget      revenue  \n",
       "492    14.604762   63000000.0  920100000.0  \n",
       "542    14.607526   22000000.0  321365567.0  \n",
       "1126   75.520507   10500000.0  792965326.0  \n",
       "1227   21.662554   18000000.0  389925971.0  \n",
       "1328    9.878579   48000000.0  474171806.0  \n",
       "1425   67.236286    7000000.0  470654000.0  \n",
       "1568    3.138007   73000000.0  229074524.0  \n",
       "1711    2.055556   36000000.0   74000000.0  \n",
       "2033    6.883442   70000000.0  481840909.0  \n",
       "2140   11.892857   28000000.0  333000000.0  \n",
       "2786    9.752801   15000000.0  146292009.0  \n",
       "3570   15.189432   20000000.0  303788635.0  \n",
       "3589    4.297926   70000000.0  300854823.0  \n",
       "3850    4.266667    3000000.0   12800000.0  \n",
       "4241    0.635391   35000000.0   22238696.0  \n",
       "4524    2.359266  100000000.0  235926552.0  \n",
       "4725    2.391445   31000000.0   74134790.0  \n",
       "5639    3.513460  102000000.0  358372926.0  \n",
       "6212    6.771429   52000000.0  352114312.0  \n",
       "7379    0.907307   35000000.0   31755742.0  \n",
       "8323    3.656954   60000000.0  219417255.0  \n",
       "9212    0.000000     450000.0          0.0  \n",
       "9386    2.945092   10000000.0   29450919.0  \n",
       "10833   4.482874  132000000.0  591739379.0  \n",
       "11334   1.862270   70000000.0  130358911.0  \n",
       "13512   4.252087  185000000.0  786636033.0  \n",
       "19558   2.861077  130000000.0  371940071.0  \n",
       "19647   2.690680   66000000.0  177584879.0  \n",
       "21498   4.235284   65000000.0  275293450.0  \n",
       "25186   0.000000          0.0          0.0  \n",
       "36454   4.136959   40000000.0  165478348.0  \n",
       "42358   1.309611  140000000.0  183345589.0  \n",
       "44059   0.000000          0.0          0.0  "
      ]
     },
     "execution_count": 139,
     "metadata": {},
     "output_type": "execute_result"
    }
   ],
   "source": [
    "output_df = output_df[output_df[\"name\"] == \"Steven Spielberg\"].drop(columns=\"name\")\n",
    "output_df"
   ]
  },
  {
   "cell_type": "code",
   "execution_count": 145,
   "metadata": {},
   "outputs": [
    {
     "ename": "NameError",
     "evalue": "name 'movies' is not defined",
     "output_type": "error",
     "traceback": [
      "\u001b[1;31m---------------------------------------------------------------------------\u001b[0m",
      "\u001b[1;31mNameError\u001b[0m                                 Traceback (most recent call last)",
      "Cell \u001b[1;32mIn[145], line 3\u001b[0m\n\u001b[0;32m      1\u001b[0m {\n\u001b[0;32m      2\u001b[0m     \n\u001b[1;32m----> 3\u001b[0m     movies: \u001b[39mdict\u001b[39m(output_df\u001b[39m.\u001b[39miloc[\u001b[39m0\u001b[39m,:])\n\u001b[0;32m      4\u001b[0m     }\n",
      "\u001b[1;31mNameError\u001b[0m: name 'movies' is not defined"
     ]
    }
   ],
   "source": [
    "{\n",
    "    \n",
    "    movies: {\n",
    "        Datos de pelicula 1\n",
    "    }\n",
    "\n",
    "}"
   ]
  },
  {
   "cell_type": "code",
   "execution_count": 143,
   "metadata": {},
   "outputs": [
    {
     "data": {
      "text/plain": [
       "{'title': 'Jurassic Park',\n",
       " 'release_year': 1993,\n",
       " 'return': 14.604761904761904,\n",
       " 'budget': 63000000.0,\n",
       " 'revenue': 920100000.0}"
      ]
     },
     "execution_count": 143,
     "metadata": {},
     "output_type": "execute_result"
    }
   ],
   "source": [
    "dict(output_df.iloc[0,:])"
   ]
  },
  {
   "cell_type": "code",
   "execution_count": null,
   "metadata": {},
   "outputs": [],
   "source": [
    "{\n",
    "    'director':nombre_director, \n",
    "    'retorno_total_director':respuesta, \n",
    "    'peliculas': [\n",
    "                {\"titulo\": respuesta1, \n",
    "                'anio':respuesta1, \n",
    "                'retorno_pelicula':respuesta1, \n",
    "                'budget_pelicula':respuesta1, \n",
    "                'revenue_pelicula':respuesta1},\n",
    "                \n",
    "                {\"titulo\": respuesta2, \n",
    "                'anio':respuesta2, \n",
    "                'retorno_pelicula':respuesta2, \n",
    "                'budget_pelicula':respuesta2, \n",
    "                'revenue_pelicula':respuesta2},\n",
    "\n",
    "                ]\n",
    "}"
   ]
  },
  {
   "attachments": {},
   "cell_type": "markdown",
   "metadata": {},
   "source": [
    "# EDA PARA EL 1."
   ]
  },
  {
   "cell_type": "code",
   "execution_count": 87,
   "metadata": {},
   "outputs": [],
   "source": [
    "import seaborn as sns\n",
    "import matplotlib.pyplot as plt"
   ]
  },
  {
   "cell_type": "code",
   "execution_count": 120,
   "metadata": {},
   "outputs": [
    {
     "data": {
      "image/png": "[encoded data removed]",
      "text/plain": [
       "<Figure size 640x480 with 1 Axes>"
      ]
     },
     "metadata": {},
     "output_type": "display_data"
    }
   ],
   "source": [
    "sns.set(context=\"notebook\")\n",
    "sns.scatterplot(df_movies, x=\"budget\", y=\"revenue\")\n",
    "plt.xlabel(\"Budget\")\n",
    "plt.ylabel(\"Revenue\")\n",
    "plt.title(\"Budget vs Revenue\")\n",
    "plt.xlim(0,15)\n",
    "plt.ylim(0, 20000000)\n",
    "plt.ticklabel_format(style='plain', axis='both')\n"
   ]
  }
 ],
 "metadata": {
  "kernelspec": {
   "display_name": "venv",
   "language": "python",
   "name": "python3"
  },
  "language_info": {
   "codemirror_mode": {
    "name": "ipython",
    "version": 3
   },
   "file_extension": ".py",
   "mimetype": "text/x-python",
   "name": "python",
   "nbconvert_exporter": "python",
   "pygments_lexer": "ipython3",
   "version": "3.10.11"
  },
  "orig_nbformat": 4
 },
 "nbformat": 4,
 "nbformat_minor": 2
}
